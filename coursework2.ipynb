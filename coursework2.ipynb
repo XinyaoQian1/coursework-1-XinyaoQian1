{
 "cells": [
  {
   "cell_type": "markdown",
   "metadata": {
    "collapsed": true,
    "pycharm": {
     "name": "#%% md\n"
    }
   },
   "source": [
    "# Coursework 2 portfolio\n",
    "\n",
    "Most students will use the same repository for coursework 2. You may use this file to present the results of that\n",
    "coursework if you wish. Alternatively you can use video or audio to provide the explanations instead of writing them."
   ],
   "outputs": []
  },
  {
   "cell_type": "markdown",
   "source": [
    "\n",
    "## Requirements definition and analysis\n",
    "The term 'requirements' is used in the broader sense, user stories and/or use cases may be used."
   ],
   "metadata": {
    "collapsed": false
   }
  },
  {
   "cell_type": "markdown",
   "source": [
    "### Requirements identification methods\n",
    "***Interview***:\n",
    "Interviews of stakeholders and users are critical to\n",
    "creating the great software. For the web app, we could\n",
    "interview the project manager and the data analysts\n",
    "who are identified as\n",
    "stakeholders. We should properly weigh and\n",
    "address their inputs considering data analysts will be the\n",
    "most often users of the developed app.\n",
    "\n",
    "***Workshop***:\n",
    " Workshops can be very effective for gathering requirements. More structured than a brainstorming session, involved parties collaborate to document requirements. One way to capture the collaboration is with creation of domain-model artifacts (like static diagrams, activity diagrams).\n",
    "\n",
    "***Survey/Questionnaire***:\n",
    "When collecting information from many people – too many to interview with budget and time constraints – a survey or questionnaire can be used. The survey can force users to select from choices, rate something (“Agree Strongly, agree…”), or have open ended questions allowing free-form responses. Survey design is hard – questions can bias the respondents.\n",
    "\n",
    "***Interface analysis***:\n",
    "Interfaces for a software product can be human or machine. Integration with external systems and devices is just another interface. User centric design approaches are very effective at making sure that we create usable software. Interface analysis – reviewing the touch points with other external systems is important to make sure we don’t overlook requirements that aren’t immediately visible to users.\n",
    "\n",
    "***Focus group***:\n",
    "A focus group is a gathering of people who are representative of the users or customers of a product to get feedback. The feedback can be gathered about needs/opportunities/ problems to identify requirements, or can be gathered to validate and refine already elicited requirements. This form of market research is distinct from brainstorming in that it is a managed process with specific participants.\n",
    "\n",
    "***Observation or ethnography***:\n",
    "By observing users, an analyst can identify a process flow, steps, pain points and opportunities for improvement. Observations can be passive or active (asking questions while observing). Passive observation is better for getting feedback on a prototype (to refine requirements), where active observation is more effective at getting an understanding of an existing business process. Either approach can be used.\n",
    "\n",
    "***Brainstorming***:\n",
    "Brainstorming is used in requirement gathering to get as\n",
    "many ideas as possible from group of people. Generally used to identify possible solutions to problems, and clarify details of opportunities.\n",
    "\n",
    "***Prototyping***:\n",
    "Prototyping is a relatively modern technique for gathering requirements. In this approach, you gather preliminary requirements that you use to build an initial version of the solution - a prototype. You show this to the client, who then gives you additional requirements. You change the application and cycle around with the client again. This repetitive process continues until the product meets the critical mass of business needs or for an agreed number of iterations.\n",
    "\n",
    "\n",
    "***Analysing documentation***:\n",
    "Reviewing the documentation of an existing system can help when creating AS–IS process document, as well as driving gap analysis for scoping of migration projects. In an ideal world, we would even be reviewing the requirements that drove creation of the existing system – a starting point for documenting current requirements. Nuggets of information are often buried in existing documents that help us ask questions as part of validating requirement completeness.\n",
    "\n",
    "\n",
    "Due to constrains of the project, Brainstorming was\n",
    "selected.\n",
    "#### Context Diagram\n",
    "<img src=\"Context Diagram.png\" width=\"600\" height=\"400\">"
   ],
   "metadata": {
    "collapsed": false
   }
  },
  {
   "cell_type": "markdown",
   "source": [],
   "metadata": {
    "collapsed": false
   }
  },
  {
   "cell_type": "markdown",
   "source": [
    "\n",
    "\n",
    "### Requirement specification method\n",
    "\n",
    "### Prioritisation method\n",
    "\n",
    "### Documented and prioritised requirements\n",
    "Link to the full list of documented and prioritised requirements.\n",
    "\n",
    "\n",
    "## Design\n",
    "### Structure and flow of the interface\n",
    "\n",
    "### Relational database design\n",
    "\n",
    "### Application structure\n",
    "\n",
    "\n",
    "## Testing\n",
    "### Choice of unit testing library\n",
    "\n",
    "### Tests\n",
    "The tests should be in a separate and appropriately named file/directory.\n",
    "\n",
    "### Test results\n",
    "Provide evidence that the tests have been run and the results of the tests (e.g. screenshot).\n",
    "\n",
    "### Continuous integration (optional)\n",
    "Consider using GitHub Actions (or other) to establish a continuous integration pipeline. If you do so then please provide a link to the .yml and a screenshot of the results of a workflow run.\n",
    "\n",
    "## Weekly progress reports\n",
    "\n",
    "Copy and paste from Moodle or use the following structure. Delete this instruction text.\n",
    "\n",
    "What I did in the last week:\n",
    "\n",
    "- item\n",
    "- item\n",
    "\n",
    "What I plan to do in the next week:\n",
    "\n",
    "- item\n",
    "- item\n",
    "\n",
    "Issues blocking my progress (state ‘None’ if there are no issues):\n",
    "\n",
    "- item\n",
    "- item\n",
    "\n",
    "### Report 1\n",
    "\n",
    "### Report 2\n",
    "\n",
    "### Report 3\n",
    "\n",
    "### Report 4\n",
    "\n",
    "## References\n",
    "\n",
    "Delete this instruction text before submitting:\n",
    "\n",
    "- Include references to any templates you have used.\n",
    "- If you justify any of your choices with references then remember to also include these.\n",
    "- Use any [referencing style](https://library-guides.ucl.ac.uk/referencing-plagiarism/referencing-styles) that you are\n",
    "  used to using in your course."
   ],
   "metadata": {
    "collapsed": false
   }
  }
 ],
 "metadata": {
  "kernelspec": {
   "display_name": "Python 3",
   "language": "python",
   "name": "python3"
  },
  "language_info": {
   "codemirror_mode": {
    "name": "ipython",
    "version": 2
   },
   "file_extension": ".py",
   "mimetype": "text/x-python",
   "name": "python",
   "nbconvert_exporter": "python",
   "pygments_lexer": "ipython2",
   "version": "2.7.6"
  }
 },
 "nbformat": 4,
 "nbformat_minor": 0
}