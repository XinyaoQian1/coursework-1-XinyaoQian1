{
 "cells": [
  {
   "cell_type": "markdown",
   "metadata": {
    "collapsed": true,
    "pycharm": {
     "name": "#%% md\n"
    }
   },
   "source": [
    "# Coursework 2 portfolio\n",
    "\n",
    "Most students will use the same repository for coursework 2. You may use this file to present the results of that\n",
    "coursework if you wish. Alternatively you can use video or audio to provide the explanations instead of writing them.\n",
    "\n",
    "## Requirements definition and analysis\n",
    "The term 'requirements' is used in the broader sense, user stories and/or use cases may be used.\n",
    "### Requirements identification methods\n",
    "\n",
    "### Requirement specification method\n",
    "\n",
    "### Prioritisation method\n",
    "\n",
    "### Documented and prioritised requirements\n",
    "Link to the full list of documented and prioritised requirements.\n",
    "\n",
    "\n",
    "## Design\n",
    "### Structure and flow of the interface\n",
    "\n",
    "### Relational database design\n",
    "\n",
    "### Application structure\n",
    "\n",
    "\n",
    "## Testing\n",
    "### Choice of unit testing library\n",
    "\n",
    "### Tests\n",
    "The tests should be in a separate and appropriately named file/directory.\n",
    "\n",
    "### Test results\n",
    "Provide evidence that the tests have been run and the results of the tests (e.g. screenshot).\n",
    "\n",
    "### Continuous integration (optional)\n",
    "Consider using GitHub Actions (or other) to establish a continuous integration pipeline. If you do so then please provide a link to the .yml and a screenshot of the results of a workflow run.\n",
    "\n",
    "## Weekly progress reports\n",
    "\n",
    "Copy and paste from Moodle or use the following structure. Delete this instruction text.\n",
    "\n",
    "What I did in the last week:\n",
    "\n",
    "- item\n",
    "- item\n",
    "\n",
    "What I plan to do in the next week:\n",
    "\n",
    "- item\n",
    "- item\n",
    "\n",
    "Issues blocking my progress (state ‘None’ if there are no issues):\n",
    "\n",
    "- item\n",
    "- item\n",
    "\n",
    "### Report 1\n",
    "\n",
    "### Report 2\n",
    "\n",
    "### Report 3\n",
    "\n",
    "### Report 4\n",
    "\n",
    "## References\n",
    "\n",
    "Delete this instruction text before submitting:\n",
    "\n",
    "- Include references to any templates you have used.\n",
    "- If you justify any of your choices with references then remember to also include these.\n",
    "- Use any [referencing style](https://library-guides.ucl.ac.uk/referencing-plagiarism/referencing-styles) that you are\n",
    "  used to using in your course."
   ],
   "outputs": []
  }
 ],
 "metadata": {
  "kernelspec": {
   "display_name": "Python 3",
   "language": "python",
   "name": "python3"
  },
  "language_info": {
   "codemirror_mode": {
    "name": "ipython",
    "version": 2
   },
   "file_extension": ".py",
   "mimetype": "text/x-python",
   "name": "python",
   "nbconvert_exporter": "python",
   "pygments_lexer": "ipython2",
   "version": "2.7.6"
  }
 },
 "nbformat": 4,
 "nbformat_minor": 0
}