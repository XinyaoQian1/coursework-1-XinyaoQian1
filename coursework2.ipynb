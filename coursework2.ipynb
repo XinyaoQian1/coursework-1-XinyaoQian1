{
 "cells": [
  {
   "cell_type": "markdown",
   "metadata": {
    "collapsed": true,
    "pycharm": {
     "name": "#%% md\n"
    }
   },
   "source": [
    "# Coursework 2 portfolio\n",
    "\n",
    "Most students will use the same repository for coursework 2. You may use this file to present the results of that\n",
    "coursework if you wish. Alternatively you can use video or audio to provide the explanations instead of writing them."
   ]
  },
  {
   "cell_type": "markdown",
   "metadata": {},
   "source": [
    "\n",
    "## Requirements definition and analysis\n",
    "The term 'requirements' is used in the broader sense, user stories and/or use cases may be used.\n",
    "\n"
   ]
  },
  {
   "cell_type": "markdown",
   "metadata": {},
   "source": [
    "### Requirements identification methods\n",
    "***Interview***:\n",
    "Interviews of stakeholders and users are critical to\n",
    "creating the great software. For the web app, we could\n",
    "interview the project manager and the data analysts\n",
    "who are identified as\n",
    "stakeholders. We should properly weigh and\n",
    "address their inputs considering data analysts will be the\n",
    "most often users of the developed app.\n",
    "\n",
    "***Workshop***:\n",
    " Workshops can be very effective for gathering requirements. More structured than a brainstorming session, involved parties collaborate to document requirements. One way to capture the collaboration is with creation of domain-model artifacts (like static diagrams, activity diagrams).\n",
    "\n",
    "***Survey/Questionnaire***:\n",
    "When collecting information from many people – too many to interview with budget and time constraints – a survey or questionnaire can be used. The survey can force users to select from choices, rate something (“Agree Strongly, agree…”), or have open ended questions allowing free-form responses. Survey design is hard – questions can bias the respondents.\n",
    "\n",
    "***Interface analysis***:\n",
    "Interfaces for a software product can be human or machine. Integration with external systems and devices is just another interface. User centric design approaches are very effective at making sure that we create usable software. Interface analysis – reviewing the touch points with other external systems is important to make sure we don’t overlook requirements that aren’t immediately visible to users.\n",
    "\n",
    "***Focus group***:\n",
    "A focus group is a gathering of people who are representative of the users or customers of a product to get feedback. The feedback can be gathered about needs/opportunities/ problems to identify requirements, or can be gathered to validate and refine already elicited requirements. This form of market research is distinct from brainstorming in that it is a managed process with specific participants.\n",
    "\n",
    "***Observation or ethnography***:\n",
    "By observing users, an analyst can identify a process flow, steps, pain points and opportunities for improvement. Observations can be passive or active (asking questions while observing). Passive observation is better for getting feedback on a prototype (to refine requirements), where active observation is more effective at getting an understanding of an existing business process. Either approach can be used.\n",
    "\n",
    "***Brainstorming***:\n",
    "Brainstorming is used in requirement gathering to get as\n",
    "many ideas as possible from group of people. Generally used to identify possible solutions to problems, and clarify details of opportunities.\n",
    "\n",
    "***Prototyping***:\n",
    "Prototyping is a relatively modern technique for gathering requirements. In this approach, you gather preliminary requirements that you use to build an initial version of the solution - a prototype. You show this to the client, who then gives you additional requirements. You change the application and cycle around with the client again. This repetitive process continues until the product meets the critical mass of business needs or for an agreed number of iterations.\n",
    "\n",
    "\n",
    "***Analysing documentation***:\n",
    "Reviewing the documentation of an existing system can help when creating AS–IS process document, as well as driving gap analysis for scoping of migration projects. In an ideal world, we would even be reviewing the requirements that drove creation of the existing system – a starting point for documenting current requirements. Nuggets of information are often buried in existing documents that help us ask questions as part of validating requirement completeness.\n",
    "\n",
    "\n",
    "Due to constrains of the project, Brainstorming was\n",
    "selected.\n",
    "#### Context Diagram\n",
    "<img src=\"Context Diagram.png\" width=\"600\" height=\"400\">"
   ]
  },
  {
   "cell_type": "markdown",
   "metadata": {},
   "source": []
  },
  {
   "cell_type": "markdown",
   "metadata": {},
   "source": [
    "\n",
    "\n",
    "### Requirement specification method\n",
    "Method : User stories\n",
    "User stories give you a lot of expressiveness and fl exibility without a lot of extra work. (In management speak, user stories allow you to leverage existing competencies to empower stakeholders.) User stories do have some drawbacks. For example, you can easily write stories that are confusing, ambiguous, inconsistent with other stories, and unverifi able. Of course, that’s true of any method ofrecording requirements.\n",
    "User story slicing and splitting \n",
    "    Each acceptance criterion should be independently testable\n",
    "    Each acceptance criterion test should have a clear pass/fail result\n",
    "    Acceptance criteria should be focused on the end result (functionality), not the mechanism through which it is achieved\n",
    "    When relevant, \"hidden\" non-functional criteria should be included"
   ]
  },
  {
   "cell_type": "markdown",
   "metadata": {},
   "source": [
    "<table>\n",
    "    <tr>\n",
    "        <td></td>\n",
    "        <td>User Stories</td>\n",
    "        <td>Acceptance Criteria </td>\n",
    "    </tr>\n",
    "    <tr>\n",
    "        <td>1</td>\n",
    "        <td>As a new user, I want to register by creating a username and password so that the system can remenber me and my data.</td>\n",
    "        <td>1. Given that I am a new user, when I go to the\n",
    "         signup page and enter a username and password and click on sign up, then I am successfully registered and able to log in with my chosen credentials.</td>\n",
    "    </tr>\n",
    "    <tr>\n",
    "        <td>2</td>\n",
    "        <td>As a registered user, I want to log in the web app with my username and password so that the system can authenticate me .</td>\n",
    "        <td>1.\tGiven that I am a registered user and logged out if I go to the login page and enter my username and password and click on Log in, then the data associated with my user should be accessible.\n",
    "        <br> 2. Given that I am a registered user and logged\n",
    "        out if I go to the login page and enter my username but an incorrect password and click on Log in, then log in fails with an error message that specifies that the username or password was wrong.\n",
    "        </td>\n",
    "    </tr>\n",
    "    <tr>\n",
    "        <td>3</td>\n",
    "        <td>As a registered user, I want to be able to reset my password occationally so that I can keep it secure.</td>\n",
    "        <td>1.\tGiven that I am a registered user who chose to reset my password, and now verification of my current password is needed. If I enter the current password right, I will be direct to the password reset page to enter my new password.\n",
    "  <br>2.\tGiven that I am a registered user who chose to reset my password, and now verification of my current password is needed. If I enter the current password wrong, then the verification was failed with an error message that specifies that the username or password was wrong.\n",
    "  <br>3.\tGiven that I verify my current password successfully and am now at the stage of entering my new password. If my entered new password is different from the current one after I click on continue, I will be directed to the login page and able to log in with my new password.\n",
    "  <br>4.\tGiven that I verify my current password successfully and am now at the stage of entering my new password. If my entered new password is the same as the current one, after I click on continue, I will stay at the password reset page with an error message that specifies that the new password was the same as the current one.\n",
    "</td>\n",
    "    </tr>\n",
    "    <tr>\n",
    "        <td>4</td>\n",
    "        <td>As a web app user, I want search functionality to be available on all pages so that I can search for data.</td>\n",
    "        <td>1.\tA search box appears on the home page.\n",
    "  <br>2.\tA search box appears at the top of every result page.\n",
    "</td>\n",
    "    </tr>\n",
    "    <tr>\n",
    "        <td>5</td>\n",
    "        <td>As a web app user, I want a search box so that I can look for data by entering key words.</td>\n",
    "        <td>1.\tThe search box should accept alphanumeric values.\n",
    "<br>2.\tSearch results should display 10 items per page.\n",
    "<br>3.\tThe system responds to all search requests within 2 seconds of receiving the request.\n",
    "</td>\n",
    "    </tr>\n",
    "    <tr>\n",
    "        <td>6</td>\n",
    "        <td>As a web app user, I want a filter function so that I can select a period of data.</td>\n",
    "        <td>1.\tWhen I select a date, I shall have three boxes to select the day, the month, and the year respectively, always with the option to leave the box empty.\n",
    "<br>2.\tOnly the period with available data can be selected, if the date selected is out of range, an error message will be sent to notify this.\n",
    "</td>\n",
    "    </tr>\n",
    "    <tr>\n",
    "        <td>7</td>\n",
    "        <td>As a data analyst, I want to be able to export my chosen data so that I can carry out analysis.</td>\n",
    "        <td>1.\tWhen I want to download the data as a file, I should be able to rename the file.\n",
    "<br>2.\tI should be able to choose the format as CSV., doc., etc.\n",
    "<br>3.\tThere should be a step to define the download pathway.\n",
    "</td>\n",
    "    </tr>\n",
    "    <tr>\n",
    "        <td>8</td>\n",
    "        <td>As a data analyst, I want to tailor my visulisations so that I can have my preferred  plot.</td>\n",
    "        <td>1.\tI should be able to change the colour of my plot.\n",
    "<br>2.\tI should be able to zoom in or out my plot\n",
    "</td>\n",
    "    </tr>\n",
    "    <tr>\n",
    "        <td>9</td>\n",
    "        <td>As a data analys, I want to be able to export my tailored visualisations so that I can use those plots in my report. </td>\n",
    "        <td>1.\tI should be able to rename the file.\n",
    "<br>2.\tI should be able to define the download pathway.\n",
    "<br>3.\tI should be able to choose the file format as jpg., pdf, etc.\n",
    "</td>\n",
    "    </tr>\n",
    "    <tr>\n",
    "        <td>10</td>\n",
    "        <td>As a registered user, I want to be notified if there have been unsuccessful export process so that I can report to technical  teams.</td>\n",
    "        <td>1.\tIf the file is not exported successfully, a notification of unsuccessful exportation should appear.\n",
    "<br>2.\tThe system should ask me if I want to share my unsuccessful exportation report with the technical team with yes and no tabs.\n",
    "</td>\n",
    "    </tr>\n",
    "    <tr>\n",
    "        <td>11</td>\n",
    "        <td>As a web app user, I want to be able to run the web app on macOS  so that it works on my office devices.</td>\n",
    "        <td>1.\tThe app should be able to run on macOS 10.15.7 and later visions.</td>\n",
    "    </tr>\n",
    "    <tr>\n",
    "        <td>12</td>\n",
    "        <td>As a data analyst, I want to be able to submit my report so that I can finish my task.</td>\n",
    "        <td>1.\tI can select a file from my PC.\n",
    "<br>2.\tI can add a title to my submission.\n",
    "</td>\n",
    "    </tr>\n",
    "    <tr>\n",
    "        <td>13</td>\n",
    "        <td>As a manager, I want to be able to view to reprots so that I can understand our business.</td>\n",
    "        <td>1.\tI can preview the file within the app.\n",
    "<br>2.\tI can get the detail of whom submitted it.\n",
    "    </tr>\n",
    "        <tr>\n",
    "        <td>14</td>\n",
    "        <td>As a web app user, I want to be able to view \n",
    "        data visuallisations \n",
    "        so that I can understand the corresponding raw \n",
    "        data better.\n",
    "        .</td>\n",
    "        <td>1.\tThe data visuallisations can be zoomed in\n",
    "         and out.\n",
    "<br>2.\tThe data visuallisations resolutions should be \n",
    "300 or above.\n",
    "    </tr>\n",
    "\n",
    "  \n",
    "</table>"
   ]
  },
  {
   "cell_type": "markdown",
   "metadata": {},
   "source": [
    "\n",
    "### Prioritisation method\n",
    "Story mapping  \n",
    "A user's story map is a powerful visual that helps the entire team see the forest though the trees. By organizing user stories in a visual format. A story map is all about telling the whole story versus a small part of it. It's a technique that keeps the team focused on the user experience and results in better dialogue and conversation.\n",
    "  \n",
    " To create a user story map we take all the user stories for a product release and place them into a sequence of how a customer uses the product. From the left to the right. The vertical columns of the story map provide details under the higher level story or theme.\n",
    " <img src=\"User story card.jpg\" width=\"900\" height=\"500\">\n"
   ]
  },
  {
   "cell_type": "code",
   "execution_count": null,
   "outputs": [],
   "source": [],
   "metadata": {
    "collapsed": false,
    "pycharm": {
     "name": "#%%\n"
    }
   }
  },
  {
   "cell_type": "markdown",
   "source": [],
   "metadata": {
    "collapsed": false
   }
  },
  {
   "cell_type": "markdown",
   "metadata": {},
   "source": [
    " - So how do we know the user story will meet all of the users expectations? Teams define this with acceptance criteria, which are the conditions that tell us when the user story is working as intended and satisfying the customer.\n",
    " - The list focuses on outcomes that a user would be able to pass or fail without any working technical knowledge. Acceptance criteria is not meant to be an all inclusive list of every detail but it gives the team enough to go on and enough information to remember, discuss, and test the story.\n"
   ]
  },
  {
   "cell_type": "markdown",
   "metadata": {},
   "source": [
    "A story map tells the whole story versus a small part of it. It's a technique that keeps the team focused on the user experience and results in better dialog and conversation. To create a user story map, we take all the user stories and place them in sequence of how a customer uses the product from left to right. The vertical columns of a story map provide the details under the higher level story or theme. For our online coffee store, user stories about browsing and searching would be on the left followed by selecting items, managing the cart, checkout, and on the far right, stories related to viewing shipping status or viewing previous orders. The stories listed vertically are detailed out such that the top line are buckets of stories or a theme and the detailed stories come below. Story mapping is a great way to discover gaps in requirements and analyze flow, data, and the user journey. User stories and story maps are great analysis techniques for all projects. I encourage you to continue to learn more about how to use this great technique to discover high quality requirements.\n",
    " \n",
    "### Documented and prioritised requirements\n",
    "Link to the full list of documented and prioritised requirements.\n",
    "\n",
    "[Online version](https://lucid.app/lucidchart/0c9ea061-89f3-4c0d-8d18-532b8733d7eb/edit?viewport_loc=-295%2C-214%2C2959%2C1442%2C0_0&invitationId=inv_ce895421-9818-4a1f-8391-546ccadc58e4)\n",
    "<img src=\"User story map .png\" width=\"800\" height=\"700\" >|"
   ]
  },
  {
   "cell_type": "markdown",
   "metadata": {},
   "source": []
  },
  {
   "cell_type": "markdown",
   "metadata": {},
   "source": [
    "\n",
    "## Design\n",
    "### Structure and flow of the interface\n",
    "<img src=\"UI.jpg\" width=\"900\" height=\"440\" >|\n",
    "### Relational database design\n",
    "\n",
    "### Application structure\n"
   ]
  },
  {
   "cell_type": "markdown",
   "metadata": {},
   "source": []
  },
  {
   "cell_type": "markdown",
   "metadata": {},
   "source": [
    "\n",
    "## Testing\n",
    "### Choice of unit testing library\n",
    "\n",
    "### Tests\n",
    "The tests should be in a separate and appropriately named file/directory.\n",
    "\n",
    "### Test results\n",
    "Provide evidence that the tests have been run and the results of the tests (e.g. screenshot).\n",
    "\n",
    "### Continuous integration (optional)\n",
    "Consider using GitHub Actions (or other) to establish a continuous integration pipeline. If you do so then please provide a link to the .yml and a screenshot of the results of a workflow run."
   ]
  },
  {
   "cell_type": "markdown",
   "metadata": {},
   "source": []
  },
  {
   "cell_type": "markdown",
   "metadata": {},
   "source": [
    "\n",
    "## Weekly progress reports\n",
    "\n",
    "Copy and paste from Moodle or use the following structure. Delete this instruction text.\n",
    "\n",
    "What I did in the last week:\n",
    "\n",
    "- item\n",
    "- item\n",
    "\n",
    "What I plan to do in the next week:\n",
    "\n",
    "- item\n",
    "- item\n",
    "\n",
    "Issues blocking my progress (state ‘None’ if there are no issues):\n",
    "\n",
    "- item\n",
    "- item\n",
    "\n",
    "### Report 1\n",
    "\n",
    "### Report 2\n",
    "\n",
    "### Report 3\n",
    "\n",
    "### Report 4\n",
    "\n",
    "## References\n",
    "\n",
    "Delete this instruction text before submitting:\n",
    "\n",
    "- Include references to any templates you have used.\n",
    "- If you justify any of your choices with references then remember to also include these.\n",
    "- Use any [referencing style](https://library-guides.ucl.ac.uk/referencing-plagiarism/referencing-styles) that you are\n",
    "  used to using in your course."
   ]
  },
  {
   "cell_type": "code",
   "execution_count": null,
   "metadata": {
    "pycharm": {
     "name": "#%%\n"
    }
   },
   "outputs": [],
   "source": []
  },
  {
   "cell_type": "code",
   "execution_count": null,
   "metadata": {
    "pycharm": {
     "name": "#%%\n"
    }
   },
   "outputs": [],
   "source": []
  },
  {
   "cell_type": "code",
   "execution_count": null,
   "metadata": {
    "pycharm": {
     "name": "#%%\n"
    }
   },
   "outputs": [],
   "source": []
  },
  {
   "cell_type": "code",
   "execution_count": null,
   "metadata": {
    "pycharm": {
     "name": "#%%\n"
    }
   },
   "outputs": [],
   "source": []
  }
 ],
 "metadata": {
  "kernelspec": {
   "display_name": "Python 3 (ipykernel)",
   "language": "python",
   "name": "python3"
  },
  "language_info": {
   "codemirror_mode": {
    "name": "ipython",
    "version": 3
   },
   "file_extension": ".py",
   "mimetype": "text/x-python",
   "name": "python",
   "nbconvert_exporter": "python",
   "pygments_lexer": "ipython3",
   "version": "3.9.1"
  }
 },
 "nbformat": 4,
 "nbformat_minor": 1
}