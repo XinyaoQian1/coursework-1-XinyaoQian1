{
 "cells": [
  {
   "cell_type": "markdown",
   "metadata": {
    "collapsed": true,
    "pycharm": {
     "name": "#%% md\n"
    }
   },
   "source": [
    "## Problem 1: Open a data set from .csv file in a pandas data frame\n",
    "\n",
    "1. Create a new python code file (or open `pbl4_problem1.py`)\n",
    "2. Add a line to import pandas as pd\n",
    "3. Add a line of code to create a dataframe by reading the file from csv (see URL below if you don't have a dataset in\n",
    "   your repo)\n",
    "    - Use [pandas.read_csv](https://pandas.pydata.org/docs/reference/api/pandas.read_csv.html). This method infers the\n",
    "      column names from the first row by default. If you are using your own data set in .xlsx format then refer\n",
    "      to [pandas.read_excel](https://pandas.pydata.org/docs/reference/api/pandas.read_excel.html)\n",
    "    - If you didn't clone the classroom repo then you can still access the data file from GitHub using the URL\n",
    "      `https://raw.githubusercontent.com/nicholsons/comp0035_pbl4/master/data/paralympics_raw.csv?token=AHBUVRXMMNPI7VSWY4P34IDBO2TES`"
   ]
  },
  {
   "cell_type": "code",
   "execution_count": 1,
   "outputs": [
    {
     "data": {
      "text/plain": "         Date  Rented Bike Count  Hour  Temperature(°C)  Humidity(%)  \\\n0  01/12/2017                254     0             -5.2           37   \n1  01/12/2017                204     1             -5.5           38   \n2  01/12/2017                173     2             -6.0           39   \n3  01/12/2017                107     3             -6.2           40   \n4  01/12/2017                 78     4             -6.0           36   \n\n   Wind speed (m/s)  Visibility (10m)  Dew point temperature(°C)  \\\n0               2.2              2000                      -17.6   \n1               0.8              2000                      -17.6   \n2               1.0              2000                      -17.7   \n3               0.9              2000                      -17.6   \n4               2.3              2000                      -18.6   \n\n   Solar Radiation (MJ/m2)  Rainfall(mm)  Snowfall (cm) Seasons     Holiday  \\\n0                      0.0           0.0            0.0  Winter  No Holiday   \n1                      0.0           0.0            0.0  Winter  No Holiday   \n2                      0.0           0.0            0.0  Winter  No Holiday   \n3                      0.0           0.0            0.0  Winter  No Holiday   \n4                      0.0           0.0            0.0  Winter  No Holiday   \n\n  Functioning Day  \n0             Yes  \n1             Yes  \n2             Yes  \n3             Yes  \n4             Yes  ",
      "text/html": "<div>\n<style scoped>\n    .dataframe tbody tr th:only-of-type {\n        vertical-align: middle;\n    }\n\n    .dataframe tbody tr th {\n        vertical-align: top;\n    }\n\n    .dataframe thead th {\n        text-align: right;\n    }\n</style>\n<table border=\"1\" class=\"dataframe\">\n  <thead>\n    <tr style=\"text-align: right;\">\n      <th></th>\n      <th>Date</th>\n      <th>Rented Bike Count</th>\n      <th>Hour</th>\n      <th>Temperature(°C)</th>\n      <th>Humidity(%)</th>\n      <th>Wind speed (m/s)</th>\n      <th>Visibility (10m)</th>\n      <th>Dew point temperature(°C)</th>\n      <th>Solar Radiation (MJ/m2)</th>\n      <th>Rainfall(mm)</th>\n      <th>Snowfall (cm)</th>\n      <th>Seasons</th>\n      <th>Holiday</th>\n      <th>Functioning Day</th>\n    </tr>\n  </thead>\n  <tbody>\n    <tr>\n      <th>0</th>\n      <td>01/12/2017</td>\n      <td>254</td>\n      <td>0</td>\n      <td>-5.2</td>\n      <td>37</td>\n      <td>2.2</td>\n      <td>2000</td>\n      <td>-17.6</td>\n      <td>0.0</td>\n      <td>0.0</td>\n      <td>0.0</td>\n      <td>Winter</td>\n      <td>No Holiday</td>\n      <td>Yes</td>\n    </tr>\n    <tr>\n      <th>1</th>\n      <td>01/12/2017</td>\n      <td>204</td>\n      <td>1</td>\n      <td>-5.5</td>\n      <td>38</td>\n      <td>0.8</td>\n      <td>2000</td>\n      <td>-17.6</td>\n      <td>0.0</td>\n      <td>0.0</td>\n      <td>0.0</td>\n      <td>Winter</td>\n      <td>No Holiday</td>\n      <td>Yes</td>\n    </tr>\n    <tr>\n      <th>2</th>\n      <td>01/12/2017</td>\n      <td>173</td>\n      <td>2</td>\n      <td>-6.0</td>\n      <td>39</td>\n      <td>1.0</td>\n      <td>2000</td>\n      <td>-17.7</td>\n      <td>0.0</td>\n      <td>0.0</td>\n      <td>0.0</td>\n      <td>Winter</td>\n      <td>No Holiday</td>\n      <td>Yes</td>\n    </tr>\n    <tr>\n      <th>3</th>\n      <td>01/12/2017</td>\n      <td>107</td>\n      <td>3</td>\n      <td>-6.2</td>\n      <td>40</td>\n      <td>0.9</td>\n      <td>2000</td>\n      <td>-17.6</td>\n      <td>0.0</td>\n      <td>0.0</td>\n      <td>0.0</td>\n      <td>Winter</td>\n      <td>No Holiday</td>\n      <td>Yes</td>\n    </tr>\n    <tr>\n      <th>4</th>\n      <td>01/12/2017</td>\n      <td>78</td>\n      <td>4</td>\n      <td>-6.0</td>\n      <td>36</td>\n      <td>2.3</td>\n      <td>2000</td>\n      <td>-18.6</td>\n      <td>0.0</td>\n      <td>0.0</td>\n      <td>0.0</td>\n      <td>Winter</td>\n      <td>No Holiday</td>\n      <td>Yes</td>\n    </tr>\n  </tbody>\n</table>\n</div>"
     },
     "execution_count": 1,
     "metadata": {},
     "output_type": "execute_result"
    }
   ],
   "source": [
    "import pandas as pd\n",
    "#The dataset contains special characters\n",
    "df = pd.read_csv('/Users/kylin/PycharmProjects/pbl4-XinyaoQian1/data/SeoulBikeData.csv',encoding='latin1')\n",
    "df.head()"
   ],
   "metadata": {
    "collapsed": false,
    "pycharm": {
     "name": "#%%\n"
    }
   }
  },
  {
   "cell_type": "markdown",
   "source": [
    "## Problem 2: Display some basic information about the data frame\n",
    "\n",
    "1. Print the number of rows and columns in the DataFrame\n",
    "2. Print the first _n_ rows of data (e.g. 5)\n",
    "3. Print the column labels and data types. Note any columns that you don't think are needed.\n"
   ],
   "metadata": {
    "collapsed": false,
    "pycharm": {
     "name": "#%% md\n"
    }
   }
  },
  {
   "cell_type": "code",
   "execution_count": 2,
   "outputs": [
    {
     "name": "stdout",
     "output_type": "stream",
     "text": [
      "No. of columns =  14\n",
      "No. of rows =  8760\n",
      "(8760, 14)\n"
     ]
    }
   ],
   "source": [
    "#1. Print the number of rows and columns in the DataFrame\n",
    "print('No. of columns = ',len(df.columns))\n",
    "print('No. of rows = ',len(df))\n",
    "print(df.shape)"
   ],
   "metadata": {
    "collapsed": false,
    "pycharm": {
     "name": "#%%\n"
    }
   }
  },
  {
   "cell_type": "code",
   "execution_count": 3,
   "outputs": [
    {
     "data": {
      "text/plain": "         Date  Rented Bike Count  Hour  Temperature(°C)  Humidity(%)  \\\n0  01/12/2017                254     0             -5.2           37   \n1  01/12/2017                204     1             -5.5           38   \n2  01/12/2017                173     2             -6.0           39   \n3  01/12/2017                107     3             -6.2           40   \n4  01/12/2017                 78     4             -6.0           36   \n\n   Wind speed (m/s)  Visibility (10m)  Dew point temperature(°C)  \\\n0               2.2              2000                      -17.6   \n1               0.8              2000                      -17.6   \n2               1.0              2000                      -17.7   \n3               0.9              2000                      -17.6   \n4               2.3              2000                      -18.6   \n\n   Solar Radiation (MJ/m2)  Rainfall(mm)  Snowfall (cm) Seasons     Holiday  \\\n0                      0.0           0.0            0.0  Winter  No Holiday   \n1                      0.0           0.0            0.0  Winter  No Holiday   \n2                      0.0           0.0            0.0  Winter  No Holiday   \n3                      0.0           0.0            0.0  Winter  No Holiday   \n4                      0.0           0.0            0.0  Winter  No Holiday   \n\n  Functioning Day  \n0             Yes  \n1             Yes  \n2             Yes  \n3             Yes  \n4             Yes  ",
      "text/html": "<div>\n<style scoped>\n    .dataframe tbody tr th:only-of-type {\n        vertical-align: middle;\n    }\n\n    .dataframe tbody tr th {\n        vertical-align: top;\n    }\n\n    .dataframe thead th {\n        text-align: right;\n    }\n</style>\n<table border=\"1\" class=\"dataframe\">\n  <thead>\n    <tr style=\"text-align: right;\">\n      <th></th>\n      <th>Date</th>\n      <th>Rented Bike Count</th>\n      <th>Hour</th>\n      <th>Temperature(°C)</th>\n      <th>Humidity(%)</th>\n      <th>Wind speed (m/s)</th>\n      <th>Visibility (10m)</th>\n      <th>Dew point temperature(°C)</th>\n      <th>Solar Radiation (MJ/m2)</th>\n      <th>Rainfall(mm)</th>\n      <th>Snowfall (cm)</th>\n      <th>Seasons</th>\n      <th>Holiday</th>\n      <th>Functioning Day</th>\n    </tr>\n  </thead>\n  <tbody>\n    <tr>\n      <th>0</th>\n      <td>01/12/2017</td>\n      <td>254</td>\n      <td>0</td>\n      <td>-5.2</td>\n      <td>37</td>\n      <td>2.2</td>\n      <td>2000</td>\n      <td>-17.6</td>\n      <td>0.0</td>\n      <td>0.0</td>\n      <td>0.0</td>\n      <td>Winter</td>\n      <td>No Holiday</td>\n      <td>Yes</td>\n    </tr>\n    <tr>\n      <th>1</th>\n      <td>01/12/2017</td>\n      <td>204</td>\n      <td>1</td>\n      <td>-5.5</td>\n      <td>38</td>\n      <td>0.8</td>\n      <td>2000</td>\n      <td>-17.6</td>\n      <td>0.0</td>\n      <td>0.0</td>\n      <td>0.0</td>\n      <td>Winter</td>\n      <td>No Holiday</td>\n      <td>Yes</td>\n    </tr>\n    <tr>\n      <th>2</th>\n      <td>01/12/2017</td>\n      <td>173</td>\n      <td>2</td>\n      <td>-6.0</td>\n      <td>39</td>\n      <td>1.0</td>\n      <td>2000</td>\n      <td>-17.7</td>\n      <td>0.0</td>\n      <td>0.0</td>\n      <td>0.0</td>\n      <td>Winter</td>\n      <td>No Holiday</td>\n      <td>Yes</td>\n    </tr>\n    <tr>\n      <th>3</th>\n      <td>01/12/2017</td>\n      <td>107</td>\n      <td>3</td>\n      <td>-6.2</td>\n      <td>40</td>\n      <td>0.9</td>\n      <td>2000</td>\n      <td>-17.6</td>\n      <td>0.0</td>\n      <td>0.0</td>\n      <td>0.0</td>\n      <td>Winter</td>\n      <td>No Holiday</td>\n      <td>Yes</td>\n    </tr>\n    <tr>\n      <th>4</th>\n      <td>01/12/2017</td>\n      <td>78</td>\n      <td>4</td>\n      <td>-6.0</td>\n      <td>36</td>\n      <td>2.3</td>\n      <td>2000</td>\n      <td>-18.6</td>\n      <td>0.0</td>\n      <td>0.0</td>\n      <td>0.0</td>\n      <td>Winter</td>\n      <td>No Holiday</td>\n      <td>Yes</td>\n    </tr>\n  </tbody>\n</table>\n</div>"
     },
     "execution_count": 3,
     "metadata": {},
     "output_type": "execute_result"
    }
   ],
   "source": [
    "#2. Print the first _n_ rows of data (e.g. 5)\n",
    "df.head(5)"
   ],
   "metadata": {
    "collapsed": false,
    "pycharm": {
     "name": "#%%\n"
    }
   }
  },
  {
   "cell_type": "code",
   "execution_count": 4,
   "outputs": [
    {
     "name": "stdout",
     "output_type": "stream",
     "text": [
      "<class 'pandas.core.frame.DataFrame'>\n",
      "RangeIndex: 8760 entries, 0 to 8759\n",
      "Data columns (total 14 columns):\n",
      " #   Column                     Non-Null Count  Dtype  \n",
      "---  ------                     --------------  -----  \n",
      " 0   Date                       8760 non-null   object \n",
      " 1   Rented Bike Count          8760 non-null   int64  \n",
      " 2   Hour                       8760 non-null   int64  \n",
      " 3   Temperature(°C)            8760 non-null   float64\n",
      " 4   Humidity(%)                8760 non-null   int64  \n",
      " 5   Wind speed (m/s)           8760 non-null   float64\n",
      " 6   Visibility (10m)           8760 non-null   int64  \n",
      " 7   Dew point temperature(°C)  8760 non-null   float64\n",
      " 8   Solar Radiation (MJ/m2)    8760 non-null   float64\n",
      " 9   Rainfall(mm)               8760 non-null   float64\n",
      " 10  Snowfall (cm)              8760 non-null   float64\n",
      " 11  Seasons                    8760 non-null   object \n",
      " 12  Holiday                    8760 non-null   object \n",
      " 13  Functioning Day            8760 non-null   object \n",
      "dtypes: float64(6), int64(4), object(4)\n",
      "memory usage: 958.2+ KB\n"
     ]
    }
   ],
   "source": [
    "#3. Print the column labels and data types. Note any columns that you don't\n",
    "# think are needed.\n",
    "\n",
    "df.info(verbose=True)"
   ],
   "metadata": {
    "collapsed": false,
    "pycharm": {
     "name": "#%%\n"
    }
   }
  },
  {
   "cell_type": "markdown",
   "source": [
    "## Problem 3: Delete any unnecessary columns\n",
    "\n",
    "Given the summary of the visualisations and web app in the introduction it seems you could delete the columns for\n",
    "Events, Sports and Countries.\n",
    "\n",
    "1. Drop the list of named columns `['Events', 'Sports', 'Countries']`\n",
    "2. Print the column labels and data types again, or check the shape which should be lower than the original column count\n",
    "\n",
    "Hint: `inplace=True` replaces the current dataframe contents."
   ],
   "metadata": {
    "collapsed": false,
    "pycharm": {
     "name": "#%% md\n"
    }
   }
  },
  {
   "cell_type": "code",
   "execution_count": 5,
   "outputs": [
    {
     "name": "stdout",
     "output_type": "stream",
     "text": [
      "<class 'pandas.core.frame.DataFrame'>\n",
      "RangeIndex: 8760 entries, 0 to 8759\n",
      "Data columns (total 13 columns):\n",
      " #   Column                     Non-Null Count  Dtype  \n",
      "---  ------                     --------------  -----  \n",
      " 0   Date                       8760 non-null   object \n",
      " 1   Rented Bike Count          8760 non-null   int64  \n",
      " 2   Hour                       8760 non-null   int64  \n",
      " 3   Temperature(°C)            8760 non-null   float64\n",
      " 4   Wind speed (m/s)           8760 non-null   float64\n",
      " 5   Visibility (10m)           8760 non-null   int64  \n",
      " 6   Dew point temperature(°C)  8760 non-null   float64\n",
      " 7   Solar Radiation (MJ/m2)    8760 non-null   float64\n",
      " 8   Rainfall(mm)               8760 non-null   float64\n",
      " 9   Snowfall (cm)              8760 non-null   float64\n",
      " 10  Seasons                    8760 non-null   object \n",
      " 11  Holiday                    8760 non-null   object \n",
      " 12  Functioning Day            8760 non-null   object \n",
      "dtypes: float64(6), int64(3), object(4)\n",
      "memory usage: 889.8+ KB\n"
     ]
    },
    {
     "name": "stderr",
     "output_type": "stream",
     "text": [
      "/var/folders/d3/hrklkv3d5nl_8rzt8c3y28l00000gn/T/ipykernel_11442/3541181984.py:1: FutureWarning: In a future version of pandas all arguments of DataFrame.drop except for the argument 'labels' will be keyword-only\n",
      "  df.drop('Humidity(%)', 1,inplace=True)\n"
     ]
    }
   ],
   "source": [
    "df.drop('Humidity(%)', 1,inplace=True)\n",
    "df.info(verbose=True)"
   ],
   "metadata": {
    "collapsed": false,
    "pycharm": {
     "name": "#%%\n"
    }
   }
  },
  {
   "cell_type": "markdown",
   "source": [
    "## Problem 4: Identify and address any missing values\n",
    "\n",
    "1. Find and count the number of missing values e.g., Null `isnull().sum().sum()` or NaN `isna().sum().sum()`\n",
    "2. Create a dataframe with the rows that contain missing values `missing_rows = df[df.isna().any(axis=1)]` and print it\n",
    "3. Decide what to do with the missing data (delete the row/columm, or replace nulls with a computed or other value)\n",
    "    - If using the paralympics data you might decide to drop the row that doesn't have info on the male and female\n",
    "      participants as it would be incorrect to guess or compute this, however the missing 'Type' data could be inferred\n",
    "      from the dates since the years correspond to 'Winter' events.\n",
    "    - Drop the row with missing Participants (M) and Participants (F) using `dropna()`\n",
    "    - For the Type column, fill the NaNs with 'Winter' using `fillna()`\n",
    "\n",
    "The syntax\n",
    "for [dropna](https://pandas.pydata.org/docs/reference/api/pandas.DataFrame.dropna.html?highlight=dropna#pandas.DataFrame.dropna)\n",
    "is:\n",
    "\n",
    "```python\n",
    "DataFrame.dropna(axis=0, how='any', thresh=None, subset=None, inplace=False)\n",
    "```\n",
    "\n",
    "Where rows are `axis=0` and columns are `axis=1`.\n",
    "\n",
    "To remove only rows with null/Nan in the Participants (M) and Participants (F) the first row then you could drop a row\n",
    "rather than a column by specifying to only drop rows where the missing values are in particular columns:\n",
    "\n",
    "```python\n",
    "df.dropna(axis=0, subset=['AColName', 'AnotherColName'], inplace=True)"
   ],
   "metadata": {
    "collapsed": false,
    "pycharm": {
     "name": "#%% md\n"
    }
   }
  },
  {
   "cell_type": "code",
   "execution_count": 12,
   "outputs": [
    {
     "name": "stdout",
     "output_type": "stream",
     "text": [
      "0\n"
     ]
    }
   ],
   "source": [
    "#Find and count the number of missing values\n",
    "NULLN = df.isnull().sum().sum()\n",
    "print(NULLN)\n"
   ],
   "metadata": {
    "collapsed": false,
    "pycharm": {
     "name": "#%%\n"
    }
   }
  },
  {
   "cell_type": "markdown",
   "source": [
    "### >There is no missing values\n",
    "\n",
    "\n",
    "\n"
   ],
   "metadata": {
    "collapsed": false,
    "pycharm": {
     "name": "#%% md\n"
    }
   }
  },
  {
   "cell_type": "markdown",
   "source": [
    "## Problem 5: Find the unique values for categorical data\n",
    "\n",
    "Checking the unique values for categorical data could help to identify if there are any inconsistent entries. The only\n",
    "categorical column that we have is Type so try to identify the unique values for this column.\n",
    "\n",
    "Use `df['ColName'].unique()`.\n",
    "\n",
    "Deal with any inconsistent values."
   ],
   "metadata": {
    "collapsed": false,
    "pycharm": {
     "name": "#%% md\n"
    }
   }
  },
  {
   "cell_type": "code",
   "execution_count": 14,
   "outputs": [
    {
     "data": {
      "text/plain": "array(['01/12/2017', '02/12/2017', '03/12/2017', '04/12/2017',\n       '05/12/2017', '06/12/2017', '07/12/2017', '08/12/2017',\n       '09/12/2017', '10/12/2017', '11/12/2017', '12/12/2017',\n       '13/12/2017', '14/12/2017', '15/12/2017', '16/12/2017',\n       '17/12/2017', '18/12/2017', '19/12/2017', '20/12/2017',\n       '21/12/2017', '22/12/2017', '23/12/2017', '24/12/2017',\n       '25/12/2017', '26/12/2017', '27/12/2017', '28/12/2017',\n       '29/12/2017', '30/12/2017', '31/12/2017', '01/01/2018',\n       '02/01/2018', '03/01/2018', '04/01/2018', '05/01/2018',\n       '06/01/2018', '07/01/2018', '08/01/2018', '09/01/2018',\n       '10/01/2018', '11/01/2018', '12/01/2018', '13/01/2018',\n       '14/01/2018', '15/01/2018', '16/01/2018', '17/01/2018',\n       '18/01/2018', '19/01/2018', '20/01/2018', '21/01/2018',\n       '22/01/2018', '23/01/2018', '24/01/2018', '25/01/2018',\n       '26/01/2018', '27/01/2018', '28/01/2018', '29/01/2018',\n       '30/01/2018', '31/01/2018', '01/02/2018', '02/02/2018',\n       '03/02/2018', '04/02/2018', '05/02/2018', '06/02/2018',\n       '07/02/2018', '08/02/2018', '09/02/2018', '10/02/2018',\n       '11/02/2018', '12/02/2018', '13/02/2018', '14/02/2018',\n       '15/02/2018', '16/02/2018', '17/02/2018', '18/02/2018',\n       '19/02/2018', '20/02/2018', '21/02/2018', '22/02/2018',\n       '23/02/2018', '24/02/2018', '25/02/2018', '26/02/2018',\n       '27/02/2018', '28/02/2018', '01/03/2018', '02/03/2018',\n       '03/03/2018', '04/03/2018', '05/03/2018', '06/03/2018',\n       '07/03/2018', '08/03/2018', '09/03/2018', '10/03/2018',\n       '11/03/2018', '12/03/2018', '13/03/2018', '14/03/2018',\n       '15/03/2018', '16/03/2018', '17/03/2018', '18/03/2018',\n       '19/03/2018', '20/03/2018', '21/03/2018', '22/03/2018',\n       '23/03/2018', '24/03/2018', '25/03/2018', '26/03/2018',\n       '27/03/2018', '28/03/2018', '29/03/2018', '30/03/2018',\n       '31/03/2018', '01/04/2018', '02/04/2018', '03/04/2018',\n       '04/04/2018', '05/04/2018', '06/04/2018', '07/04/2018',\n       '08/04/2018', '09/04/2018', '10/04/2018', '11/04/2018',\n       '12/04/2018', '13/04/2018', '14/04/2018', '15/04/2018',\n       '16/04/2018', '17/04/2018', '18/04/2018', '19/04/2018',\n       '20/04/2018', '21/04/2018', '22/04/2018', '23/04/2018',\n       '24/04/2018', '25/04/2018', '26/04/2018', '27/04/2018',\n       '28/04/2018', '29/04/2018', '30/04/2018', '01/05/2018',\n       '02/05/2018', '03/05/2018', '04/05/2018', '05/05/2018',\n       '06/05/2018', '07/05/2018', '08/05/2018', '09/05/2018',\n       '10/05/2018', '11/05/2018', '12/05/2018', '13/05/2018',\n       '14/05/2018', '15/05/2018', '16/05/2018', '17/05/2018',\n       '18/05/2018', '19/05/2018', '20/05/2018', '21/05/2018',\n       '22/05/2018', '23/05/2018', '24/05/2018', '25/05/2018',\n       '26/05/2018', '27/05/2018', '28/05/2018', '29/05/2018',\n       '30/05/2018', '31/05/2018', '01/06/2018', '02/06/2018',\n       '03/06/2018', '04/06/2018', '05/06/2018', '06/06/2018',\n       '07/06/2018', '08/06/2018', '09/06/2018', '10/06/2018',\n       '11/06/2018', '12/06/2018', '13/06/2018', '14/06/2018',\n       '15/06/2018', '16/06/2018', '17/06/2018', '18/06/2018',\n       '19/06/2018', '20/06/2018', '21/06/2018', '22/06/2018',\n       '23/06/2018', '24/06/2018', '25/06/2018', '26/06/2018',\n       '27/06/2018', '28/06/2018', '29/06/2018', '30/06/2018',\n       '01/07/2018', '02/07/2018', '03/07/2018', '04/07/2018',\n       '05/07/2018', '06/07/2018', '07/07/2018', '08/07/2018',\n       '09/07/2018', '10/07/2018', '11/07/2018', '12/07/2018',\n       '13/07/2018', '14/07/2018', '15/07/2018', '16/07/2018',\n       '17/07/2018', '18/07/2018', '19/07/2018', '20/07/2018',\n       '21/07/2018', '22/07/2018', '23/07/2018', '24/07/2018',\n       '25/07/2018', '26/07/2018', '27/07/2018', '28/07/2018',\n       '29/07/2018', '30/07/2018', '31/07/2018', '01/08/2018',\n       '02/08/2018', '03/08/2018', '04/08/2018', '05/08/2018',\n       '06/08/2018', '07/08/2018', '08/08/2018', '09/08/2018',\n       '10/08/2018', '11/08/2018', '12/08/2018', '13/08/2018',\n       '14/08/2018', '15/08/2018', '16/08/2018', '17/08/2018',\n       '18/08/2018', '19/08/2018', '20/08/2018', '21/08/2018',\n       '22/08/2018', '23/08/2018', '24/08/2018', '25/08/2018',\n       '26/08/2018', '27/08/2018', '28/08/2018', '29/08/2018',\n       '30/08/2018', '31/08/2018', '01/09/2018', '02/09/2018',\n       '03/09/2018', '04/09/2018', '05/09/2018', '06/09/2018',\n       '07/09/2018', '08/09/2018', '09/09/2018', '10/09/2018',\n       '11/09/2018', '12/09/2018', '13/09/2018', '14/09/2018',\n       '15/09/2018', '16/09/2018', '17/09/2018', '18/09/2018',\n       '19/09/2018', '20/09/2018', '21/09/2018', '22/09/2018',\n       '23/09/2018', '24/09/2018', '25/09/2018', '26/09/2018',\n       '27/09/2018', '28/09/2018', '29/09/2018', '30/09/2018',\n       '01/10/2018', '02/10/2018', '03/10/2018', '04/10/2018',\n       '05/10/2018', '06/10/2018', '07/10/2018', '08/10/2018',\n       '09/10/2018', '10/10/2018', '11/10/2018', '12/10/2018',\n       '13/10/2018', '14/10/2018', '15/10/2018', '16/10/2018',\n       '17/10/2018', '18/10/2018', '19/10/2018', '20/10/2018',\n       '21/10/2018', '22/10/2018', '23/10/2018', '24/10/2018',\n       '25/10/2018', '26/10/2018', '27/10/2018', '28/10/2018',\n       '29/10/2018', '30/10/2018', '31/10/2018', '01/11/2018',\n       '02/11/2018', '03/11/2018', '04/11/2018', '05/11/2018',\n       '06/11/2018', '07/11/2018', '08/11/2018', '09/11/2018',\n       '10/11/2018', '11/11/2018', '12/11/2018', '13/11/2018',\n       '14/11/2018', '15/11/2018', '16/11/2018', '17/11/2018',\n       '18/11/2018', '19/11/2018', '20/11/2018', '21/11/2018',\n       '22/11/2018', '23/11/2018', '24/11/2018', '25/11/2018',\n       '26/11/2018', '27/11/2018', '28/11/2018', '29/11/2018',\n       '30/11/2018'], dtype=object)"
     },
     "execution_count": 14,
     "metadata": {},
     "output_type": "execute_result"
    }
   ],
   "source": [
    "#Find the unique values for categorical data\n",
    "df['Date'].unique()\n"
   ],
   "metadata": {
    "collapsed": false,
    "pycharm": {
     "name": "#%%\n"
    }
   }
  },
  {
   "cell_type": "markdown",
   "source": [
    "### There is no unique values foe categorical data\n",
    "\n"
   ],
   "metadata": {
    "collapsed": false,
    "pycharm": {
     "name": "#%% md\n"
    }
   }
  },
  {
   "cell_type": "markdown",
   "source": [
    "\n",
    "## Problem 6: Merge the data with another data set to add the country codes\n",
    "\n",
    "The flag images are referenced by the NOC region code. Let's assume that we need to add the NOC region code to each of\n",
    "our rows in the data frame.\n",
    "\n",
    "The NOC region codes are in a csv file: `/data/noc_regions.csv`.\n",
    "\n",
    "Both sets of data have a column with the country name so you could merge the records based on those. The noc data has\n",
    "more rows than the current dataframe so you won't want to merge all rows from noc, only those that match existing rows\n",
    "in the dataframe.\n",
    "\n",
    "If you have 2 dataframes with common indices then you could use join.\n",
    "[join two dataframes](https://pandas.pydata.org/docs/reference/api/pandas.DataFrame.join.html?highlight=join#pandas.DataFrame.join):\n",
    "\n",
    "In this case we are merging on non-key columns so will\n",
    "use [merge](https://pandas.pydata.org/docs/reference/api/pandas.DataFrame.merge.html?highlight=merge#pandas.DataFrame.merge)\n",
    ".\n",
    "\n",
    "```python\n",
    "DataFrame.merge(right, how='inner', on=None, left_on=None, right_on=None, left_index=False, right_index=False,\n",
    "                sort=False, suffixes=('_x', '_y'), copy=True, indicator=False, validate=None)\n",
    "```\n",
    "\n",
    "To merge data you need to have a basic understanding of join types which is specified by the `how=` argument.\n",
    "\n",
    "- `how='left'` Returns all records from the left data frame, and the matched records from the right dataframe\n",
    "- `how='right'` Returns all records from the right dataframe, and the matched records from the left dataframe\n",
    "- `how='outer'` Returns all records when there is a match in either left or right dataframe. (Union)\n",
    "- `how='inner'` Returns records that have matching values in both dataframes. (Intersection)\n",
    "\n",
    "Try to solve the problem:\n",
    "\n",
    "- Create a new dataframe with noc codes, this will be the 'right' dataframe.\n",
    "- Explore the noc dataframe to determine which column has the country name\n",
    "- Drop any unnecessary columns from the noc codes dataframe.\n",
    "- Create a new dataframe that is a merge that returns all records from left (the paralypmpics data) and the matched\n",
    "  records from the right (noc codes).\n",
    "- This will only work for rows where the country name matches exactly so you might want to check for NaNs again.\n",
    "- Decide how to deal with the NaNs. This is a little more tricky as you need to replace a value in one column based on a\n",
    "  condition in another. There will be more than one way to do this, I\n",
    "  used [mask](https://pandas.pydata.org/docs/reference/api/pandas.DataFrame.mask.html?highlight=mask#pandas.DataFrame.mask)\n",
    "  ."
   ],
   "metadata": {
    "collapsed": false,
    "pycharm": {
     "name": "#%% md\n"
    }
   }
  }
 ],
 "metadata": {
  "kernelspec": {
   "display_name": "Python 3",
   "language": "python",
   "name": "python3"
  },
  "language_info": {
   "codemirror_mode": {
    "name": "ipython",
    "version": 2
   },
   "file_extension": ".py",
   "mimetype": "text/x-python",
   "name": "python",
   "nbconvert_exporter": "python",
   "pygments_lexer": "ipython2",
   "version": "2.7.6"
  }
 },
 "nbformat": 4,
 "nbformat_minor": 0
}