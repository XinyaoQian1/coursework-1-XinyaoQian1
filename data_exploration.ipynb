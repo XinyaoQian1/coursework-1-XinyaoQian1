{
 "cells": [
  {
   "cell_type": "markdown",
   "metadata": {
    "collapsed": true,
    "pycharm": {
     "name": "#%% md\n"
    }
   },
   "source": [
    "## Questions to be answered\n",
    "Let’s assume that the aim of the project is to answer the questions:\n",
    "“At what point in the COVID-19 pandemic should a country close schools?”\n",
    "“At what point should a country re-open schools?”\n",
    "“How long might schools be closed for?”"
   ]
  },
  {
   "cell_type": "code",
   "execution_count": 2,
   "outputs": [],
   "source": [
    "#import relevant packages\n",
    "import pandas as pd\n",
    "import matplotlib.pyplot as plt\n",
    "import numpy as np"
   ],
   "metadata": {
    "collapsed": false,
    "pycharm": {
     "name": "#%%\n"
    }
   }
  },
  {
   "cell_type": "code",
   "execution_count": 3,
   "outputs": [
    {
     "data": {
      "text/plain": "          Country Code                      Region         Income Group  \\\n0     Afghanistan  AFG                  South Asia           Low income   \n1         Albania  ALB       Europe & Central Asia  Upper middle income   \n2         Algeria  DZA  Middle East & North Africa  Upper middle income   \n3  American Samoa  ASM         East Asia & Pacific  Upper middle income   \n4         Andorra  AND       Europe & Central Asia          High income   \n\n  School Closures As of      Date  \\\n0             Yes   NaN  17 March   \n1             Yes   NaN   9 March   \n2             Yes   NaN  12 March   \n3             Yes   NaN  23 March   \n4             Yes   NaN  13 March   \n\n  Number of confirmed cases at time of closure Planned Reopening  \\\n0                                           22           1 month   \n1                                            2           2 weeks   \n2                                           24           5 April   \n3                                          NaN           30 days   \n4                                            2               NaN   \n\n  Planned Length of Closure (Weeks)  ... Other supports - Childcare  \\\n0                                 4  ...                        NaN   \n1                                 2  ...                        NaN   \n2                                 3  ...                        NaN   \n3                                 4  ...                        NaN   \n4                               NaN  ...                        NaN   \n\n  Other supports - Childcare (Detail)  \\\n0                                 NaN   \n1                                 NaN   \n2                                 NaN   \n3                                 NaN   \n4                                 NaN   \n\n                         Other supports - Meals  \\\n0                                           NaN   \n1  Self-employed families receive cash benefit    \n2                                           NaN   \n3                                           NaN   \n4                                           NaN   \n\n  Other supports - Meals (Details) Other supports - Other  \\\n0                              NaN                    NaN   \n1                              NaN                    NaN   \n2                              NaN                    NaN   \n3                              NaN                    NaN   \n4                              NaN                    NaN   \n\n                                              Source  \\\n0  https://www-washingtonpost-com.ezp-prod1.hul.h...   \n1  https://balkaninsight.com/2020/03/09/albania-c...   \n2  https://www.africanews.com/2020/03/16/coronavi...   \n3  https://www.doe.as/\\n\\nhttps://www.doe.as/file...   \n4  http://www.leparisien.fr/societe/coronavirus-l...   \n\n                                            Source.1  \\\n0  https://moe.gov.af/index.php/en/all-news\\n\\nht...   \n1                                                NaN   \n2                       http://www.education.gov.dz/   \n3  https://www.doe.as/files/user/2/file/2020-AMEN...   \n4                                                NaN   \n\n                                       Facebook Page  \\\n0  https://www.facebook.com/MoEAfghanistan/?hc_re...   \n1  https://www.facebook.com/arsimitsportitdherinise/   \n2         https://www.facebook.com/EducationAlgerie/   \n3     https://www.facebook.com/americansamoagov.gov/   \n4                                                NaN   \n\n            Official COVID Education Policy Document Source for Re-opening  \n0  https://planipolis.iiep.unesco.org/sites/plani...                   NaN  \n1                                                NaN                   NaN  \n2                                                NaN                   NaN  \n3                                                NaN                   NaN  \n4                                                NaN                   NaN  \n\n[5 rows x 48 columns]",
      "text/html": "<div>\n<style scoped>\n    .dataframe tbody tr th:only-of-type {\n        vertical-align: middle;\n    }\n\n    .dataframe tbody tr th {\n        vertical-align: top;\n    }\n\n    .dataframe thead th {\n        text-align: right;\n    }\n</style>\n<table border=\"1\" class=\"dataframe\">\n  <thead>\n    <tr style=\"text-align: right;\">\n      <th></th>\n      <th>Country</th>\n      <th>Code</th>\n      <th>Region</th>\n      <th>Income Group</th>\n      <th>School Closures</th>\n      <th>As of</th>\n      <th>Date</th>\n      <th>Number of confirmed cases at time of closure</th>\n      <th>Planned Reopening</th>\n      <th>Planned Length of Closure (Weeks)</th>\n      <th>...</th>\n      <th>Other supports - Childcare</th>\n      <th>Other supports - Childcare (Detail)</th>\n      <th>Other supports - Meals</th>\n      <th>Other supports - Meals (Details)</th>\n      <th>Other supports - Other</th>\n      <th>Source</th>\n      <th>Source.1</th>\n      <th>Facebook Page</th>\n      <th>Official COVID Education Policy Document</th>\n      <th>Source for Re-opening</th>\n    </tr>\n  </thead>\n  <tbody>\n    <tr>\n      <th>0</th>\n      <td>Afghanistan</td>\n      <td>AFG</td>\n      <td>South Asia</td>\n      <td>Low income</td>\n      <td>Yes</td>\n      <td>NaN</td>\n      <td>17 March</td>\n      <td>22</td>\n      <td>1 month</td>\n      <td>4</td>\n      <td>...</td>\n      <td>NaN</td>\n      <td>NaN</td>\n      <td>NaN</td>\n      <td>NaN</td>\n      <td>NaN</td>\n      <td>https://www-washingtonpost-com.ezp-prod1.hul.h...</td>\n      <td>https://moe.gov.af/index.php/en/all-news\\n\\nht...</td>\n      <td>https://www.facebook.com/MoEAfghanistan/?hc_re...</td>\n      <td>https://planipolis.iiep.unesco.org/sites/plani...</td>\n      <td>NaN</td>\n    </tr>\n    <tr>\n      <th>1</th>\n      <td>Albania</td>\n      <td>ALB</td>\n      <td>Europe &amp; Central Asia</td>\n      <td>Upper middle income</td>\n      <td>Yes</td>\n      <td>NaN</td>\n      <td>9 March</td>\n      <td>2</td>\n      <td>2 weeks</td>\n      <td>2</td>\n      <td>...</td>\n      <td>NaN</td>\n      <td>NaN</td>\n      <td>Self-employed families receive cash benefit</td>\n      <td>NaN</td>\n      <td>NaN</td>\n      <td>https://balkaninsight.com/2020/03/09/albania-c...</td>\n      <td>NaN</td>\n      <td>https://www.facebook.com/arsimitsportitdherinise/</td>\n      <td>NaN</td>\n      <td>NaN</td>\n    </tr>\n    <tr>\n      <th>2</th>\n      <td>Algeria</td>\n      <td>DZA</td>\n      <td>Middle East &amp; North Africa</td>\n      <td>Upper middle income</td>\n      <td>Yes</td>\n      <td>NaN</td>\n      <td>12 March</td>\n      <td>24</td>\n      <td>5 April</td>\n      <td>3</td>\n      <td>...</td>\n      <td>NaN</td>\n      <td>NaN</td>\n      <td>NaN</td>\n      <td>NaN</td>\n      <td>NaN</td>\n      <td>https://www.africanews.com/2020/03/16/coronavi...</td>\n      <td>http://www.education.gov.dz/</td>\n      <td>https://www.facebook.com/EducationAlgerie/</td>\n      <td>NaN</td>\n      <td>NaN</td>\n    </tr>\n    <tr>\n      <th>3</th>\n      <td>American Samoa</td>\n      <td>ASM</td>\n      <td>East Asia &amp; Pacific</td>\n      <td>Upper middle income</td>\n      <td>Yes</td>\n      <td>NaN</td>\n      <td>23 March</td>\n      <td>NaN</td>\n      <td>30 days</td>\n      <td>4</td>\n      <td>...</td>\n      <td>NaN</td>\n      <td>NaN</td>\n      <td>NaN</td>\n      <td>NaN</td>\n      <td>NaN</td>\n      <td>https://www.doe.as/\\n\\nhttps://www.doe.as/file...</td>\n      <td>https://www.doe.as/files/user/2/file/2020-AMEN...</td>\n      <td>https://www.facebook.com/americansamoagov.gov/</td>\n      <td>NaN</td>\n      <td>NaN</td>\n    </tr>\n    <tr>\n      <th>4</th>\n      <td>Andorra</td>\n      <td>AND</td>\n      <td>Europe &amp; Central Asia</td>\n      <td>High income</td>\n      <td>Yes</td>\n      <td>NaN</td>\n      <td>13 March</td>\n      <td>2</td>\n      <td>NaN</td>\n      <td>NaN</td>\n      <td>...</td>\n      <td>NaN</td>\n      <td>NaN</td>\n      <td>NaN</td>\n      <td>NaN</td>\n      <td>NaN</td>\n      <td>http://www.leparisien.fr/societe/coronavirus-l...</td>\n      <td>NaN</td>\n      <td>NaN</td>\n      <td>NaN</td>\n      <td>NaN</td>\n    </tr>\n  </tbody>\n</table>\n<p>5 rows × 48 columns</p>\n</div>"
     },
     "execution_count": 3,
     "metadata": {},
     "output_type": "execute_result"
    }
   ],
   "source": [
    "#import data\n",
    "#google_sheet_url = \"https://docs.google\n",
    "# .com/spreadsheets/d/1ndHgP53atJ5JEtxgWcpSfYG8LdzHpUsnb6mWybErYg/edit#gid=0\"\n",
    "#url = google_sheet_url.replace('/edit#gid=', '/export?format=csv&gid=')\n",
    "df = pd.read_csv('/Users/kylin/PycharmProjects/pbl4-XinyaoQian1/data/CGD.csv', skiprows=1)\n",
    "df.head()"
   ],
   "metadata": {
    "collapsed": false,
    "pycharm": {
     "name": "#%%\n"
    }
   }
  },
  {
   "cell_type": "code",
   "execution_count": 4,
   "outputs": [
    {
     "name": "stdout",
     "output_type": "stream",
     "text": [
      "Initial columns\n",
      "Index(['Country', 'Code', 'Region', 'Income Group', 'School Closures', 'As of',\n",
      "       'Date', 'Number of confirmed cases at time of closure',\n",
      "       'Planned Reopening', 'Planned Length of Closure (Weeks)',\n",
      "       'Closure extended?', 'Planned re-opening 2', 'Details of closure',\n",
      "       'Reopening process started\\n(Y/N/School year ended/Never closed)',\n",
      "       'Date reopening process started', 'Number of cases at re-opening',\n",
      "       'Total Weeks closed', 'Details of re-opening', 'Remote/online tuition?',\n",
      "       'Any distance learning?', 'Online', 'Radio', 'TV',\n",
      "       'Sending work home with students / providing hardcopies of materials',\n",
      "       'Distance curriculum available in multiple languages?',\n",
      "       'Details of language of materials', 'Parent guide?',\n",
      "       'Details of parent guidance', 'Education Emergency Plan?',\n",
      "       'National exams impacted? (Y/N)', 'National exams impacted? (Detail)',\n",
      "       'National exams impact (went ahead/ cancelled/postponed/ Planned for 2020/ held in new format/ by prior assessment)',\n",
      "       'Is exam impact dependent on grade level? (Y/N)',\n",
      "       'Plans for Special Education? (Y/N)', 'Special Education detail',\n",
      "       'Broader workplace closures?', 'Existing Cash Transfer Supplemented?',\n",
      "       'Details of Cash Transfer / social proection program',\n",
      "       'Other supports - Childcare', 'Other supports - Childcare (Detail)',\n",
      "       'Other supports - Meals', 'Other supports - Meals (Details)',\n",
      "       'Other supports - Other', 'Source', 'Source.1', 'Facebook Page',\n",
      "       'Official COVID Education Policy Document', 'Source for Re-opening'],\n",
      "      dtype='object')\n"
     ]
    }
   ],
   "source": [
    "# The next two lines set pandas options so all of the columns and rows will\n",
    "# be printed in the output, this is useful\n",
    "# for teaching but you wouldn't necessarily need it for your coursework\n",
    "pd.set_option('display.max_rows', df.shape[0] + 1)\n",
    "pd.set_option('display.expand_frame_repr', False)\n",
    "# Print column names\n",
    "print(\"Initial columns\")\n",
    "print(df.columns)"
   ],
   "metadata": {
    "collapsed": false,
    "pycharm": {
     "name": "#%%\n"
    }
   }
  },
  {
   "cell_type": "code",
   "execution_count": 5,
   "outputs": [
    {
     "name": "stdout",
     "output_type": "stream",
     "text": [
      "Selected columns\n",
      "Index(['Country', 'Code', 'Region', 'Income Group', 'School Closures', 'Date',\n",
      "       'Number of confirmed cases at time of closure',\n",
      "       'Reopening process started\\n(Y/N/School year ended/Never closed)',\n",
      "       'Date reopening process started', 'Number of cases at re-opening'],\n",
      "      dtype='object')\n"
     ]
    }
   ],
   "source": [
    "# Replace the dataframe with just the columns we want to keep\n",
    "selected_cols = df[['Country',\n",
    "                    'Code',\n",
    "                    'Region',\n",
    "                    'Income Group',\n",
    "                    'School Closures',\n",
    "                    'Date',\n",
    "                    'Number of confirmed cases at time of closure',\n",
    "                    'Reopening process started\\n(Y/N/School year ended/Never closed)',\n",
    "                    'Date reopening process started',\n",
    "                    'Number of cases at re-opening']]\n",
    "df = selected_cols.copy()\n",
    "print(\"Selected columns\")\n",
    "print(df.columns)"
   ],
   "metadata": {
    "collapsed": false,
    "pycharm": {
     "name": "#%%\n"
    }
   }
  },
  {
   "cell_type": "code",
   "execution_count": 6,
   "outputs": [],
   "source": [
    "# Rename the longer column names\n",
    "df.rename(columns={\n",
    "    'Number of confirmed cases at time of closure': 'Cases at close',\n",
    "    'Date reopening process started': 'Open date',\n",
    "    'Number of cases at re-opening': 'Cases at open',\n",
    "    'Date': 'Close date',\n",
    "    'Reopening process started\\n(Y/N/School year ended/Never closed)': 'Reopen status'\n",
    "}, inplace=True)"
   ],
   "metadata": {
    "collapsed": false,
    "pycharm": {
     "name": "#%%\n"
    }
   }
  },
  {
   "cell_type": "code",
   "execution_count": 7,
   "outputs": [
    {
     "name": "stdout",
     "output_type": "stream",
     "text": [
      "Country            True\n",
      "Code               True\n",
      "Region             True\n",
      "Income Group       True\n",
      "School Closures    True\n",
      "Close date         True\n",
      "Cases at close     True\n",
      "Reopen status      True\n",
      "Open date          True\n",
      "Cases at open      True\n",
      "dtype: bool\n"
     ]
    }
   ],
   "source": [
    "# Check for missing values\n",
    "print(df.isna().any())"
   ],
   "metadata": {
    "collapsed": false,
    "pycharm": {
     "name": "#%%\n"
    }
   }
  },
  {
   "cell_type": "code",
   "execution_count": 8,
   "outputs": [
    {
     "name": "stdout",
     "output_type": "stream",
     "text": [
      "Country            False\n",
      "Code               False\n",
      "Region             False\n",
      "Income Group       False\n",
      "School Closures    False\n",
      "Close date          True\n",
      "Cases at close      True\n",
      "Reopen status      False\n",
      "Open date           True\n",
      "Cases at open       True\n",
      "dtype: bool\n"
     ]
    }
   ],
   "source": [
    "# Drop all rows after Zimbabwe (these rows no Country name so keep just the\n",
    "# rows that are not na)\n",
    "df = df[df['Country'].notna()]\n",
    "print(df.isna().any())\n",
    "# as we can see, in this case, no N/A in 'country'"
   ],
   "metadata": {
    "collapsed": false,
    "pycharm": {
     "name": "#%%\n"
    }
   }
  },
  {
   "cell_type": "code",
   "execution_count": 9,
   "outputs": [
    {
     "name": "stdout",
     "output_type": "stream",
     "text": [
      "Country            False\n",
      "Code               False\n",
      "Region             False\n",
      "Income Group       False\n",
      "School Closures    False\n",
      "Close date         False\n",
      "Cases at close     False\n",
      "Reopen status      False\n",
      "Open date          False\n",
      "Cases at open       True\n",
      "dtype: bool\n"
     ]
    }
   ],
   "source": [
    "# Drop all rows where the Reopen status is 'Never closed'\n",
    "# This solution uses the reverse, keeping the rows where the condition isn't true\n",
    "df = df[df['Reopen status'] != 'Never closed']\n",
    "# Keep where the cases at close, close date or open date are not null\n",
    "df = df[df['Cases at close'].notnull()]\n",
    "df = df[df['Close date'].notnull()]\n",
    "df = df[df['Open date'].notnull()]\n",
    "print(df.isna().any())"
   ],
   "metadata": {
    "collapsed": false,
    "pycharm": {
     "name": "#%%\n"
    }
   }
  },
  {
   "cell_type": "markdown",
   "source": [
    "### Add a new column to calculate the number of days schools were closed\n",
    "#### There are a few issues:\n",
    " 1. The Close date column does not contain the year!\n",
    " 2. Neither Open date or Close date are date format\n",
    " An option may be to read these from the initial CSV as dates using the\n",
    " argument"
   ],
   "metadata": {
    "collapsed": false,
    "pycharm": {
     "name": "#%% md\n"
    }
   }
  },
  {
   "cell_type": "code",
   "execution_count": 10,
   "outputs": [
    {
     "data": {
      "text/plain": "0    17 March\n1     9 March\n2    12 March\n4    13 March\n5    24 March\nName: Close date, dtype: object"
     },
     "execution_count": 10,
     "metadata": {},
     "output_type": "execute_result"
    }
   ],
   "source": [
    "# parse_dates=['Date','Date reopening process started']\n",
    "\n",
    "df['Close date'].head()\n",
    "# as we can see, there is no year"
   ],
   "metadata": {
    "collapsed": false,
    "pycharm": {
     "name": "#%%\n"
    }
   }
  },
  {
   "cell_type": "code",
   "execution_count": 11,
   "outputs": [
    {
     "data": {
      "text/plain": "dtype('O')"
     },
     "execution_count": 11,
     "metadata": {},
     "output_type": "execute_result"
    }
   ],
   "source": [
    "# This solution adds ' 2020' and converts the Close date to a date time data type\n",
    "df['Close date'] = df['Close date'].astype(str) + ' 2020'\n",
    "df['Close date'].head()\n",
    "df['Close date'].dtypes"
   ],
   "metadata": {
    "collapsed": false,
    "pycharm": {
     "name": "#%%\n"
    }
   }
  },
  {
   "cell_type": "markdown",
   "source": [
    "'b'       boolean\n",
    "'i'       (signed) integer\n",
    "'u'       unsigned integer\n",
    "'f'       floating-point\n",
    "'c'       complex-floating point\n",
    "'O'       (Python) objects\n",
    "'S', 'a'  (byte-)string\n",
    "'U'       Unicode\n",
    "'V'       raw data (void)\n"
   ],
   "metadata": {
    "collapsed": false,
    "pycharm": {
     "name": "#%% md\n"
    }
   }
  },
  {
   "cell_type": "code",
   "execution_count": 12,
   "outputs": [],
   "source": [
    "df['Close date'] = pd.to_datetime(df['Close date'])\n"
   ],
   "metadata": {
    "collapsed": false,
    "pycharm": {
     "name": "#%%\n"
    }
   }
  },
  {
   "cell_type": "code",
   "execution_count": 13,
   "outputs": [
    {
     "data": {
      "text/plain": "dtype('<M8[ns]')"
     },
     "execution_count": 13,
     "metadata": {},
     "output_type": "execute_result"
    }
   ],
   "source": [
    "df['Close date'].dtypes\n"
   ],
   "metadata": {
    "collapsed": false,
    "pycharm": {
     "name": "#%%\n"
    }
   }
  },
  {
   "cell_type": "markdown",
   "source": [
    "dtype('<M8[ns]') means the datatype is now a datetime\n"
   ],
   "metadata": {
    "collapsed": false,
    "pycharm": {
     "name": "#%% md\n"
    }
   }
  },
  {
   "cell_type": "code",
   "execution_count": 14,
   "outputs": [
    {
     "name": "stdout",
     "output_type": "stream",
     "text": [
      "0   158 days\n",
      "1   175 days\n",
      "2   223 days\n",
      "4    81 days\n",
      "5   195 days\n",
      "Name: Closure duration, dtype: timedelta64[ns]\n"
     ]
    }
   ],
   "source": [
    "# Convert the Open date column to date\n",
    "df['Open date'] = pd.to_datetime(df['Open date'])\n",
    "# Add a new column based on calculating the number of days closed\n",
    "# Note: `dt.days` ensures the value is stored as a number e.g. 21 rather than\n",
    "# 21 days - if you omit .dt.days and print\n",
    "# the column you should see the difference\n",
    "df['Closure duration'] = (df['Open date'] - df['Close date'])\n",
    "print(df['Closure duration'].head())"
   ],
   "metadata": {
    "collapsed": false,
    "pycharm": {
     "name": "#%%\n"
    }
   }
  },
  {
   "cell_type": "code",
   "execution_count": 15,
   "outputs": [
    {
     "name": "stdout",
     "output_type": "stream",
     "text": [
      "0    158\n",
      "1    175\n",
      "2    223\n",
      "4     81\n",
      "5    195\n",
      "Name: Closure duration, dtype: int64\n"
     ]
    }
   ],
   "source": [
    "df['Closure duration'] = (df['Open date'] - df['Close date']).dt.days\n",
    "print(df['Closure duration'].head())"
   ],
   "metadata": {
    "collapsed": false,
    "pycharm": {
     "name": "#%%\n"
    }
   }
  },
  {
   "cell_type": "markdown",
   "source": [
    "Check the data types are appropriate\n",
    "\n"
   ],
   "metadata": {
    "collapsed": false,
    "pycharm": {
     "name": "#%% md\n"
    }
   }
  },
  {
   "cell_type": "code",
   "execution_count": 16,
   "outputs": [
    {
     "name": "stdout",
     "output_type": "stream",
     "text": [
      "<class 'pandas.core.frame.DataFrame'>\n",
      "Int64Index: 194 entries, 0 to 217\n",
      "Data columns (total 11 columns):\n",
      " #   Column            Non-Null Count  Dtype         \n",
      "---  ------            --------------  -----         \n",
      " 0   Country           194 non-null    object        \n",
      " 1   Code              194 non-null    object        \n",
      " 2   Region            194 non-null    object        \n",
      " 3   Income Group      194 non-null    object        \n",
      " 4   School Closures   194 non-null    object        \n",
      " 5   Close date        194 non-null    datetime64[ns]\n",
      " 6   Cases at close    194 non-null    object        \n",
      " 7   Reopen status     194 non-null    object        \n",
      " 8   Open date         194 non-null    datetime64[ns]\n",
      " 9   Cases at open     193 non-null    object        \n",
      " 10  Closure duration  194 non-null    int64         \n",
      "dtypes: datetime64[ns](2), int64(1), object(8)\n",
      "memory usage: 18.2+ KB\n",
      "None\n"
     ]
    },
    {
     "data": {
      "text/plain": "                Country Code                      Region         Income Group School Closures Close date Cases at close Reopen status  Open date Cases at open  Closure duration\n0           Afghanistan  AFG                  South Asia           Low income             Yes 2020-03-17             22           Yes 2020-08-22         37953               158\n1               Albania  ALB       Europe & Central Asia  Upper middle income             Yes 2020-03-09              2           Yes 2020-08-31          9380               175\n2               Algeria  DZA  Middle East & North Africa  Upper middle income             Yes 2020-03-12             24           Yes 2020-10-21         54839               223\n4               Andorra  AND       Europe & Central Asia          High income             Yes 2020-03-13              2           Yes 2020-06-02           844                81\n5                Angola  AGO          Sub-Saharan Africa  Lower middle income             Yes 2020-03-24              0           Yes 2020-10-05          5370               195\n6   Antigua and Barbuda  ATG   Latin America & Caribbean          High income             Yes 2020-03-19              1           Yes 2020-09-07            95               172\n7             Argentina  ARG   Latin America & Caribbean  Upper middle income             Yes 2020-03-15             56           Yes 2020-10-13        894206               212\n8               Armenia  ARM       Europe & Central Asia  Upper middle income             Yes 2020-03-16             45           Yes 2020-09-15         46119               183\n9                 Aruba  ABW   Latin America & Caribbean          High income             Yes 2020-03-16              2           Yes 2020-05-18           101                63\n10            Australia  AUS         East Asia & Pacific          High income         Partial 2020-03-25          2,364           Yes 2020-05-25          7100                61",
      "text/html": "<div>\n<style scoped>\n    .dataframe tbody tr th:only-of-type {\n        vertical-align: middle;\n    }\n\n    .dataframe tbody tr th {\n        vertical-align: top;\n    }\n\n    .dataframe thead th {\n        text-align: right;\n    }\n</style>\n<table border=\"1\" class=\"dataframe\">\n  <thead>\n    <tr style=\"text-align: right;\">\n      <th></th>\n      <th>Country</th>\n      <th>Code</th>\n      <th>Region</th>\n      <th>Income Group</th>\n      <th>School Closures</th>\n      <th>Close date</th>\n      <th>Cases at close</th>\n      <th>Reopen status</th>\n      <th>Open date</th>\n      <th>Cases at open</th>\n      <th>Closure duration</th>\n    </tr>\n  </thead>\n  <tbody>\n    <tr>\n      <th>0</th>\n      <td>Afghanistan</td>\n      <td>AFG</td>\n      <td>South Asia</td>\n      <td>Low income</td>\n      <td>Yes</td>\n      <td>2020-03-17</td>\n      <td>22</td>\n      <td>Yes</td>\n      <td>2020-08-22</td>\n      <td>37953</td>\n      <td>158</td>\n    </tr>\n    <tr>\n      <th>1</th>\n      <td>Albania</td>\n      <td>ALB</td>\n      <td>Europe &amp; Central Asia</td>\n      <td>Upper middle income</td>\n      <td>Yes</td>\n      <td>2020-03-09</td>\n      <td>2</td>\n      <td>Yes</td>\n      <td>2020-08-31</td>\n      <td>9380</td>\n      <td>175</td>\n    </tr>\n    <tr>\n      <th>2</th>\n      <td>Algeria</td>\n      <td>DZA</td>\n      <td>Middle East &amp; North Africa</td>\n      <td>Upper middle income</td>\n      <td>Yes</td>\n      <td>2020-03-12</td>\n      <td>24</td>\n      <td>Yes</td>\n      <td>2020-10-21</td>\n      <td>54839</td>\n      <td>223</td>\n    </tr>\n    <tr>\n      <th>4</th>\n      <td>Andorra</td>\n      <td>AND</td>\n      <td>Europe &amp; Central Asia</td>\n      <td>High income</td>\n      <td>Yes</td>\n      <td>2020-03-13</td>\n      <td>2</td>\n      <td>Yes</td>\n      <td>2020-06-02</td>\n      <td>844</td>\n      <td>81</td>\n    </tr>\n    <tr>\n      <th>5</th>\n      <td>Angola</td>\n      <td>AGO</td>\n      <td>Sub-Saharan Africa</td>\n      <td>Lower middle income</td>\n      <td>Yes</td>\n      <td>2020-03-24</td>\n      <td>0</td>\n      <td>Yes</td>\n      <td>2020-10-05</td>\n      <td>5370</td>\n      <td>195</td>\n    </tr>\n    <tr>\n      <th>6</th>\n      <td>Antigua and Barbuda</td>\n      <td>ATG</td>\n      <td>Latin America &amp; Caribbean</td>\n      <td>High income</td>\n      <td>Yes</td>\n      <td>2020-03-19</td>\n      <td>1</td>\n      <td>Yes</td>\n      <td>2020-09-07</td>\n      <td>95</td>\n      <td>172</td>\n    </tr>\n    <tr>\n      <th>7</th>\n      <td>Argentina</td>\n      <td>ARG</td>\n      <td>Latin America &amp; Caribbean</td>\n      <td>Upper middle income</td>\n      <td>Yes</td>\n      <td>2020-03-15</td>\n      <td>56</td>\n      <td>Yes</td>\n      <td>2020-10-13</td>\n      <td>894206</td>\n      <td>212</td>\n    </tr>\n    <tr>\n      <th>8</th>\n      <td>Armenia</td>\n      <td>ARM</td>\n      <td>Europe &amp; Central Asia</td>\n      <td>Upper middle income</td>\n      <td>Yes</td>\n      <td>2020-03-16</td>\n      <td>45</td>\n      <td>Yes</td>\n      <td>2020-09-15</td>\n      <td>46119</td>\n      <td>183</td>\n    </tr>\n    <tr>\n      <th>9</th>\n      <td>Aruba</td>\n      <td>ABW</td>\n      <td>Latin America &amp; Caribbean</td>\n      <td>High income</td>\n      <td>Yes</td>\n      <td>2020-03-16</td>\n      <td>2</td>\n      <td>Yes</td>\n      <td>2020-05-18</td>\n      <td>101</td>\n      <td>63</td>\n    </tr>\n    <tr>\n      <th>10</th>\n      <td>Australia</td>\n      <td>AUS</td>\n      <td>East Asia &amp; Pacific</td>\n      <td>High income</td>\n      <td>Partial</td>\n      <td>2020-03-25</td>\n      <td>2,364</td>\n      <td>Yes</td>\n      <td>2020-05-25</td>\n      <td>7100</td>\n      <td>61</td>\n    </tr>\n  </tbody>\n</table>\n</div>"
     },
     "execution_count": 16,
     "metadata": {},
     "output_type": "execute_result"
    }
   ],
   "source": [
    "# Print the column names and data types\n",
    "print(df.info(verbose=True))\n",
    "df.head(10)"
   ],
   "metadata": {
    "collapsed": false,
    "pycharm": {
     "name": "#%%\n"
    }
   }
  },
  {
   "cell_type": "code",
   "execution_count": 17,
   "outputs": [
    {
     "data": {
      "text/plain": "                Country Code                      Region         Income Group School Closures Close date  Cases at close Reopen status  Open date  Cases at open  Closure duration\n0           Afghanistan  AFG                  South Asia           Low income             Yes 2020-03-17              22           Yes 2020-08-22        37953.0               158\n1               Albania  ALB       Europe & Central Asia  Upper middle income             Yes 2020-03-09               2           Yes 2020-08-31         9380.0               175\n2               Algeria  DZA  Middle East & North Africa  Upper middle income             Yes 2020-03-12              24           Yes 2020-10-21        54839.0               223\n4               Andorra  AND       Europe & Central Asia          High income             Yes 2020-03-13               2           Yes 2020-06-02          844.0                81\n5                Angola  AGO          Sub-Saharan Africa  Lower middle income             Yes 2020-03-24               0           Yes 2020-10-05         5370.0               195\n6   Antigua and Barbuda  ATG   Latin America & Caribbean          High income             Yes 2020-03-19               1           Yes 2020-09-07           95.0               172\n7             Argentina  ARG   Latin America & Caribbean  Upper middle income             Yes 2020-03-15              56           Yes 2020-10-13       894206.0               212\n8               Armenia  ARM       Europe & Central Asia  Upper middle income             Yes 2020-03-16              45           Yes 2020-09-15        46119.0               183\n9                 Aruba  ABW   Latin America & Caribbean          High income             Yes 2020-03-16               2           Yes 2020-05-18          101.0                63\n10            Australia  AUS         East Asia & Pacific          High income         Partial 2020-03-25            2364           Yes 2020-05-25         7100.0                61",
      "text/html": "<div>\n<style scoped>\n    .dataframe tbody tr th:only-of-type {\n        vertical-align: middle;\n    }\n\n    .dataframe tbody tr th {\n        vertical-align: top;\n    }\n\n    .dataframe thead th {\n        text-align: right;\n    }\n</style>\n<table border=\"1\" class=\"dataframe\">\n  <thead>\n    <tr style=\"text-align: right;\">\n      <th></th>\n      <th>Country</th>\n      <th>Code</th>\n      <th>Region</th>\n      <th>Income Group</th>\n      <th>School Closures</th>\n      <th>Close date</th>\n      <th>Cases at close</th>\n      <th>Reopen status</th>\n      <th>Open date</th>\n      <th>Cases at open</th>\n      <th>Closure duration</th>\n    </tr>\n  </thead>\n  <tbody>\n    <tr>\n      <th>0</th>\n      <td>Afghanistan</td>\n      <td>AFG</td>\n      <td>South Asia</td>\n      <td>Low income</td>\n      <td>Yes</td>\n      <td>2020-03-17</td>\n      <td>22</td>\n      <td>Yes</td>\n      <td>2020-08-22</td>\n      <td>37953.0</td>\n      <td>158</td>\n    </tr>\n    <tr>\n      <th>1</th>\n      <td>Albania</td>\n      <td>ALB</td>\n      <td>Europe &amp; Central Asia</td>\n      <td>Upper middle income</td>\n      <td>Yes</td>\n      <td>2020-03-09</td>\n      <td>2</td>\n      <td>Yes</td>\n      <td>2020-08-31</td>\n      <td>9380.0</td>\n      <td>175</td>\n    </tr>\n    <tr>\n      <th>2</th>\n      <td>Algeria</td>\n      <td>DZA</td>\n      <td>Middle East &amp; North Africa</td>\n      <td>Upper middle income</td>\n      <td>Yes</td>\n      <td>2020-03-12</td>\n      <td>24</td>\n      <td>Yes</td>\n      <td>2020-10-21</td>\n      <td>54839.0</td>\n      <td>223</td>\n    </tr>\n    <tr>\n      <th>4</th>\n      <td>Andorra</td>\n      <td>AND</td>\n      <td>Europe &amp; Central Asia</td>\n      <td>High income</td>\n      <td>Yes</td>\n      <td>2020-03-13</td>\n      <td>2</td>\n      <td>Yes</td>\n      <td>2020-06-02</td>\n      <td>844.0</td>\n      <td>81</td>\n    </tr>\n    <tr>\n      <th>5</th>\n      <td>Angola</td>\n      <td>AGO</td>\n      <td>Sub-Saharan Africa</td>\n      <td>Lower middle income</td>\n      <td>Yes</td>\n      <td>2020-03-24</td>\n      <td>0</td>\n      <td>Yes</td>\n      <td>2020-10-05</td>\n      <td>5370.0</td>\n      <td>195</td>\n    </tr>\n    <tr>\n      <th>6</th>\n      <td>Antigua and Barbuda</td>\n      <td>ATG</td>\n      <td>Latin America &amp; Caribbean</td>\n      <td>High income</td>\n      <td>Yes</td>\n      <td>2020-03-19</td>\n      <td>1</td>\n      <td>Yes</td>\n      <td>2020-09-07</td>\n      <td>95.0</td>\n      <td>172</td>\n    </tr>\n    <tr>\n      <th>7</th>\n      <td>Argentina</td>\n      <td>ARG</td>\n      <td>Latin America &amp; Caribbean</td>\n      <td>Upper middle income</td>\n      <td>Yes</td>\n      <td>2020-03-15</td>\n      <td>56</td>\n      <td>Yes</td>\n      <td>2020-10-13</td>\n      <td>894206.0</td>\n      <td>212</td>\n    </tr>\n    <tr>\n      <th>8</th>\n      <td>Armenia</td>\n      <td>ARM</td>\n      <td>Europe &amp; Central Asia</td>\n      <td>Upper middle income</td>\n      <td>Yes</td>\n      <td>2020-03-16</td>\n      <td>45</td>\n      <td>Yes</td>\n      <td>2020-09-15</td>\n      <td>46119.0</td>\n      <td>183</td>\n    </tr>\n    <tr>\n      <th>9</th>\n      <td>Aruba</td>\n      <td>ABW</td>\n      <td>Latin America &amp; Caribbean</td>\n      <td>High income</td>\n      <td>Yes</td>\n      <td>2020-03-16</td>\n      <td>2</td>\n      <td>Yes</td>\n      <td>2020-05-18</td>\n      <td>101.0</td>\n      <td>63</td>\n    </tr>\n    <tr>\n      <th>10</th>\n      <td>Australia</td>\n      <td>AUS</td>\n      <td>East Asia &amp; Pacific</td>\n      <td>High income</td>\n      <td>Partial</td>\n      <td>2020-03-25</td>\n      <td>2364</td>\n      <td>Yes</td>\n      <td>2020-05-25</td>\n      <td>7100.0</td>\n      <td>61</td>\n    </tr>\n  </tbody>\n</table>\n</div>"
     },
     "execution_count": 17,
     "metadata": {},
     "output_type": "execute_result"
    }
   ],
   "source": [
    "# Change the data type of Cases at close and Cases at open to numeric\n",
    "\n",
    "df['Cases at close'] = df['Cases at close'].str.replace(',', '')\n",
    "df['Cases at close'] = pd.to_numeric(df['Cases at close'])\n",
    "df['Cases at open'] = df['Cases at open'].str.replace(',', '')\n",
    "df['Cases at open'] = pd.to_numeric(df['Cases at open'])\n",
    "df.head(10)"
   ],
   "metadata": {
    "collapsed": false,
    "pycharm": {
     "name": "#%%\n"
    }
   }
  },
  {
   "cell_type": "code",
   "execution_count": 18,
   "outputs": [
    {
     "name": "stdout",
     "output_type": "stream",
     "text": [
      "<class 'pandas.core.frame.DataFrame'>\n",
      "Int64Index: 194 entries, 0 to 217\n",
      "Data columns (total 11 columns):\n",
      " #   Column            Non-Null Count  Dtype         \n",
      "---  ------            --------------  -----         \n",
      " 0   Country           194 non-null    object        \n",
      " 1   Code              194 non-null    object        \n",
      " 2   Region            194 non-null    object        \n",
      " 3   Income Group      194 non-null    object        \n",
      " 4   School Closures   194 non-null    object        \n",
      " 5   Close date        194 non-null    datetime64[ns]\n",
      " 6   Cases at close    194 non-null    int64         \n",
      " 7   Reopen status     194 non-null    object        \n",
      " 8   Open date         194 non-null    datetime64[ns]\n",
      " 9   Cases at open     193 non-null    float64       \n",
      " 10  Closure duration  194 non-null    int64         \n",
      "dtypes: datetime64[ns](2), float64(1), int64(2), object(6)\n",
      "memory usage: 18.2+ KB\n",
      "None\n"
     ]
    }
   ],
   "source": [
    "print(df.info(verbose=True))\n"
   ],
   "metadata": {
    "collapsed": false,
    "pycharm": {
     "name": "#%%\n"
    }
   }
  },
  {
   "cell_type": "markdown",
   "source": [
    " ### basic stats\n",
    " Try adding and running:\n",
    " 'print(df.describe(datetime_is_numeric=True))'\n",
    "The argument datetime_is_numeric=True\n",
    "treats dates as a numeric value, otherwise the default behaviour for\n",
    "describe is to return stats only for numeric columns."
   ],
   "metadata": {
    "collapsed": false,
    "pycharm": {
     "name": "#%% md\n"
    }
   }
  },
  {
   "cell_type": "code",
   "execution_count": 20,
   "outputs": [
    {
     "name": "stdout",
     "output_type": "stream",
     "text": [
      "                          Close date  Cases at close                      Open date  Cases at open  Closure duration\n",
      "count                            194      194.000000                            194   1.930000e+02        194.000000\n",
      "mean   2020-03-15 23:45:09.278350592      546.252577  2020-08-05 00:14:50.721649408   1.145614e+05        142.020619\n",
      "min              2020-02-12 00:00:00        0.000000            2020-04-06 00:00:00   0.000000e+00         18.000000\n",
      "25%              2020-03-13 00:00:00        1.000000            2020-05-25 00:00:00   5.090000e+02         73.000000\n",
      "50%              2020-03-16 00:00:00        6.000000            2020-08-06 12:00:00   5.342000e+03        140.000000\n",
      "75%              2020-03-19 00:00:00       38.500000            2020-09-15 00:00:00   4.278800e+04        186.000000\n",
      "max              2020-04-14 00:00:00    70548.000000            2021-10-03 00:00:00   5.487540e+06        581.000000\n",
      "std                              NaN     5090.724624                            NaN   4.977871e+05         89.827351\n"
     ]
    }
   ],
   "source": [
    "print(df.describe(datetime_is_numeric=True))"
   ],
   "metadata": {
    "collapsed": false,
    "pycharm": {
     "name": "#%%\n"
    }
   }
  },
  {
   "cell_type": "markdown",
   "source": [
    " ## outlier\n",
    " An outlier is a data point that is significantly different from other data points in a data set\n",
    " Identifying outliers\n",
    "Identifying outliers is subjective and techniques include:\n",
    "Plot the data (e.g. histogram, scatter plot, boxplot)\n",
    "Use common sense\n",
    "Use statistical tests\n",
    "Since this course doesn’t expect any knowledge or, nor teach any, statistics then we will check for outliers by creating\n",
    "a chart, or plot, instead. In this instance let’s create a boxplot. The boxplot will be created using pandas dataframe\n",
    "and displayed using the matplotlib library. We are using matplotlib for the backend charting but will not\n",
    "otherwise be learning to use this library.\n",
    "For this example we are just checking the ‘Cases at close’ column though you could use the same principle for other\n",
    "columns."
   ],
   "metadata": {
    "collapsed": false,
    "pycharm": {
     "name": "#%% md\n"
    }
   }
  },
  {
   "cell_type": "code",
   "execution_count": 21,
   "outputs": [
    {
     "data": {
      "text/plain": "<Figure size 432x288 with 1 Axes>",
      "image/png": "[encoded data removed]"
     },
     "metadata": {
      "needs_background": "light"
     },
     "output_type": "display_data"
    }
   ],
   "source": [
    "# Add to the end of your code\n",
    "boxplot = df.boxplot(column=['Cases at close'])\n",
    "boxplot.plot()\n",
    "plt.show()"
   ],
   "metadata": {
    "collapsed": false,
    "pycharm": {
     "name": "#%%\n"
    }
   }
  },
  {
   "cell_type": "code",
   "execution_count": null,
   "outputs": [],
   "source": [],
   "metadata": {
    "collapsed": false,
    "pycharm": {
     "name": "#%%\n"
    }
   }
  }
 ],
 "metadata": {
  "kernelspec": {
   "display_name": "Python 3",
   "language": "python",
   "name": "python3"
  },
  "language_info": {
   "codemirror_mode": {
    "name": "ipython",
    "version": 2
   },
   "file_extension": ".py",
   "mimetype": "text/x-python",
   "name": "python",
   "nbconvert_exporter": "python",
   "pygments_lexer": "ipython2",
   "version": "2.7.6"
  }
 },
 "nbformat": 4,
 "nbformat_minor": 0
}