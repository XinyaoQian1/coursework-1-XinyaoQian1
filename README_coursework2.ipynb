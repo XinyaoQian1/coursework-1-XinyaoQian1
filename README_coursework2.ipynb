{
 "cells": [
  {
   "cell_type": "markdown",
   "metadata": {
    "collapsed": true,
    "pycharm": {
     "name": "#%% md\n"
    }
   },
   "source": [
    "# Coursework 2 portfolio\n",
    "\n",
    "The aim of the project is to design a web app for Seoul Bike company's employees. It contains a visualisation dashboard and has a blog for data analysts from Seoul Bike company to submit their reports. The reports can be rated by all users.\n",
    "\n"
   ]
  },
  {
   "cell_type": "markdown",
   "metadata": {},
   "source": [
    "\n",
    "## Requirements definition and analysis\n"
   ]
  },
  {
   "cell_type": "markdown",
   "metadata": {},
   "source": [
    "### Requirements identification methods\n",
    "<strong>Due to constrains of the project, Brainstorming was\n",
    "selected.</strong>\n",
    "\n",
    "For developing the web app for Seoul Bike company , there\n",
    " are several useful methods to identify the requirements. \n",
    "\n",
    "***Interview***:\n",
    "Interviews of stakeholders and users are critical for\n",
    "creating the great software. For the web app, we could\n",
    "interview people who are identified as stakeholders, such as the project manager of Seoul Bike company and\n",
    "the data\n",
    "analysts of Seoul Bike. By considering data analysts as the\n",
    "most often users of the developed app, we should properly weigh and\n",
    "address their inputs.\n",
    "\n",
    "\n",
    "***Survey/Questionnaire***:\n",
    "Seoul Bike company is located in Korea, so the \n",
    "timezone is different from the UCL team.\n",
    "Surveys/Questionnaires are useful since each can be finished\n",
    "anytime. The survey can force users to select from\n",
    "choices, rate something (“Agree Strongly, agree…”), or have open-ended questions allowing free-form responses. Survey design is hard – questions can bias the respondents.\n",
    "\n",
    "\n",
    "***Brainstorming***:\n",
    "Brainstorming is used in requirement gathering to get as\n",
    "many ideas as possible from group of people. It is generally used to identify possible solutions to problems, and clarify details of opportunities.\n",
    "\n",
    "\n",
    "***Analysing documentation***:\n",
    "There are many bike-renting companys similar to Seoul Bike\n",
    "Company. Reviewing the documentation of their existing\n",
    "system can help when creating AS–IS process document, as well as driving gap analysis for scoping of migration projects.\n",
    "\n",
    "\n"
   ]
  },
  {
   "cell_type": "markdown",
   "metadata": {},
   "source": [
    "#### Context Diagram\n",
    "The interactions between the web app system and external factors were shown in the following context diagram, which the system is designed to interface.\n",
    "For this web app, the main stakeholders are employees of\n",
    "the Seoul Bike company. Data analysts will use the data\n",
    "visualization provided by the web app to analyse\n",
    "business,and provide predictions/advice in the form of a report\n",
    "submitted through the web app. Managers need to read\n",
    "those reports, and both of them should be able to read\n",
    "those reports to give feedback.\n",
    "![Context diagram](requirements_images/context_diagram.jpg)"
   ]
  },
  {
   "cell_type": "markdown",
   "metadata": {},
   "source": [
    "\n",
    "\n",
    "### Requirement specification method\n",
    "<strong>Method : User stories</strong>\n",
    "\n",
    "User stories allow the UCLsoft team to leverage existing\n",
    "competencies to empower stakeholders.\n",
    "During the identification of user stories, there were two\n",
    "more technical skills used:\n",
    "User story slicing and splitting.\n",
    "These indicate that each acceptance criteria should be\n",
    "independently testable, and each acceptance criteria test\n",
    " should have a clear pass/fail result.\n",
    "\n",
    "14 user stories were identified during the given developing period,\n",
    "and they may evolve further during each design cycle."
   ]
  },
  {
   "cell_type": "markdown",
   "metadata": {},
   "source": [
    "#### User stories \n",
    "<img src=\"requirements_images/user_stories.jpg\" />"
   ]
  },
  {
   "cell_type": "markdown",
   "metadata": {},
   "source": [
    "\n",
    "### Prioritisation method\n",
    "<strong>Story mapping</strong>\n",
    "\n",
    "A user's story map is a powerful tool that helps the\n",
    "entire UCLsoft\n",
    "team see the forest though the trees. This prioritisation method was selected since it is designed for prioritising user stories. It's a technique that keeps the team focusing on the user experience and results in better dialogue and conversation.\n",
    "\n",
    "\n",
    "At the beginning, those user stories were expressed briefly, and written as cards. The number on each card  corresponded to that of the user stories.\n",
    "\n",
    " <img src=\"requirements_images/User_story_card.jpg\"\n",
    " width=\"560\" height=\"1470\">\n"
   ]
  },
  {
   "cell_type": "markdown",
   "metadata": {},
   "source": [
    "\n",
    " \n",
    "### Documented and prioritised requirements\n",
    "\n",
    "\n",
    "To create a user story map, we take all the user stories for the web app and place them into a sequence of how a customer uses the product from the left to the right.\n",
    "The blue cards briefly summarized the theme. The vertical columns of the story map provide details under the higher level story or theme. The legend is useful for the team to check if the acceptance criteria has been achieved. \n",
    "\n",
    "<img src=\"requirements_images/user_story_map.jpg\"\n",
    "width=\"750\" height=\"500\" >"
   ]
  },
  {
   "cell_type": "markdown",
   "metadata": {},
   "source": [
    "\n",
    "## Design\n",
    "### Structure and flow of the interface\n",
    "\n",
    "The web app is aimed at employees who use laptop to assess it at Seoul Bike company. Hence, desktop screen resolution size is chosen as 1920 * 1080 px\n",
    "\n",
    "Based on the user story map, we designed the user interface using wireframes.\n",
    "The orange cursors on the pages indicate the clickable button, and the red arrows show the corresponding flow.\n",
    "<img src=\"design_images/Interface design.jpg\" width=\"1015\" height=\"527\" >\n"
   ]
  },
  {
   "cell_type": "markdown",
   "metadata": {},
   "source": [
    "### Application structure\n",
    "#### Design pattern\n",
    "The model-view-controller (MVC) design pattern:\n",
    " The Model-View-Controller Pattern. The MVC pattern is a user interface design pattern that promotes separation of concerns across multiple application layers. In MVC, there are three distinct responsibilities: model, view, and controller. The model is where the data of the application is managed. It receives input from the controller. The controller is responsible for receiving user input and passing it to the model in a way that the model will understand. Finally, the view is responsible for presenting the model to the user.\n",
    "\n",
    "This design pattern was selected because MVC allows separation of concerns, the three distinct responsibilities are clearly defined. MVC also enables teams to work on these separate concerns\n",
    "    in parallel. This web project should be completed in a relevant short time. For a small team like UCLsoft, parallel working will save time and members will have their own responsibilities e.g. one writing the view while another working on the model and yet another finishing the controller. Finally, it's a well-known pattern in many web frameworks. Considering the team members to be beginners, use MVC pattern means there will be lots of documentations available to assist their work.\n",
    "\n",
    "\n",
    "\n",
    " <img src=\"design_images/mvc_design_pattern.jpg\"\n",
    " width=\"500\" height=\"400\">\n",
    "\n"
   ]
  },
  {
   "cell_type": "markdown",
   "metadata": {},
   "source": [
    "## Class Design\n",
    "<img src=\"design_images/class_design.jpg\" width=\"687\" height=\"600\">"
   ]
  },
  {
   "cell_type": "markdown",
   "metadata": {},
   "source": [
    "The User class has two child class - employee and Admin. The employee class represents normal users, and the Admin user has the ability to remove normal user account and posts.\n",
    "\n",
    "We can see managers(UserManager and PostManager) providing functionality related to some entities and holding the important instances of these entities such as the current post and the current user. This is done bscause it's always a better practice to detach such login system into separated managers than to pollute entity classes with it.\n"
   ]
  },
  {
   "cell_type": "markdown",
   "metadata": {},
   "source": [
    "## Route Design\n",
    "\n",
    "The routes are also labelled on the user interface design.\n",
    "<img src=\"design_images/routes_design.jpg\" width=\"930\"\n",
    "height=\"600\">\n",
    "\n"
   ]
  },
  {
   "cell_type": "markdown",
   "metadata": {},
   "source": [
    "\n",
    "### Relational database design\n",
    "\n",
    "\n",
    "\n",
    "\n",
    "#### Conceptual database design\n",
    "\n",
    "\n",
    "<img src=\"design_images/conceptual design.jpg\" width=\"875\" height=\"392\">"
   ]
  },
  {
   "cell_type": "markdown",
   "metadata": {},
   "source": [
    "#### Logical  database design\n",
    "\n",
    "<img src=\"design_images/logic design.jpg\" width=\"1088\" height=\"559\">\n",
    "\n",
    "\n",
    "\n",
    "\n",
    "\n"
   ]
  },
  {
   "cell_type": "markdown",
   "metadata": {},
   "source": [
    "Chosen relational database management system:***SQLite***   SQLite is a server-less database and is self-contained. SQLite only supports these datatypes: Blob, Integer, Null,\n",
    "Text, Real. \n",
    "\n",
    "The conceptual database design described the datatypes\n",
    "of each field. However, those were just descriptions of expected data types. In logical database design, the datatypes were changed to be datatypes supported by SQLite.\n",
    "\n",
    "<strong> Description of the logical database design</strong>\n",
    "\n",
    "The 'user account' used 'user_id' as primary key because other fields might change. 'post' used 'post_id' as primary key, it should be automatically generated after successful submission. The 'creat_user_id' is a foreign key acts as a cross-reference to indicate which user created the post. 'post_rating' has a composite primary, this is because the 'post_id' and the 'rate_user_id' are all needed to uniquely identify an entity, they are also foreign  keys. Thelogical database design contains no transitive dependency for non-prime attributes, it is in third normal form.\n"
   ]
  },
  {
   "cell_type": "markdown",
   "metadata": {},
   "source": [
    "\n",
    "## Testing\n",
    "### Choice of unit testing library\n",
    "pytest\n",
    "\n",
    "In pytest, we can use the context manager to capture an exception . We're raising a generic exception, and for pytest, if this context manager is able to raise an exception, the test will subsequently pass. If the context manager does not catch an exception then the test will fail."
   ]
  },
  {
   "cell_type": "markdown",
   "metadata": {},
   "source": [
    "### Tests\n",
    "\n",
    "[test_user.py](tests/test_user.py)\n",
    "There were 9 tests in total, 6 of them should pass and 3 of them should fail.\n",
    "\n",
    "test_full_name_is_created_when_user_created: The test was expected to pass, because the 'create_full_name' function was properly written.\n",
    "\n",
    "test_age_not_calculated_when_user_has_no_dob: The test was expected to pass.\n",
    "\n",
    "test_age_is_calculated_when_user_has_dob: The test was expected to pass.\n",
    "\n",
    "test_age_is_warned_when_user_has_abnormal_dob: The test was expected to fail. The 'calculate_age' function did not consider ages above 100 should be invalid. \n",
    "\n",
    "test_age_is_invalid_when_user_has_dob_in_future: The test was expected to pass.\n",
    "\n",
    "test_password_match_is_true_when_correct_password: The test was expected to pass.\n",
    "\n",
    "test_password_match_is_False_when_wrong_password_entered: The test was expected to pass.\n",
    "\n",
    "test_email_is_not_right_when_user_is_created: The test was expected to fail. The 'email (str)' argument didn't require a correct email format (e.g. xxxx@xxxx.com).\n",
    "\n",
    "test_name_is_invalid_when_containing_number: The test was expected to fail. The 'first_name: str, last_name: str' arguments didn't consider the name should not contain numbers.\n"
   ]
  },
  {
   "cell_type": "markdown",
   "metadata": {},
   "source": [
    "### Test results\n",
    "Provide evidence that the tests have been run and the results of the tests (e.g. screenshot).\n",
    "\n",
    "\n",
    "![Test result 2](tests_result_screenshot/test.jpg)\n",
    "![Coverage result 1](tests_result_screenshot/coverage.jpg)\n",
    "![Coverage result 2](tests_result_screenshot/missing_covr.jpg)"
   ]
  },
  {
   "cell_type": "markdown",
   "metadata": {},
   "source": [
    "\n",
    "### Continuous integration (optional)\n",
    "Consider using GitHub Actions (or other) to establish a continuous integration pipeline."
   ]
  },
  {
   "cell_type": "markdown",
   "metadata": {},
   "source": [
    "\n",
    "![GitHub Actions](tests_result_screenshot/github_action.jpg)"
   ]
  },
  {
   "cell_type": "markdown",
   "metadata": {},
   "source": [
    "\n",
    "\n",
    "## References\n",
    "\n",
    "\n",
    "Hostinger Tutorials. (2019). SQLite vs MySQL – What’s the Difference. [online] Available at: https://www.hostinger.co.uk/tutorials/sqlite-vs-mysql-whats-the-difference/#SQLite_vs_MySQL [Accessed 28 Dec. 2021].\n",
    "\n",
    "LinkedIn. (n.d.). Creating class diagrams: Attributes - Python Video Tutorial | LinkedIn Learning, formerly Lynda.com. [online] Available at: https://www.linkedin.com/learning/programming-foundations-object-oriented-design-3/creating-class-diagrams-attributes?autoAdvance=true&autoSkip=true&autoplay=true&resume=false [Accessed 28 Dec. 2021].\n",
    "\n",
    "LinkedIn. (n.d.). Render HTML with Razor - Learning ASP.NET Core MVC Video Tutorial | LinkedIn Learning, formerly Lynda.com. [online] Available at: https://www.linkedin.com/learning/learning-asp-dot-net-core-mvc/render-html-with-razor?autoAdvance=true&autoSkip=true&autoplay=true&resume=false [Accessed 28 Dec. 2021].\n",
    "\n",
    "Paradigm, V. (2019). UML Class Diagram Tutorial. [online] Visual-paradigm.com. Available at: https://www.visual-paradigm.com/guide/uml-unified-modeling-language/uml-class-diagram-tutorial/.\n",
    "\n",
    "Python, R. (n.d.). Model-View-Controller (MVC) Explained – With Legos – Real Python. [online] realpython.com. Available at: https://realpython.com/the-model-view-controller-mvc-paradigm-summarized-with-legos/.\n",
    "\n",
    "StatCounter Global Stats. (n.d.). Desktop Screen Resolution Stats Worldwide. [online] Available at: https://gs.statcounter.com/screen-resolution-stats/desktop/worldwide.\n",
    "\n",
    "Techopedia.com. (2019). What is a Foreign Key? - Definition from Techopedia. [online] Available at: https://www.techopedia.com/definition/7272/foreign-key.\n",
    "\n",
    "www.aha.io. (n.d.). A guide to user story mapping (with examples). [online] Available at: https://www.aha.io/roadmapping/guide/release-management/what-is-user-story-mapping.\n",
    "\n",
    "www.javatpoint.com. (n.d.). SQL COMPOSITE KEY - javatpoint. [online] Available at: https://www.javatpoint.com/sql-composite-key.\n",
    "‌\n",
    "‌"
   ]
  },
  {
   "cell_type": "code",
   "execution_count": null,
   "metadata": {
    "pycharm": {
     "name": "#%%\n"
    }
   },
   "outputs": [],
   "source": []
  },
  {
   "cell_type": "code",
   "execution_count": null,
   "metadata": {
    "pycharm": {
     "name": "#%%\n"
    }
   },
   "outputs": [],
   "source": []
  },
  {
   "cell_type": "code",
   "execution_count": null,
   "metadata": {
    "pycharm": {
     "name": "#%%\n"
    }
   },
   "outputs": [],
   "source": []
  },
  {
   "cell_type": "code",
   "execution_count": null,
   "metadata": {
    "pycharm": {
     "name": "#%%\n"
    }
   },
   "outputs": [],
   "source": []
  }
 ],
 "metadata": {
  "kernelspec": {
   "display_name": "Python 3 (ipykernel)",
   "language": "python",
   "name": "python3"
  },
  "language_info": {
   "codemirror_mode": {
    "name": "ipython",
    "version": 3
   },
   "file_extension": ".py",
   "mimetype": "text/x-python",
   "name": "python",
   "nbconvert_exporter": "python",
   "pygments_lexer": "ipython3",
   "version": "3.9.1"
  }
 },
 "nbformat": 4,
 "nbformat_minor": 1
}