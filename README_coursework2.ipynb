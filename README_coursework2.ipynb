{
 "cells": [
  {
   "cell_type": "markdown",
   "metadata": {
    "collapsed": true,
    "pycharm": {
     "name": "#%% md\n"
    }
   },
   "source": [
    "# Coursework 2 portfolio\n",
    "\n",
    "\n",
    "\n"
   ]
  },
  {
   "cell_type": "markdown",
   "metadata": {},
   "source": [
    "\n",
    "## Requirements definition and analysis\n"
   ]
  },
  {
   "cell_type": "markdown",
   "metadata": {},
   "source": [
    "### Requirements identification methods\n",
    "<strong>Due to constrains of the project, Brainstorming was\n",
    "selected.</strong>\n",
    "\n",
    "For developing the web app for Seoul Bike company , there\n",
    " are several useful methods to identify the requirements. \n",
    "\n",
    "***Interview***:\n",
    "Interviews of stakeholders and users are critical for\n",
    "creating the great software. For the web app, we could\n",
    "interview people who are identified as stakeholders, such as the project manager of Seoul Bike company and\n",
    "the data\n",
    "analysts of Seoul Bike. By considering data analysts as the\n",
    "most often users of the developed app, we should properly weigh and\n",
    "address their inputs.\n",
    "\n",
    "\n",
    "***Survey/Questionnaire***:\n",
    "Seoul Bike company is located in Korea, so the \n",
    "timezone is different from the UCL team.\n",
    "Surveys/Questionnaires are useful since each can be finished\n",
    "anytime. The survey can force users to select from\n",
    "choices, rate something (“Agree Strongly, agree…”), or have open-ended questions allowing free-form responses. Survey design is hard – questions can bias the respondents.\n",
    "\n",
    "\n",
    "***Brainstorming***:\n",
    "Brainstorming is used in requirement gathering to get as\n",
    "many ideas as possible from group of people. It is generally used to identify possible solutions to problems, and clarify details of opportunities.\n",
    "\n",
    "\n",
    "***Analysing documentation***:\n",
    "There are many bike-renting companys similar to Seoul Bike\n",
    "Company. Reviewing the documentation of their existing\n",
    "system can help when creating AS–IS process document, as well as driving gap analysis for scoping of migration projects.\n",
    "\n",
    "\n"
   ]
  },
  {
   "cell_type": "markdown",
   "metadata": {},
   "source": [
    "#### Context Diagram\n",
    "The interactions between the web app system and external factors were shown in the following context diagram, which the system is designed to interface.\n",
    "For this web app, the main stakeholders are employees of\n",
    "the Seoul Bike company. Data analysts will use the data\n",
    "visualization provided by the web app to analyse\n",
    "business,and provide predictions/advice in the form of a report\n",
    "submitted through the web app. Managers need to read\n",
    "those reports, and both of them should be able to read\n",
    "those reports to give feedback.\n",
    "![Context diagram](requirements_images/context_diagram.jpg)"
   ]
  },
  {
   "cell_type": "markdown",
   "metadata": {},
   "source": [
    "\n",
    "\n",
    "### Requirement specification method\n",
    "<strong>Method : User stories</strong>\n",
    "\n",
    "User stories allow the UCLsoft team to leverage existing\n",
    "competencies to empower stakeholders.\n",
    "During the identification of user stories, there were two\n",
    "more technical skills used:\n",
    "User story slicing and splitting.\n",
    "These indicate that each acceptance criteria should be\n",
    "independently testable, and each acceptance criteria test\n",
    " should have a clear pass/fail result.\n",
    "\n",
    "14 user stories were identified during the given developing period,\n",
    "and they may evolve further during each design cycle."
   ]
  },
  {
   "cell_type": "markdown",
   "metadata": {},
   "source": [
    "#### User stories \n",
    "<img src=\"requirements_images/user_stories.jpg\" />"
   ]
  },
  {
   "cell_type": "markdown",
   "metadata": {},
   "source": [
    "\n",
    "### Prioritisation method\n",
    "<strong>Story mapping</strong>\n",
    "\n",
    "A user's story map is a powerful tool that helps the\n",
    "entire UCLsoft\n",
    "team see the forest though the trees. This prioritisation method was selected since it is designed for prioritising user stories. It's a technique that keeps the team focusing on the user experience and results in better dialogue and conversation.\n",
    "\n",
    "\n",
    "At the beginning, those user stories were expressed briefly, and written as cards. The number on each card  corresponded to that of the user stories.\n",
    "\n",
    " <img src=\"requirements_images/User_story_card.jpg\"\n",
    " width=\"560\" height=\"1470\">\n"
   ]
  },
  {
   "cell_type": "markdown",
   "metadata": {},
   "source": [
    "\n",
    " \n",
    "### Documented and prioritised requirements\n",
    "\n",
    "\n",
    "To create a user story map, we take all the user stories for the web app and place them into a sequence of how a customer uses the product from the left to the right. The vertical columns of the story map provide details under the higher level story or theme. The legend is useful for the team to check if the acceptance criteria has been achieved. \n",
    "\n",
    "<img src=\"requirements_images/user_story_map.jpg\"\n",
    "width=\"750\" height=\"500\" >"
   ]
  },
  {
   "cell_type": "markdown",
   "metadata": {},
   "source": [
    "\n",
    "## Design\n",
    "### Structure and flow of the interface\n",
    "\n",
    "The web app is aimed at employees who use laptop to assess it at Seoul Bike company. Hence, desktop screen resolution size is chosen as 1920 * 1080 px\n",
    "\n",
    "Based on the user story map, we designed the user interface using wireframes.\n",
    "The orange cursors on the pages indicate the clickable button, and the red arrows show the corresponding flow.\n",
    "<img src=\"design_images/Interface design.jpg\" width=\"1015\" height=\"527\" >\n"
   ]
  },
  {
   "cell_type": "markdown",
   "metadata": {},
   "source": [
    "### Application structure\n",
    "#### Design pattern\n",
    "The model-view-controller (MVC) design pattern:\n",
    " The Model-View-Controller Pattern. The MVC pattern is a user interface design pattern that promotes separation of concerns across multiple application layers. In MVC, there are three distinct responsibilities: model, view, and controller. The model is where the data of the application is managed. It receives input from the controller. The controller is responsible for receiving user input and passing it to the model in a way that the model will understand. Finally, the view is responsible for presenting the model to the user.\n",
    "\n",
    "This design pattern was selected because MVC allows separation of concerns, the three distinct responsibilities are clearly defined. MVC also enables teams to work on these separate concerns\n",
    "    in parallel. This web project should be completed in a relevant short time. For a small team like UCLsoft, parallel working will save time and members have their own responsibilities e.g. one writing the view while another working on the model and yet another finishing the controller. Finally, it's a well-known pattern in many web frameworks. Considering the team members to be beginners, use MVC pattern means there will be lots of documentations available to assist their work.\n",
    "\n",
    "\n",
    "\n",
    " <img src=\"design_images/mvc_design_pattern.jpg\"\n",
    " width=\"500\" height=\"400\">\n",
    "\n"
   ]
  },
  {
   "cell_type": "markdown",
   "metadata": {},
   "source": [
    "## Class Design\n",
    "<img src=\"design_images/class_design.jpg\" width=\"687\" height=\"600\">"
   ]
  },
  {
   "cell_type": "markdown",
   "metadata": {},
   "source": [
    "***manager***\n",
    "\n",
    "We can see managers providing functionality related to some entities and holding the important instances of these entities such as the current post and the current user. This is done bscause it's always a better practice to detach such login system into separated managers than to pollute entity classes with it."
   ]
  },
  {
   "cell_type": "markdown",
   "metadata": {},
   "source": [
    "## Route Design\n",
    "\n",
    "<img src=\"design_images/routes_design.jpg\" width=\"930\"\n",
    "height=\"600\">\n",
    "\n"
   ]
  },
  {
   "cell_type": "markdown",
   "metadata": {},
   "source": [
    "\n",
    "### Relational database design\n",
    "\n",
    "\n",
    "\n",
    "\n",
    "#### Conceptual database design\n",
    "\n",
    "<img src=\"design_images/conceptual design.jpg\" width=\"875\" height=\"392\">"
   ]
  },
  {
   "cell_type": "markdown",
   "metadata": {},
   "source": [
    "#### Logical  database design\n",
    "\n",
    "<img src=\"design_images/logic design.jpg\" width=\"1088\" height=\"559\">\n",
    "\n",
    "\n",
    "\n",
    "\n",
    "\n"
   ]
  },
  {
   "cell_type": "markdown",
   "metadata": {},
   "source": [
    "Why sqlite\n",
    "SQLite is a server-less database and is self-contained. This is also referred as an embedded database which means the DB engine runs as a part of the app.\n",
    "\n",
    "On the other hand, MySQL requires a server to run. MySQL will require a client and server architecture to interact over a network.\n",
    "\n",
    "why changed datatype:\n",
    "The conceptual database design described the datatypes\n",
    "of each field. However, those were just descriptions.\n",
    "SQLite only supports these datatypes: Blob, Integer, Null,\n",
    "Text, Real. In the logical database, the datatypes were\n",
    "fit into the SQLite datatypes.\n",
    "\n",
    "MySQL supports the below-mentioned datatypes:\n",
    "\n",
    "Tinyint, Smallint, Mediumint, Int, Bigint, Double, Float, Real, Decimal, Double precision, Numeric, Timestamp, Date, Datetime, Char, Varchar, Year, Tinytext, Tinyblob, Blob, Text, MediumBlob, MediumText, Enum, Set, Longblob, Longtext.\n",
    "\n",
    "why this is primary key/cpk\n",
    "why relation"
   ]
  },
  {
   "cell_type": "markdown",
   "metadata": {},
   "source": []
  },
  {
   "cell_type": "markdown",
   "metadata": {},
   "source": []
  },
  {
   "cell_type": "markdown",
   "metadata": {},
   "source": [
    "\n",
    "## Testing\n",
    "### Choice of unit testing library\n",
    "pytest\n",
    "\n",
    "In pytest, we can use the context manager to capture an exception . We're raising a generic exception, and for pytest, if this context manager is able to raise an exception, the test will subsequently pass. If the context manager does not catch an exception then the test will fail."
   ]
  },
  {
   "cell_type": "markdown",
   "metadata": {},
   "source": [
    "### Tests\n",
    "[test_user.py](tests/test_user.py)\n",
    "\n",
    "### Test results\n",
    "Provide evidence that the tests have been run and the results of the tests (e.g. screenshot).\n",
    "\n",
    "\n",
    "![Test result 2](tests_result_screenshot/test.jpg)\n",
    "![Coverage result 1](tests_result_screenshot/coverage.jpg)\n",
    "![Coverage result 2](tests_result_screenshot/missing_covr.jpg)"
   ]
  },
  {
   "cell_type": "markdown",
   "metadata": {},
   "source": [
    "\n",
    "### Continuous integration (optional)\n",
    "Consider using GitHub Actions (or other) to establish a continuous integration pipeline."
   ]
  },
  {
   "cell_type": "markdown",
   "metadata": {},
   "source": [
    "\n",
    "![GitHub Actions](tests_result_screenshot/github_action.jpg)"
   ]
  },
  {
   "cell_type": "markdown",
   "metadata": {},
   "source": []
  },
  {
   "cell_type": "markdown",
   "metadata": {},
   "source": [
    "\n",
    "\n",
    "## References\n",
    "\n",
    "Delete this instruction text before submitting:\n",
    "\n",
    "- Include references to any templates you have used.\n",
    "- If you justify any of your choices with references then remember to also include these.\n",
    "- Use any [referencing style](https://library-guides.ucl.ac.uk/referencing-plagiarism/referencing-styles) that you are\n",
    "  used to using in your course."
   ]
  },
  {
   "cell_type": "code",
   "execution_count": null,
   "metadata": {
    "pycharm": {
     "name": "#%%\n"
    }
   },
   "outputs": [],
   "source": []
  },
  {
   "cell_type": "code",
   "execution_count": null,
   "metadata": {
    "pycharm": {
     "name": "#%%\n"
    }
   },
   "outputs": [],
   "source": []
  },
  {
   "cell_type": "code",
   "execution_count": null,
   "metadata": {
    "pycharm": {
     "name": "#%%\n"
    }
   },
   "outputs": [],
   "source": []
  },
  {
   "cell_type": "code",
   "execution_count": null,
   "metadata": {
    "pycharm": {
     "name": "#%%\n"
    }
   },
   "outputs": [],
   "source": []
  }
 ],
 "metadata": {
  "kernelspec": {
   "display_name": "Python 3 (ipykernel)",
   "language": "python",
   "name": "python3"
  },
  "language_info": {
   "codemirror_mode": {
    "name": "ipython",
    "version": 3
   },
   "file_extension": ".py",
   "mimetype": "text/x-python",
   "name": "python",
   "nbconvert_exporter": "python",
   "pygments_lexer": "ipython3",
   "version": "3.9.1"
  }
 },
 "nbformat": 4,
 "nbformat_minor": 1
}