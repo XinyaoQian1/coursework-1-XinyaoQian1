{
 "cells": [
  {
   "cell_type": "markdown",
   "metadata": {
    "collapsed": true,
    "pycharm": {
     "name": "#%% md\n"
    }
   },
   "source": [
    "# Coursework 2 portfolio\n",
    "\n",
    "Most students will use the same repository for coursework 2. You may use this file to present the results of that\n",
    "coursework if you wish. Alternatively you can use video or audio to provide the explanations instead of writing them.\n",
    "\n",
    "A blog for users to share their thoughts on topics related to the visualisations\n"
   ]
  },
  {
   "cell_type": "markdown",
   "metadata": {},
   "source": [
    "\n",
    "## Requirements definition and analysis\n"
   ]
  },
  {
   "cell_type": "markdown",
   "metadata": {},
   "source": [
    "### Requirements identification methods\n",
    "<strong>Due to constrains of the project, Brainstorming was\n",
    "selected.</strong>\n",
    "\n",
    "For developing the web app for Seoul Bike company , there\n",
    " are several useful method to identify the requirements. hello:)\n",
    "\n",
    "***Interview***:\n",
    "Interviews of stakeholders and users are critical for\n",
    "creating the great software. For the web app, we could\n",
    "interview the project manager of Seoul Bike company, and\n",
    "the data\n",
    "analysts of Seoul Bike, who are identified as\n",
    "stakeholders. We should properly weigh and\n",
    "address their inputs considering data analysts will be the\n",
    "most often users of the developed app.\n",
    "\n",
    "\n",
    "***Survey/Questionnaire***:\n",
    "Seoul Bike company is located in Korea , so there\n",
    "timezone are different from the UCL team.\n",
    "Survey/Questionnaire are useful since it can be finished\n",
    "anytime. The survey can force users to select from\n",
    "choices, rate something (“Agree Strongly, agree…”), or have open ended questions allowing free-form responses. Survey design is hard – questions can bias the respondents.\n",
    "\n",
    "\n",
    "***Brainstorming***:\n",
    "Brainstorming is used in requirement gathering to get as\n",
    "many ideas as possible from group of people. Generally used to identify possible solutions to problems, and clarify details of opportunities.\n",
    "\n",
    "\n",
    "***Analysing documentation***:\n",
    "There are many bike rent company similar to Seoul Bike\n",
    "Company. Reviewing the documentation of their existing\n",
    "system can help when creating AS–IS process document, as well as driving gap analysis for scoping of migration projects.\n",
    "\n",
    "\n"
   ]
  },
  {
   "cell_type": "markdown",
   "metadata": {},
   "source": [
    "#### Context Diagram\n",
    "The following context diagram shows the interactions\n",
    "between the web app\n",
    "system\n",
    "and external factors with which the system is designed to\n",
    " interface.\n",
    "For this web app, the main stakeholders are employees of\n",
    "the Seoul Bike company. Data analysts will use the data\n",
    "visualization provided by the web app to analysis\n",
    "business,and provide predictions/advice as a report\n",
    "submitted through the web app. Managers need to read\n",
    "those reports. And both of them should be able to read\n",
    "those reports to give feedback.\n",
    "![Context diagram](requirements_images/context_diagram.jpg)"
   ]
  },
  {
   "cell_type": "markdown",
   "metadata": {},
   "source": []
  },
  {
   "cell_type": "markdown",
   "metadata": {},
   "source": [
    "\n",
    "\n",
    "### Requirement specification method\n",
    "<strong>Method : User stories</strong>\n",
    "\n",
    "User stories allow the UCLsoft team to leverage existing\n",
    "competencies to empower stakeholders.\n",
    "During the identification of user stories, there were two\n",
    "more technical skills used:\n",
    "User story slicing and splitting\n",
    "These indicate each acceptance criterion should be\n",
    "independently testable, and each acceptance criterion test\n",
    " should have a clear pass/fail result.\n",
    "\n",
    "14 user stories were identified during the given period,\n",
    "and it may evolve further during each design cycle."
   ]
  },
  {
   "cell_type": "markdown",
   "metadata": {},
   "source": []
  },
  {
   "cell_type": "markdown",
   "metadata": {},
   "source": [
    "\n",
    "<img src=\"requirements_images/user_stories.jpg\" />"
   ]
  },
  {
   "cell_type": "markdown",
   "metadata": {},
   "source": []
  },
  {
   "cell_type": "markdown",
   "metadata": {},
   "source": [
    "\n",
    "### Prioritisation method\n",
    "<strong>Story mapping</strong>\n",
    "\n",
    "A user's story map is a powerful tool that helps the\n",
    "entire UCLsoft\n",
    "team see the forest though the trees. It's a technique that keeps the team focused on the user experience and results in better dialogue and conversation.\n",
    "  \n",
    " To create a user story map we take all the user stories for a product release and place them into a sequence of how a customer uses the product. From the left to the right. The vertical columns of the story map provide details under the higher level story or theme.\n",
    " <img src=\"requirements_images/User_story_card.jpg\"\n",
    " width=\"560\" height=\"1470\">\n"
   ]
  },
  {
   "cell_type": "code",
   "execution_count": null,
   "metadata": {
    "pycharm": {
     "name": "#%%\n"
    }
   },
   "outputs": [],
   "source": []
  },
  {
   "cell_type": "markdown",
   "metadata": {},
   "source": []
  },
  {
   "cell_type": "markdown",
   "metadata": {},
   "source": [
    " - So how do we know the user story will meet all of the users expectations? Teams define this with acceptance criteria, which are the conditions that tell us when the user story is working as intended and satisfying the customer.\n",
    " - The list focuses on outcomes that a user would be able to pass or fail without any working technical knowledge. Acceptance criteria is not meant to be an all inclusive list of every detail but it gives the team enough to go on and enough information to remember, discuss, and test the story.\n"
   ]
  },
  {
   "cell_type": "markdown",
   "metadata": {},
   "source": [
    "A story map tells the whole story versus a small part of it. It's a technique that keeps the team focused on the user experience and results in better dialog and conversation. To create a user story map, we take all the user stories and place them in sequence of how a customer uses the product from left to right. The vertical columns of a story map provide the details under the higher level story or theme. For our online coffee store, user stories about browsing and searching would be on the left followed by selecting items, managing the cart, checkout, and on the far right, stories related to viewing shipping status or viewing previous orders. The stories listed vertically are detailed out such that the top line are buckets of stories or a theme and the detailed stories come below. Story mapping is a great way to discover gaps in requirements and analyze flow, data, and the user journey. User stories and story maps are great analysis techniques for all projects. I encourage you to continue to learn more about how to use this great technique to discover high quality requirements.\n",
    " \n",
    "### Documented and prioritised requirements\n",
    "Link to the full list of documented and prioritised requirements.\n",
    "\n",
    "\n",
    "<img src=\"requirements_images/user_story_map.jpg\"\n",
    "width=\"750\" height=\"500\" >|"
   ]
  },
  {
   "cell_type": "markdown",
   "metadata": {},
   "source": []
  },
  {
   "cell_type": "markdown",
   "metadata": {},
   "source": [
    "\n",
    "## Design\n",
    "### Structure and flow of the interface\n",
    "<img src=\"design_images/Interface design.jpg\" width=\"1015\" height=\"527\" >|\n"
   ]
  },
  {
   "cell_type": "markdown",
   "metadata": {},
   "source": [
    "### Application structure\n",
    "The model-view-controller (MVC) defign pattern:\n",
    " The Model-View-Controller or MVC Pattern. The MVC pattern is a user interface design pattern that promotes separation of concerns across multiple application layers. In MVC, there are three distinct responsibilities: model, view, and controller. The model is where the data of the application is managed. It receives input from the controller. The controller is responsible for receiving user input and passing it to the model in a way that the model will understand. Finally, the view is responsible for presenting the model to the user.\n",
    "\n",
    "Why this pattern?\n",
    "MVC allows separation of concerns, the three distinct responsibilities are clearly defined.\n",
    " It also enables teams to work on these separate concerns\n",
    "    in parallel. This web project should be completed in a relevant short time, for a small team, parallel working will save time and members have their own responsibilities e.g. one writing the view while another works on the model and yet another finishes the controller.  Finally, it's a well-known pattern  in many web frameworks. For beginners, there will be lots of documentations available to assist their work.\n",
    "\n",
    "\n",
    "\n",
    " <img src=\"design_images/mvc_design_pattern.jpg\"\n",
    " width=\"500\" height=\"400\">\n",
    "\n"
   ]
  },
  {
   "cell_type": "markdown",
   "metadata": {},
   "source": [
    "## Class Design\n",
    "<img src=\"design_images/class_design.jpg\" width=\"687\" height=\"600\">"
   ]
  },
  {
   "cell_type": "markdown",
   "metadata": {},
   "source": [
    "why manager\n",
    "We can see that as opposed to the domain model, there are also service classes together with entity classes. We can see managers providing functionality related to some entities and holding the important instances of these entities such as the current article and the current user. It's always a good practice to detach such login into separated managers than to pollute entity classes with it. The domain model only mapped important entities from the business perspective and thus we didn't even think about how the system will actually work inside. With the transition from the domain model to the class diagram, the number of classes will always increase."
   ]
  },
  {
   "cell_type": "markdown",
   "metadata": {},
   "source": [
    "## Route Design\n",
    "\n",
    "<img src=\"design_images/routes_design.jpg\" width=\"930\"\n",
    "height=\"600\">\n",
    "\n"
   ]
  },
  {
   "cell_type": "markdown",
   "metadata": {},
   "source": [
    "\n",
    "### Relational database design\n",
    "\n",
    "\n",
    "\n",
    "\n",
    "#### Conceptual database design\n",
    "\n",
    "<img src=\"design_images/conceptual design.jpg\" width=\"875\" height=\"392\">"
   ]
  },
  {
   "cell_type": "markdown",
   "metadata": {},
   "source": [
    "#### Logical  database design\n",
    "\n",
    "<img src=\"design_images/logic design.jpg\" width=\"1088\" height=\"559\">\n",
    "\n",
    "\n",
    "\n",
    "\n",
    "\n"
   ]
  },
  {
   "cell_type": "markdown",
   "metadata": {},
   "source": [
    "Why sqlite\n",
    "SQLite is a server-less database and is self-contained. This is also referred to as an embedded database which means the DB engine runs as a part of the app.\n",
    "\n",
    "On the other hand, MySQL requires a server to run. MySQL will require a client and server architecture to interact over a network.\n",
    "\n",
    "why changed datatype:\n",
    "The conceptual database design described the datatypes\n",
    "of each field. However, those were just descriptions.\n",
    "SQLite only supports these datatypes: Blob, Integer, Null,\n",
    "Text, Real. In the logical database, the datatypes were\n",
    "fit into the SQLite datatypes.\n",
    "\n",
    "MySQL supports the below-mentioned datatypes:\n",
    "\n",
    "Tinyint, Smallint, Mediumint, Int, Bigint, Double, Float, Real, Decimal, Double precision, Numeric, Timestamp, Date, Datetime, Char, Varchar, Year, Tinytext, Tinyblob, Blob, Text, MediumBlob, MediumText, Enum, Set, Longblob, Longtext.\n",
    "\n",
    "why this is primary key/cpk\n",
    "why relation"
   ]
  },
  {
   "cell_type": "markdown",
   "metadata": {},
   "source": []
  },
  {
   "cell_type": "markdown",
   "metadata": {},
   "source": []
  },
  {
   "cell_type": "markdown",
   "metadata": {},
   "source": [
    "\n",
    "## Testing\n",
    "### Choice of unit testing library\n",
    "pytest\n",
    "We can make our system explicitly raise an exception so it avoids completing the wrong behavior. This spares your intended end user from encountering errors and avoids malfunctions that could degrade the larger system itself. In other cases, we may want the system to continue code execution while avoiding the unwanted behavior. In this case, the system would log that it didn't complete an action to the user, and continue running.\n",
    "To indicate that an exception is to be expected in pytest, you must use a context manager like so. Here, in this test, we can see on lines 10 and 11 this comment that includes the pytest context manager. In pytest, you can use the context manager to capture an exception which you can see on line 11. Manually here, we're raising a generic exception, and for pytest, if this context manager is able to raise an exception, the test will subsequently pass. If the context manager does not catch an exception then the test will fail."
   ]
  },
  {
   "cell_type": "markdown",
   "metadata": {},
   "source": [
    "### Tests\n",
    "[test_user.py](tests/test_user.py)\n",
    "\n",
    "### Test results\n",
    "Provide evidence that the tests have been run and the results of the tests (e.g. screenshot).\n",
    "\n",
    "\n",
    "![Test result 2](tests_result_screenshot/test.jpg)\n",
    "![Coverage result 1](tests_result_screenshot/coverage.jpg)\n",
    "![Coverage result 2](tests_result_screenshot/missing_covr.jpg)"
   ]
  },
  {
   "cell_type": "markdown",
   "metadata": {},
   "source": [
    "\n",
    "### Continuous integration (optional)\n",
    "Consider using GitHub Actions (or other) to establish a continuous integration pipeline."
   ]
  },
  {
   "cell_type": "markdown",
   "metadata": {},
   "source": [
    "\n",
    "![GitHub Actions](tests_result_screenshot/github_action.jpg)"
   ]
  },
  {
   "cell_type": "markdown",
   "metadata": {},
   "source": []
  },
  {
   "cell_type": "markdown",
   "metadata": {},
   "source": [
    "\n",
    "\n",
    "## References\n",
    "\n",
    "Delete this instruction text before submitting:\n",
    "\n",
    "- Include references to any templates you have used.\n",
    "- If you justify any of your choices with references then remember to also include these.\n",
    "- Use any [referencing style](https://library-guides.ucl.ac.uk/referencing-plagiarism/referencing-styles) that you are\n",
    "  used to using in your course."
   ]
  },
  {
   "cell_type": "code",
   "execution_count": null,
   "metadata": {
    "pycharm": {
     "name": "#%%\n"
    }
   },
   "outputs": [],
   "source": []
  },
  {
   "cell_type": "code",
   "execution_count": null,
   "metadata": {
    "pycharm": {
     "name": "#%%\n"
    }
   },
   "outputs": [],
   "source": []
  },
  {
   "cell_type": "code",
   "execution_count": null,
   "metadata": {
    "pycharm": {
     "name": "#%%\n"
    }
   },
   "outputs": [],
   "source": []
  },
  {
   "cell_type": "code",
   "execution_count": null,
   "metadata": {
    "pycharm": {
     "name": "#%%\n"
    }
   },
   "outputs": [],
   "source": []
  }
 ],
 "metadata": {
  "kernelspec": {
   "display_name": "Python 3 (ipykernel)",
   "language": "python",
   "name": "python3"
  },
  "language_info": {
   "codemirror_mode": {
    "name": "ipython",
    "version": 3
   },
   "file_extension": ".py",
   "mimetype": "text/x-python",
   "name": "python",
   "nbconvert_exporter": "python",
   "pygments_lexer": "ipython3",
   "version": "3.9.1"
  }
 },
 "nbformat": 4,
 "nbformat_minor": 1
}