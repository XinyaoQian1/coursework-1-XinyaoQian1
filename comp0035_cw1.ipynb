{
 "cells": [
  {
   "cell_type": "markdown",
   "metadata": {
    "collapsed": true,
    "pycharm": {
     "name": "#%% md\n"
    }
   },
   "source": [
    "# Coursework 1\n",
    "\n",
    "## Technical information\n",
    "### Repository URL\n",
    "Please add the URL to your repository below, then delete this instruction text.\n",
    "[Repository]()\n",
    "\n",
    "### Set-up instructions\n",
    "\n",
    "Assume that requirements will be installed from requirements.txt.\n",
    "\n",
    "If you have used any libraries that require set-up beyond `pip install ...` then use this section to explain any set-up\n",
    "instructions to be followed to run your coursework.\n",
    "\n",
    "If the marker cannot execute your coursework they can't grade it!\n",
    "\n",
    "\n",
    "## Selection of project methodology\n",
    "### Methodology (or combination) selected\n",
    "\n",
    "### Selection criteria and justification of selection\n",
    "\n",
    "\n",
    "## Definition of the business need\n",
    "### Problem definition\n",
    "\n",
    "### Target audience\n",
    "\n",
    "### Questions to be answered using the dataset\n",
    "\n",
    "### Suggested web app\n",
    "\n",
    "## Data preparation and exploration\n",
    "### Data preparation\n",
    "\n",
    "[Data Preparation](data_preparation.py)\n",
    "\n",
    "### Prepared data set\n",
    "Please add names of your data set files in this repository below, then delete this instruction text.\n",
    "[Original data set]()\n",
    "[Prepared data set]()\n",
    "\n",
    "### Data exploration\n",
    "\n",
    "[Data Exploration]()\n",
    "\n",
    "## Weekly progress reports\n",
    "Copy and paste from Moodle or use the following structure. Delete this instruction text.\n",
    "\n",
    "What I did in the last week:\n",
    "- item\n",
    "- item\n",
    "\n",
    "What I plan to do in the next week:\n",
    "- item\n",
    "- item\n",
    "\n",
    "Issues blocking my progress (state ‘None’ if there are no issues):\n",
    "- item\n",
    "- item\n",
    "\n",
    "### Report 1\n",
    "\n",
    "### Report 2\n",
    "\n",
    "### Report 3\n",
    "\n",
    "### Report 4\n",
    "\n",
    "## References\n",
    "Use any [referencing style](https://library-guides.ucl.ac.uk/referencing-plagiarism/referencing-styles) that you are\n",
    "used to using in your course.\n"
   ]
  }
 ],
 "metadata": {
  "kernelspec": {
   "display_name": "Python 3",
   "language": "python",
   "name": "python3"
  },
  "language_info": {
   "codemirror_mode": {
    "name": "ipython",
    "version": 2
   },
   "file_extension": ".py",
   "mimetype": "text/x-python",
   "name": "python",
   "nbconvert_exporter": "python",
   "pygments_lexer": "ipython2",
   "version": "2.7.6"
  }
 },
 "nbformat": 4,
 "nbformat_minor": 0
}