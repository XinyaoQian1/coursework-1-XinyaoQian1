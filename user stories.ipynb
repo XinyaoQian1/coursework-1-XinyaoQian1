{
 "cells": [
  {
   "cell_type": "markdown",
   "metadata": {
    "collapsed": true,
    "pycharm": {
     "name": "#%% md\n"
    }
   },
   "source": [
    "<table>\n",
    "    <tr>\n",
    "        <td></td>\n",
    "        <td>User Stories</td>\n",
    "        <td>Acceptance Criteria </td>\n",
    "    </tr>\n",
    "\t<tr>\n",
    "\t\t<td>1 <br></td>\n",
    "\t\t<td>As a new user, I want to register by creating a username and password so that the system can remember me and my data.<style>table\n",
    "</td>\n",
    "\t\t<td>&nbsp;1. Given that I am a new user when I go to the signup page and enter a username and password and click on sign up, then I am successfully registered and able to log in with my chosen credentials.</td>\n",
    "\t</tr>\n",
    "\t<tr>\n",
    "\t\t<td>2</td>\n",
    "\t\t<td>As a registered user, I want to log in to the web app with my username and password so that the system can authenticate me.</td>\n",
    "\t\t<td>&nbsp;1. Given that I am a registered user and logged out if I go to the login page and enter my username and password and click on Log in, then the data associated with my user should be accessible. <br>&nbsp;2. Given that I am a registered user and logged out if I go to the login page and enter my username but an incorrect password and click on Log in, then log in fails with an error message that specifies that the username or password was wrong.</td>\n",
    "\t</tr>\n",
    "\t<tr>\n",
    "\t\t<td>3<br></td>\n",
    "\t\t<td>As a registered user, I want to be able to reset my password occasionally so that I can keep it secure.</td>\n",
    "\t\t<td>1.&nbsp;&nbsp; &nbsp;Given that I am a registered user who chose to reset my password, and now verification of my current password is needed. If I enter the current password right, I will be direct to the password reset page to enter my new password. <br>2.&nbsp;&nbsp; &nbsp;Given that I am a registered user who chose to reset my password, and now verification of my current password is needed. If I enter the current password wrong, then the verification was failed with an error message that specifies that the username or password was wrong. <br>3.&nbsp;&nbsp; &nbsp;Given that I verify my current password successfully and am now at the stage of entering my new password. If my entered new password is different from the current one after I click on continue, I will be directed to the login page and able to log in with my new password. <br>4.&nbsp;&nbsp; &nbsp;Given that I verify my current password successfully and am now at the stage of entering my new password. If my entered new password is the same as the current one, after I click on continue, I will stay at the password reset page with an error message that specifies that the new password was the same as the current one.</td>\n",
    "\t</tr>\n",
    "\t<tr>\n",
    "\t\t<td>4 <br></td>\n",
    "\t\t<td>As a web app user, I want search functionality to be available on all pages so that I can search for data.</td>\n",
    "\t\t<td>1.&nbsp;&nbsp; &nbsp;A search box appears on the page of data dashboard. <br>2.&nbsp;&nbsp; &nbsp;A search box appears at the top of every result page.</td>\n",
    "\t</tr>\n",
    "\t<tr>\n",
    "\t\t<td>5 <br></td>\n",
    "\t\t<td>As a web app user, I want a search box so that I can look for data by entering keywords.</td>\n",
    "\t\t<td>1.&nbsp;&nbsp; &nbsp;The search box should accept alphanumeric values. <br>2.&nbsp;&nbsp; &nbsp;Search results should display 10 items per page. <br>3.&nbsp;&nbsp; &nbsp;The system responds to all search requests within 2 seconds of receiving the request.</td>\n",
    "\t</tr>\n",
    "\t<tr>\n",
    "\t\t<td>6 <br></td>\n",
    "\t\t<td>As a web app user, I want to be able to log out of the web app so that I can keep the security of my account.</td>\n",
    "\t\t<td>1.&nbsp;&nbsp;&nbsp; If I click on Log out, I should go back to the welcome page within 2 ms. <br>2.&nbsp;&nbsp;&nbsp; Log out should be found on the page of username. <br></td>\n",
    "\t</tr>\n",
    "\t<tr>\n",
    "\t\t<td>7 <br></td>\n",
    "\t\t<td>As a web app user, I want to view the rating of reports so that I can know how others think about a report.<br></td>\n",
    "\t\t<td>1.&nbsp;&nbsp; The rate should be shown in a form of an integer.<br>2.&nbsp;&nbsp; The rate should be ranged between 1 and 5.<br></td>\n",
    "\t</tr>\n",
    "\t<tr>\n",
    "\t\t<td>8<br></td>\n",
    "\t\t<td>As a manager, I want to view reports so that I can understand the business.</td>\n",
    "\t\t<td>1.&nbsp;&nbsp; When I choose one report, I should be able to see content as the largest part of the page.<br>2.&nbsp;&nbsp; I should be able to know the title, author, submission time and rate of the report.</td>\n",
    "\t</tr>\n",
    "\t<tr>\n",
    "\t\t<td>9<br></td>\n",
    "\t\t<td>As a web user, I want to rate a report after viewing it so that I can reflect on my feelings.<br></td>\n",
    "\t\t<td>1. The rating region should be made clickable.<br>2. The rating should be associated with a report<br></td>\n",
    "\t</tr>\n",
    "\t<tr>\n",
    "\t\t<td>10<br></td>\n",
    "\t\t<td>As a data analyst, I want to be notified if there has been an unsuccessful report submission process so that I can report to technical teams.</td>\n",
    "\t\t<td>1. If the file is not submitted successfully, a notification of unsuccessful submission should appear. <br><br></td>\n",
    "\t</tr>\n",
    "\t<tr>\n",
    "\t\t<td>11 <br></td>\n",
    "\t\t<td>As a web app user, I want to be able to run the web app on macOS so that it works on my office devices.<br></td>\n",
    "\t\t<td>1.&nbsp;&nbsp; &nbsp;The app should be able to run on macOS 10.15.7 and later visions.</td>\n",
    "\t</tr>\n",
    "\t<tr>\n",
    "\t\t<td>12 <br></td>\n",
    "\t\t<td>As a data analyst, I want to be able to submit my report so that I can finish my task.</td>\n",
    "\t\t<td>1.&nbsp;&nbsp; &nbsp;I can select a file from my PC. <br>2.&nbsp;&nbsp; &nbsp;I can add a title to my submission.</td>\n",
    "\t</tr>\n",
    "\t<tr>\n",
    "\t\t<td>13 <br></td>\n",
    "\t\t<td>As a web user, I want to be able to view basic information of reports so that I can decide to read or not.</td>\n",
    "\t\t<td>1. I should be able to see a layout of reports, which contains titles, authors and submission time.<br>2. Titles should be the largest module among three information.<br>3. Time should be the date form including day, month and year.</td>\n",
    "\t</tr>\n",
    "\t<tr>\n",
    "\t\t<td>14 <br></td>\n",
    "\t\t<td>As a web app user, I want to be able to view data visuallisations so that I can understand the corresponding raw data better. <br></td>\n",
    "\t\t<td>1.&nbsp;&nbsp; &nbsp;The data visualisations can be zoomed in and out. <br>2.&nbsp;&nbsp; &nbsp;The data visualisations resolutions should be 300 or above.</td>\n",
    "\t</tr>\n",
    "\t<tr>\n",
    "\t\t<td><br></td>\n",
    "\t\t<td>&nbsp;</td>\n",
    "\t\t<td>&nbsp;</td>\n",
    "\t</tr>\n",
    "\t<tbody>\n",
    "</table>"
   ]
  },
  {
   "cell_type": "code",
   "execution_count": null,
   "outputs": [],
   "source": [],
   "metadata": {
    "collapsed": false,
    "pycharm": {
     "name": "#%%\n"
    }
   }
  }
 ],
 "metadata": {
  "kernelspec": {
   "display_name": "Python 3",
   "language": "python",
   "name": "python3"
  },
  "language_info": {
   "codemirror_mode": {
    "name": "ipython",
    "version": 2
   },
   "file_extension": ".py",
   "mimetype": "text/x-python",
   "name": "python",
   "nbconvert_exporter": "python",
   "pygments_lexer": "ipython2",
   "version": "2.7.6"
  }
 },
 "nbformat": 4,
 "nbformat_minor": 0
}