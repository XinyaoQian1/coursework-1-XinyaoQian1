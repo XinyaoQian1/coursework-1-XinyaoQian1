{
 "cells": [
  {
   "cell_type": "markdown",
   "source": [
    "## Data preparation\n",
    "### Dataset Description\n",
    "Currently, rental bikes are introduced in many urban\n",
    "cities for the enhancement of mobility comfort. It is\n",
    "important to make the rental bike available and\n",
    "accessible to the public at the right time as it lessens\n",
    " the waiting time. Eventually, providing the city with a\n",
    " stable supply of rental bikes becomes a major concern.\n",
    " The crucial part is the prediction of bike count\n",
    " required at each hour for the stable supply of rental\n",
    " bikes. The dataset contains weather information\n",
    " (Temperature,Humidity, Windspeed, Visibility, Dewpoint, Solar\n",
    "radiation, Snowfall, Rainfall), the number of bikes\n",
    "rented per hour and date information."
   ],
   "metadata": {
    "collapsed": false,
    "pycharm": {
     "name": "#%% md\n"
    }
   }
  },
  {
   "cell_type": "markdown",
   "source": [
    "### Import packages and datasets"
   ],
   "metadata": {
    "collapsed": false
   }
  },
  {
   "cell_type": "code",
   "source": [
    "#Import package\n",
    "import pandas as pd"
   ],
   "metadata": {
    "collapsed": false,
    "pycharm": {
     "name": "#%%\n"
    }
   },
   "execution_count": 46,
   "outputs": []
  },
  {
   "cell_type": "code",
   "source": [
    "# import dataset\n",
    "df = pd.read_csv(\"Raw_data.csv\",\n",
    "                 encoding='latin1',parse_dates=['Date'])\n",
    "df.head()"
   ],
   "metadata": {
    "collapsed": false,
    "pycharm": {
     "name": "#%%\n"
    }
   },
   "execution_count": 47,
   "outputs": [
    {
     "data": {
      "text/plain": "        Date  Rented Bike Count  Hour  Temperature(°C)  Humidity(%)  \\\n0 2017-01-12                254     0             -5.2           37   \n1 2017-01-12                204     1             -5.5           38   \n2 2017-01-12                173     2             -6.0           39   \n3 2017-01-12                107     3             -6.2           40   \n4 2017-01-12                 78     4             -6.0           36   \n\n   Wind speed (m/s)  Visibility (10m)  Dew point temperature(°C)  \\\n0               2.2              2000                      -17.6   \n1               0.8              2000                      -17.6   \n2               1.0              2000                      -17.7   \n3               0.9              2000                      -17.6   \n4               2.3              2000                      -18.6   \n\n   Solar Radiation (MJ/m2)  Rainfall(mm)  Snowfall (cm) Seasons     Holiday  \\\n0                      0.0           0.0            0.0  Winter  No Holiday   \n1                      0.0           0.0            0.0  Winter  No Holiday   \n2                      0.0           0.0            0.0  Winter  No Holiday   \n3                      0.0           0.0            0.0  Winter  No Holiday   \n4                      0.0           0.0            0.0  Winter  No Holiday   \n\n  Functioning Day  \n0             Yes  \n1             Yes  \n2             Yes  \n3             Yes  \n4             Yes  ",
      "text/html": "<div>\n<style scoped>\n    .dataframe tbody tr th:only-of-type {\n        vertical-align: middle;\n    }\n\n    .dataframe tbody tr th {\n        vertical-align: top;\n    }\n\n    .dataframe thead th {\n        text-align: right;\n    }\n</style>\n<table border=\"1\" class=\"dataframe\">\n  <thead>\n    <tr style=\"text-align: right;\">\n      <th></th>\n      <th>Date</th>\n      <th>Rented Bike Count</th>\n      <th>Hour</th>\n      <th>Temperature(°C)</th>\n      <th>Humidity(%)</th>\n      <th>Wind speed (m/s)</th>\n      <th>Visibility (10m)</th>\n      <th>Dew point temperature(°C)</th>\n      <th>Solar Radiation (MJ/m2)</th>\n      <th>Rainfall(mm)</th>\n      <th>Snowfall (cm)</th>\n      <th>Seasons</th>\n      <th>Holiday</th>\n      <th>Functioning Day</th>\n    </tr>\n  </thead>\n  <tbody>\n    <tr>\n      <th>0</th>\n      <td>2017-01-12</td>\n      <td>254</td>\n      <td>0</td>\n      <td>-5.2</td>\n      <td>37</td>\n      <td>2.2</td>\n      <td>2000</td>\n      <td>-17.6</td>\n      <td>0.0</td>\n      <td>0.0</td>\n      <td>0.0</td>\n      <td>Winter</td>\n      <td>No Holiday</td>\n      <td>Yes</td>\n    </tr>\n    <tr>\n      <th>1</th>\n      <td>2017-01-12</td>\n      <td>204</td>\n      <td>1</td>\n      <td>-5.5</td>\n      <td>38</td>\n      <td>0.8</td>\n      <td>2000</td>\n      <td>-17.6</td>\n      <td>0.0</td>\n      <td>0.0</td>\n      <td>0.0</td>\n      <td>Winter</td>\n      <td>No Holiday</td>\n      <td>Yes</td>\n    </tr>\n    <tr>\n      <th>2</th>\n      <td>2017-01-12</td>\n      <td>173</td>\n      <td>2</td>\n      <td>-6.0</td>\n      <td>39</td>\n      <td>1.0</td>\n      <td>2000</td>\n      <td>-17.7</td>\n      <td>0.0</td>\n      <td>0.0</td>\n      <td>0.0</td>\n      <td>Winter</td>\n      <td>No Holiday</td>\n      <td>Yes</td>\n    </tr>\n    <tr>\n      <th>3</th>\n      <td>2017-01-12</td>\n      <td>107</td>\n      <td>3</td>\n      <td>-6.2</td>\n      <td>40</td>\n      <td>0.9</td>\n      <td>2000</td>\n      <td>-17.6</td>\n      <td>0.0</td>\n      <td>0.0</td>\n      <td>0.0</td>\n      <td>Winter</td>\n      <td>No Holiday</td>\n      <td>Yes</td>\n    </tr>\n    <tr>\n      <th>4</th>\n      <td>2017-01-12</td>\n      <td>78</td>\n      <td>4</td>\n      <td>-6.0</td>\n      <td>36</td>\n      <td>2.3</td>\n      <td>2000</td>\n      <td>-18.6</td>\n      <td>0.0</td>\n      <td>0.0</td>\n      <td>0.0</td>\n      <td>Winter</td>\n      <td>No Holiday</td>\n      <td>Yes</td>\n    </tr>\n  </tbody>\n</table>\n</div>"
     },
     "execution_count": 47,
     "metadata": {},
     "output_type": "execute_result"
    }
   ]
  },
  {
   "cell_type": "code",
   "source": [
    "df.tail()"
   ],
   "metadata": {
    "collapsed": false,
    "pycharm": {
     "name": "#%%\n"
    }
   },
   "execution_count": 48,
   "outputs": [
    {
     "data": {
      "text/plain": "           Date  Rented Bike Count  Hour  Temperature(°C)  Humidity(%)  \\\n8755 2018-11-30               1003    19              4.2           34   \n8756 2018-11-30                764    20              3.4           37   \n8757 2018-11-30                694    21              2.6           39   \n8758 2018-11-30                712    22              2.1           41   \n8759 2018-11-30                584    23              1.9           43   \n\n      Wind speed (m/s)  Visibility (10m)  Dew point temperature(°C)  \\\n8755               2.6              1894                      -10.3   \n8756               2.3              2000                       -9.9   \n8757               0.3              1968                       -9.9   \n8758               1.0              1859                       -9.8   \n8759               1.3              1909                       -9.3   \n\n      Solar Radiation (MJ/m2)  Rainfall(mm)  Snowfall (cm) Seasons  \\\n8755                      0.0           0.0            0.0  Autumn   \n8756                      0.0           0.0            0.0  Autumn   \n8757                      0.0           0.0            0.0  Autumn   \n8758                      0.0           0.0            0.0  Autumn   \n8759                      0.0           0.0            0.0  Autumn   \n\n         Holiday Functioning Day  \n8755  No Holiday             Yes  \n8756  No Holiday             Yes  \n8757  No Holiday             Yes  \n8758  No Holiday             Yes  \n8759  No Holiday             Yes  ",
      "text/html": "<div>\n<style scoped>\n    .dataframe tbody tr th:only-of-type {\n        vertical-align: middle;\n    }\n\n    .dataframe tbody tr th {\n        vertical-align: top;\n    }\n\n    .dataframe thead th {\n        text-align: right;\n    }\n</style>\n<table border=\"1\" class=\"dataframe\">\n  <thead>\n    <tr style=\"text-align: right;\">\n      <th></th>\n      <th>Date</th>\n      <th>Rented Bike Count</th>\n      <th>Hour</th>\n      <th>Temperature(°C)</th>\n      <th>Humidity(%)</th>\n      <th>Wind speed (m/s)</th>\n      <th>Visibility (10m)</th>\n      <th>Dew point temperature(°C)</th>\n      <th>Solar Radiation (MJ/m2)</th>\n      <th>Rainfall(mm)</th>\n      <th>Snowfall (cm)</th>\n      <th>Seasons</th>\n      <th>Holiday</th>\n      <th>Functioning Day</th>\n    </tr>\n  </thead>\n  <tbody>\n    <tr>\n      <th>8755</th>\n      <td>2018-11-30</td>\n      <td>1003</td>\n      <td>19</td>\n      <td>4.2</td>\n      <td>34</td>\n      <td>2.6</td>\n      <td>1894</td>\n      <td>-10.3</td>\n      <td>0.0</td>\n      <td>0.0</td>\n      <td>0.0</td>\n      <td>Autumn</td>\n      <td>No Holiday</td>\n      <td>Yes</td>\n    </tr>\n    <tr>\n      <th>8756</th>\n      <td>2018-11-30</td>\n      <td>764</td>\n      <td>20</td>\n      <td>3.4</td>\n      <td>37</td>\n      <td>2.3</td>\n      <td>2000</td>\n      <td>-9.9</td>\n      <td>0.0</td>\n      <td>0.0</td>\n      <td>0.0</td>\n      <td>Autumn</td>\n      <td>No Holiday</td>\n      <td>Yes</td>\n    </tr>\n    <tr>\n      <th>8757</th>\n      <td>2018-11-30</td>\n      <td>694</td>\n      <td>21</td>\n      <td>2.6</td>\n      <td>39</td>\n      <td>0.3</td>\n      <td>1968</td>\n      <td>-9.9</td>\n      <td>0.0</td>\n      <td>0.0</td>\n      <td>0.0</td>\n      <td>Autumn</td>\n      <td>No Holiday</td>\n      <td>Yes</td>\n    </tr>\n    <tr>\n      <th>8758</th>\n      <td>2018-11-30</td>\n      <td>712</td>\n      <td>22</td>\n      <td>2.1</td>\n      <td>41</td>\n      <td>1.0</td>\n      <td>1859</td>\n      <td>-9.8</td>\n      <td>0.0</td>\n      <td>0.0</td>\n      <td>0.0</td>\n      <td>Autumn</td>\n      <td>No Holiday</td>\n      <td>Yes</td>\n    </tr>\n    <tr>\n      <th>8759</th>\n      <td>2018-11-30</td>\n      <td>584</td>\n      <td>23</td>\n      <td>1.9</td>\n      <td>43</td>\n      <td>1.3</td>\n      <td>1909</td>\n      <td>-9.3</td>\n      <td>0.0</td>\n      <td>0.0</td>\n      <td>0.0</td>\n      <td>Autumn</td>\n      <td>No Holiday</td>\n      <td>Yes</td>\n    </tr>\n  </tbody>\n</table>\n</div>"
     },
     "execution_count": 48,
     "metadata": {},
     "output_type": "execute_result"
    }
   ]
  },
  {
   "cell_type": "markdown",
   "source": [
    "### More information based on inspection\n",
    "The dataset contains dates from 01/12/2017 to 30/11/2018.\n",
    "Each day was split into 24 hours,so we had 24 rows for\n",
    "each day.\n",
    "\n"
   ],
   "metadata": {
    "collapsed": false,
    "pycharm": {
     "name": "#%% md\n"
    }
   }
  },
  {
   "cell_type": "markdown",
   "source": [
    "### Display some basic information about the data frame"
   ],
   "metadata": {
    "collapsed": false
   }
  },
  {
   "cell_type": "code",
   "execution_count": 49,
   "outputs": [
    {
     "name": "stdout",
     "output_type": "stream",
     "text": [
      "No. of columns =  14\n",
      "No. of rows =  8760\n",
      "(8760, 14)\n"
     ]
    }
   ],
   "source": [
    "# Print the number of rows and columns in the DataFrame\n",
    "print('No. of columns = ',len(df.columns))\n",
    "print('No. of rows = ',len(df))\n",
    "print(df.shape)"
   ],
   "metadata": {
    "collapsed": false,
    "pycharm": {
     "name": "#%%\n"
    }
   }
  },
  {
   "cell_type": "code",
   "execution_count": 50,
   "outputs": [
    {
     "name": "stdout",
     "output_type": "stream",
     "text": [
      "<class 'pandas.core.frame.DataFrame'>\n",
      "RangeIndex: 8760 entries, 0 to 8759\n",
      "Data columns (total 14 columns):\n",
      " #   Column                     Non-Null Count  Dtype         \n",
      "---  ------                     --------------  -----         \n",
      " 0   Date                       8760 non-null   datetime64[ns]\n",
      " 1   Rented Bike Count          8760 non-null   int64         \n",
      " 2   Hour                       8760 non-null   int64         \n",
      " 3   Temperature(°C)            8760 non-null   float64       \n",
      " 4   Humidity(%)                8760 non-null   int64         \n",
      " 5   Wind speed (m/s)           8760 non-null   float64       \n",
      " 6   Visibility (10m)           8760 non-null   int64         \n",
      " 7   Dew point temperature(°C)  8760 non-null   float64       \n",
      " 8   Solar Radiation (MJ/m2)    8760 non-null   float64       \n",
      " 9   Rainfall(mm)               8760 non-null   float64       \n",
      " 10  Snowfall (cm)              8760 non-null   float64       \n",
      " 11  Seasons                    8760 non-null   object        \n",
      " 12  Holiday                    8760 non-null   object        \n",
      " 13  Functioning Day            8760 non-null   object        \n",
      "dtypes: datetime64[ns](1), float64(6), int64(4), object(3)\n",
      "memory usage: 958.2+ KB\n"
     ]
    }
   ],
   "source": [
    "df.info()"
   ],
   "metadata": {
    "collapsed": false,
    "pycharm": {
     "name": "#%%\n"
    }
   }
  },
  {
   "cell_type": "markdown",
   "source": [],
   "metadata": {
    "collapsed": false
   }
  },
  {
   "cell_type": "markdown",
   "source": [
    "### Check for null values"
   ],
   "metadata": {
    "collapsed": false
   }
  },
  {
   "cell_type": "code",
   "execution_count": 51,
   "outputs": [
    {
     "data": {
      "text/plain": "Date                         0\nRented Bike Count            0\nHour                         0\nTemperature(°C)              0\nHumidity(%)                  0\nWind speed (m/s)             0\nVisibility (10m)             0\nDew point temperature(°C)    0\nSolar Radiation (MJ/m2)      0\nRainfall(mm)                 0\nSnowfall (cm)                0\nSeasons                      0\nHoliday                      0\nFunctioning Day              0\ndtype: int64"
     },
     "execution_count": 51,
     "metadata": {},
     "output_type": "execute_result"
    }
   ],
   "source": [
    "df.isna().sum()"
   ],
   "metadata": {
    "collapsed": false,
    "pycharm": {
     "name": "#%%\n"
    }
   }
  },
  {
   "cell_type": "markdown",
   "source": [
    "There is no null value in the dataset."
   ],
   "metadata": {
    "collapsed": false
   }
  },
  {
   "cell_type": "markdown",
   "source": [
    "### Check for missing dates"
   ],
   "metadata": {
    "collapsed": false
   }
  },
  {
   "cell_type": "code",
   "execution_count": 52,
   "outputs": [
    {
     "data": {
      "text/plain": "DatetimeIndex(['2017-12-01', '2017-12-02', '2017-12-03', '2017-12-04',\n               '2017-12-05', '2017-12-06', '2017-12-07', '2017-12-08',\n               '2017-12-09', '2017-12-10',\n               ...\n               '2018-11-21', '2018-11-22', '2018-11-23', '2018-11-24',\n               '2018-11-25', '2018-11-26', '2018-11-27', '2018-11-28',\n               '2018-11-29', '2018-11-30'],\n              dtype='datetime64[ns]', length=365, freq='D')"
     },
     "execution_count": 52,
     "metadata": {},
     "output_type": "execute_result"
    }
   ],
   "source": [
    "# how many unique dates should have:\n",
    "pd.date_range('2017-12-01', '2018-11-30')"
   ],
   "metadata": {
    "collapsed": false,
    "pycharm": {
     "name": "#%%\n"
    }
   }
  },
  {
   "cell_type": "code",
   "execution_count": 53,
   "outputs": [
    {
     "data": {
      "text/plain": "array(['2017-01-12T00:00:00.000000000', '2017-02-12T00:00:00.000000000',\n       '2017-03-12T00:00:00.000000000', '2017-04-12T00:00:00.000000000',\n       '2017-05-12T00:00:00.000000000', '2017-06-12T00:00:00.000000000',\n       '2017-07-12T00:00:00.000000000', '2017-08-12T00:00:00.000000000',\n       '2017-09-12T00:00:00.000000000', '2017-10-12T00:00:00.000000000',\n       '2017-11-12T00:00:00.000000000', '2017-12-12T00:00:00.000000000',\n       '2017-12-13T00:00:00.000000000', '2017-12-14T00:00:00.000000000',\n       '2017-12-15T00:00:00.000000000', '2017-12-16T00:00:00.000000000',\n       '2017-12-17T00:00:00.000000000', '2017-12-18T00:00:00.000000000',\n       '2017-12-19T00:00:00.000000000', '2017-12-20T00:00:00.000000000',\n       '2017-12-21T00:00:00.000000000', '2017-12-22T00:00:00.000000000',\n       '2017-12-23T00:00:00.000000000', '2017-12-24T00:00:00.000000000',\n       '2017-12-25T00:00:00.000000000', '2017-12-26T00:00:00.000000000',\n       '2017-12-27T00:00:00.000000000', '2017-12-28T00:00:00.000000000',\n       '2017-12-29T00:00:00.000000000', '2017-12-30T00:00:00.000000000',\n       '2017-12-31T00:00:00.000000000', '2018-01-01T00:00:00.000000000',\n       '2018-02-01T00:00:00.000000000', '2018-03-01T00:00:00.000000000',\n       '2018-04-01T00:00:00.000000000', '2018-05-01T00:00:00.000000000',\n       '2018-06-01T00:00:00.000000000', '2018-07-01T00:00:00.000000000',\n       '2018-08-01T00:00:00.000000000', '2018-09-01T00:00:00.000000000',\n       '2018-10-01T00:00:00.000000000', '2018-11-01T00:00:00.000000000',\n       '2018-12-01T00:00:00.000000000', '2018-01-13T00:00:00.000000000',\n       '2018-01-14T00:00:00.000000000', '2018-01-15T00:00:00.000000000',\n       '2018-01-16T00:00:00.000000000', '2018-01-17T00:00:00.000000000',\n       '2018-01-18T00:00:00.000000000', '2018-01-19T00:00:00.000000000',\n       '2018-01-20T00:00:00.000000000', '2018-01-21T00:00:00.000000000',\n       '2018-01-22T00:00:00.000000000', '2018-01-23T00:00:00.000000000',\n       '2018-01-24T00:00:00.000000000', '2018-01-25T00:00:00.000000000',\n       '2018-01-26T00:00:00.000000000', '2018-01-27T00:00:00.000000000',\n       '2018-01-28T00:00:00.000000000', '2018-01-29T00:00:00.000000000',\n       '2018-01-30T00:00:00.000000000', '2018-01-31T00:00:00.000000000',\n       '2018-01-02T00:00:00.000000000', '2018-02-02T00:00:00.000000000',\n       '2018-03-02T00:00:00.000000000', '2018-04-02T00:00:00.000000000',\n       '2018-05-02T00:00:00.000000000', '2018-06-02T00:00:00.000000000',\n       '2018-07-02T00:00:00.000000000', '2018-08-02T00:00:00.000000000',\n       '2018-09-02T00:00:00.000000000', '2018-10-02T00:00:00.000000000',\n       '2018-11-02T00:00:00.000000000', '2018-12-02T00:00:00.000000000',\n       '2018-02-13T00:00:00.000000000', '2018-02-14T00:00:00.000000000',\n       '2018-02-15T00:00:00.000000000', '2018-02-16T00:00:00.000000000',\n       '2018-02-17T00:00:00.000000000', '2018-02-18T00:00:00.000000000',\n       '2018-02-19T00:00:00.000000000', '2018-02-20T00:00:00.000000000',\n       '2018-02-21T00:00:00.000000000', '2018-02-22T00:00:00.000000000',\n       '2018-02-23T00:00:00.000000000', '2018-02-24T00:00:00.000000000',\n       '2018-02-25T00:00:00.000000000', '2018-02-26T00:00:00.000000000',\n       '2018-02-27T00:00:00.000000000', '2018-02-28T00:00:00.000000000',\n       '2018-01-03T00:00:00.000000000', '2018-02-03T00:00:00.000000000',\n       '2018-03-03T00:00:00.000000000', '2018-04-03T00:00:00.000000000',\n       '2018-05-03T00:00:00.000000000', '2018-06-03T00:00:00.000000000',\n       '2018-07-03T00:00:00.000000000', '2018-08-03T00:00:00.000000000',\n       '2018-09-03T00:00:00.000000000', '2018-10-03T00:00:00.000000000',\n       '2018-11-03T00:00:00.000000000', '2018-12-03T00:00:00.000000000',\n       '2018-03-13T00:00:00.000000000', '2018-03-14T00:00:00.000000000',\n       '2018-03-15T00:00:00.000000000', '2018-03-16T00:00:00.000000000',\n       '2018-03-17T00:00:00.000000000', '2018-03-18T00:00:00.000000000',\n       '2018-03-19T00:00:00.000000000', '2018-03-20T00:00:00.000000000',\n       '2018-03-21T00:00:00.000000000', '2018-03-22T00:00:00.000000000',\n       '2018-03-23T00:00:00.000000000', '2018-03-24T00:00:00.000000000',\n       '2018-03-25T00:00:00.000000000', '2018-03-26T00:00:00.000000000',\n       '2018-03-27T00:00:00.000000000', '2018-03-28T00:00:00.000000000',\n       '2018-03-29T00:00:00.000000000', '2018-03-30T00:00:00.000000000',\n       '2018-03-31T00:00:00.000000000', '2018-01-04T00:00:00.000000000',\n       '2018-02-04T00:00:00.000000000', '2018-03-04T00:00:00.000000000',\n       '2018-04-04T00:00:00.000000000', '2018-05-04T00:00:00.000000000',\n       '2018-06-04T00:00:00.000000000', '2018-07-04T00:00:00.000000000',\n       '2018-08-04T00:00:00.000000000', '2018-09-04T00:00:00.000000000',\n       '2018-10-04T00:00:00.000000000', '2018-11-04T00:00:00.000000000',\n       '2018-12-04T00:00:00.000000000', '2018-04-13T00:00:00.000000000',\n       '2018-04-14T00:00:00.000000000', '2018-04-15T00:00:00.000000000',\n       '2018-04-16T00:00:00.000000000', '2018-04-17T00:00:00.000000000',\n       '2018-04-18T00:00:00.000000000', '2018-04-19T00:00:00.000000000',\n       '2018-04-20T00:00:00.000000000', '2018-04-21T00:00:00.000000000',\n       '2018-04-22T00:00:00.000000000', '2018-04-23T00:00:00.000000000',\n       '2018-04-24T00:00:00.000000000', '2018-04-25T00:00:00.000000000',\n       '2018-04-26T00:00:00.000000000', '2018-04-27T00:00:00.000000000',\n       '2018-04-28T00:00:00.000000000', '2018-04-29T00:00:00.000000000',\n       '2018-04-30T00:00:00.000000000', '2018-01-05T00:00:00.000000000',\n       '2018-02-05T00:00:00.000000000', '2018-03-05T00:00:00.000000000',\n       '2018-04-05T00:00:00.000000000', '2018-05-05T00:00:00.000000000',\n       '2018-06-05T00:00:00.000000000', '2018-07-05T00:00:00.000000000',\n       '2018-08-05T00:00:00.000000000', '2018-09-05T00:00:00.000000000',\n       '2018-10-05T00:00:00.000000000', '2018-11-05T00:00:00.000000000',\n       '2018-12-05T00:00:00.000000000', '2018-05-13T00:00:00.000000000',\n       '2018-05-14T00:00:00.000000000', '2018-05-15T00:00:00.000000000',\n       '2018-05-16T00:00:00.000000000', '2018-05-17T00:00:00.000000000',\n       '2018-05-18T00:00:00.000000000', '2018-05-19T00:00:00.000000000',\n       '2018-05-20T00:00:00.000000000', '2018-05-21T00:00:00.000000000',\n       '2018-05-22T00:00:00.000000000', '2018-05-23T00:00:00.000000000',\n       '2018-05-24T00:00:00.000000000', '2018-05-25T00:00:00.000000000',\n       '2018-05-26T00:00:00.000000000', '2018-05-27T00:00:00.000000000',\n       '2018-05-28T00:00:00.000000000', '2018-05-29T00:00:00.000000000',\n       '2018-05-30T00:00:00.000000000', '2018-05-31T00:00:00.000000000',\n       '2018-01-06T00:00:00.000000000', '2018-02-06T00:00:00.000000000',\n       '2018-03-06T00:00:00.000000000', '2018-04-06T00:00:00.000000000',\n       '2018-05-06T00:00:00.000000000', '2018-06-06T00:00:00.000000000',\n       '2018-07-06T00:00:00.000000000', '2018-08-06T00:00:00.000000000',\n       '2018-09-06T00:00:00.000000000', '2018-10-06T00:00:00.000000000',\n       '2018-11-06T00:00:00.000000000', '2018-12-06T00:00:00.000000000',\n       '2018-06-13T00:00:00.000000000', '2018-06-14T00:00:00.000000000',\n       '2018-06-15T00:00:00.000000000', '2018-06-16T00:00:00.000000000',\n       '2018-06-17T00:00:00.000000000', '2018-06-18T00:00:00.000000000',\n       '2018-06-19T00:00:00.000000000', '2018-06-20T00:00:00.000000000',\n       '2018-06-21T00:00:00.000000000', '2018-06-22T00:00:00.000000000',\n       '2018-06-23T00:00:00.000000000', '2018-06-24T00:00:00.000000000',\n       '2018-06-25T00:00:00.000000000', '2018-06-26T00:00:00.000000000',\n       '2018-06-27T00:00:00.000000000', '2018-06-28T00:00:00.000000000',\n       '2018-06-29T00:00:00.000000000', '2018-06-30T00:00:00.000000000',\n       '2018-01-07T00:00:00.000000000', '2018-02-07T00:00:00.000000000',\n       '2018-03-07T00:00:00.000000000', '2018-04-07T00:00:00.000000000',\n       '2018-05-07T00:00:00.000000000', '2018-06-07T00:00:00.000000000',\n       '2018-07-07T00:00:00.000000000', '2018-08-07T00:00:00.000000000',\n       '2018-09-07T00:00:00.000000000', '2018-10-07T00:00:00.000000000',\n       '2018-11-07T00:00:00.000000000', '2018-12-07T00:00:00.000000000',\n       '2018-07-13T00:00:00.000000000', '2018-07-14T00:00:00.000000000',\n       '2018-07-15T00:00:00.000000000', '2018-07-16T00:00:00.000000000',\n       '2018-07-17T00:00:00.000000000', '2018-07-18T00:00:00.000000000',\n       '2018-07-19T00:00:00.000000000', '2018-07-20T00:00:00.000000000',\n       '2018-07-21T00:00:00.000000000', '2018-07-22T00:00:00.000000000',\n       '2018-07-23T00:00:00.000000000', '2018-07-24T00:00:00.000000000',\n       '2018-07-25T00:00:00.000000000', '2018-07-26T00:00:00.000000000',\n       '2018-07-27T00:00:00.000000000', '2018-07-28T00:00:00.000000000',\n       '2018-07-29T00:00:00.000000000', '2018-07-30T00:00:00.000000000',\n       '2018-07-31T00:00:00.000000000', '2018-01-08T00:00:00.000000000',\n       '2018-02-08T00:00:00.000000000', '2018-03-08T00:00:00.000000000',\n       '2018-04-08T00:00:00.000000000', '2018-05-08T00:00:00.000000000',\n       '2018-06-08T00:00:00.000000000', '2018-07-08T00:00:00.000000000',\n       '2018-08-08T00:00:00.000000000', '2018-09-08T00:00:00.000000000',\n       '2018-10-08T00:00:00.000000000', '2018-11-08T00:00:00.000000000',\n       '2018-12-08T00:00:00.000000000', '2018-08-13T00:00:00.000000000',\n       '2018-08-14T00:00:00.000000000', '2018-08-15T00:00:00.000000000',\n       '2018-08-16T00:00:00.000000000', '2018-08-17T00:00:00.000000000',\n       '2018-08-18T00:00:00.000000000', '2018-08-19T00:00:00.000000000',\n       '2018-08-20T00:00:00.000000000', '2018-08-21T00:00:00.000000000',\n       '2018-08-22T00:00:00.000000000', '2018-08-23T00:00:00.000000000',\n       '2018-08-24T00:00:00.000000000', '2018-08-25T00:00:00.000000000',\n       '2018-08-26T00:00:00.000000000', '2018-08-27T00:00:00.000000000',\n       '2018-08-28T00:00:00.000000000', '2018-08-29T00:00:00.000000000',\n       '2018-08-30T00:00:00.000000000', '2018-08-31T00:00:00.000000000',\n       '2018-01-09T00:00:00.000000000', '2018-02-09T00:00:00.000000000',\n       '2018-03-09T00:00:00.000000000', '2018-04-09T00:00:00.000000000',\n       '2018-05-09T00:00:00.000000000', '2018-06-09T00:00:00.000000000',\n       '2018-07-09T00:00:00.000000000', '2018-08-09T00:00:00.000000000',\n       '2018-09-09T00:00:00.000000000', '2018-10-09T00:00:00.000000000',\n       '2018-11-09T00:00:00.000000000', '2018-12-09T00:00:00.000000000',\n       '2018-09-13T00:00:00.000000000', '2018-09-14T00:00:00.000000000',\n       '2018-09-15T00:00:00.000000000', '2018-09-16T00:00:00.000000000',\n       '2018-09-17T00:00:00.000000000', '2018-09-18T00:00:00.000000000',\n       '2018-09-19T00:00:00.000000000', '2018-09-20T00:00:00.000000000',\n       '2018-09-21T00:00:00.000000000', '2018-09-22T00:00:00.000000000',\n       '2018-09-23T00:00:00.000000000', '2018-09-24T00:00:00.000000000',\n       '2018-09-25T00:00:00.000000000', '2018-09-26T00:00:00.000000000',\n       '2018-09-27T00:00:00.000000000', '2018-09-28T00:00:00.000000000',\n       '2018-09-29T00:00:00.000000000', '2018-09-30T00:00:00.000000000',\n       '2018-01-10T00:00:00.000000000', '2018-02-10T00:00:00.000000000',\n       '2018-03-10T00:00:00.000000000', '2018-04-10T00:00:00.000000000',\n       '2018-05-10T00:00:00.000000000', '2018-06-10T00:00:00.000000000',\n       '2018-07-10T00:00:00.000000000', '2018-08-10T00:00:00.000000000',\n       '2018-09-10T00:00:00.000000000', '2018-10-10T00:00:00.000000000',\n       '2018-11-10T00:00:00.000000000', '2018-12-10T00:00:00.000000000',\n       '2018-10-13T00:00:00.000000000', '2018-10-14T00:00:00.000000000',\n       '2018-10-15T00:00:00.000000000', '2018-10-16T00:00:00.000000000',\n       '2018-10-17T00:00:00.000000000', '2018-10-18T00:00:00.000000000',\n       '2018-10-19T00:00:00.000000000', '2018-10-20T00:00:00.000000000',\n       '2018-10-21T00:00:00.000000000', '2018-10-22T00:00:00.000000000',\n       '2018-10-23T00:00:00.000000000', '2018-10-24T00:00:00.000000000',\n       '2018-10-25T00:00:00.000000000', '2018-10-26T00:00:00.000000000',\n       '2018-10-27T00:00:00.000000000', '2018-10-28T00:00:00.000000000',\n       '2018-10-29T00:00:00.000000000', '2018-10-30T00:00:00.000000000',\n       '2018-10-31T00:00:00.000000000', '2018-01-11T00:00:00.000000000',\n       '2018-02-11T00:00:00.000000000', '2018-03-11T00:00:00.000000000',\n       '2018-04-11T00:00:00.000000000', '2018-05-11T00:00:00.000000000',\n       '2018-06-11T00:00:00.000000000', '2018-07-11T00:00:00.000000000',\n       '2018-08-11T00:00:00.000000000', '2018-09-11T00:00:00.000000000',\n       '2018-10-11T00:00:00.000000000', '2018-11-11T00:00:00.000000000',\n       '2018-12-11T00:00:00.000000000', '2018-11-13T00:00:00.000000000',\n       '2018-11-14T00:00:00.000000000', '2018-11-15T00:00:00.000000000',\n       '2018-11-16T00:00:00.000000000', '2018-11-17T00:00:00.000000000',\n       '2018-11-18T00:00:00.000000000', '2018-11-19T00:00:00.000000000',\n       '2018-11-20T00:00:00.000000000', '2018-11-21T00:00:00.000000000',\n       '2018-11-22T00:00:00.000000000', '2018-11-23T00:00:00.000000000',\n       '2018-11-24T00:00:00.000000000', '2018-11-25T00:00:00.000000000',\n       '2018-11-26T00:00:00.000000000', '2018-11-27T00:00:00.000000000',\n       '2018-11-28T00:00:00.000000000', '2018-11-29T00:00:00.000000000',\n       '2018-11-30T00:00:00.000000000'], dtype='datetime64[ns]')"
     },
     "execution_count": 53,
     "metadata": {},
     "output_type": "execute_result"
    }
   ],
   "source": [
    "# Actual unique dates in dataframe:\n",
    "df['Date'].unique()"
   ],
   "metadata": {
    "collapsed": false,
    "pycharm": {
     "name": "#%%\n"
    }
   }
  },
  {
   "cell_type": "markdown",
   "source": [
    "The actual number of unique dates meets our expectation,\n",
    "There is no missing values in dates\n",
    "between the duration\n",
    "'2017-12-01' to '2018-11-30'.\n"
   ],
   "metadata": {
    "collapsed": false
   }
  },
  {
   "cell_type": "markdown",
   "source": [
    "### Check for missing hours\n"
   ],
   "metadata": {
    "collapsed": false
   }
  },
  {
   "cell_type": "code",
   "execution_count": 54,
   "outputs": [
    {
     "data": {
      "text/plain": "DatetimeIndex(['2017-12-01', '2017-12-02', '2017-12-03', '2017-12-04',\n               '2017-12-05', '2017-12-06', '2017-12-07', '2017-12-08',\n               '2017-12-09', '2017-12-10',\n               ...\n               '2018-11-21', '2018-11-22', '2018-11-23', '2018-11-24',\n               '2018-11-25', '2018-11-26', '2018-11-27', '2018-11-28',\n               '2018-11-29', '2018-11-30'],\n              dtype='datetime64[ns]', length=365, freq='D')"
     },
     "execution_count": 54,
     "metadata": {},
     "output_type": "execute_result"
    }
   ],
   "source": [
    "pd.date_range('2017-12-01', '2018-11-30')"
   ],
   "metadata": {
    "collapsed": false,
    "pycharm": {
     "name": "#%%\n"
    }
   }
  },
  {
   "cell_type": "markdown",
   "source": [
    "There are 365 days, ideally for each day we should get 24\n",
    " rows of data, the 'Hours' should have 365*24 = 8760 rows.\n",
    " No. of rows =  8760, so there is no missing hours as well."
   ],
   "metadata": {
    "collapsed": false
   }
  },
  {
   "cell_type": "markdown",
   "source": [
    "### Rename the longer column names"
   ],
   "metadata": {
    "collapsed": false
   }
  },
  {
   "cell_type": "code",
   "execution_count": 55,
   "outputs": [
    {
     "name": "stdout",
     "output_type": "stream",
     "text": [
      "<class 'pandas.core.frame.DataFrame'>\n",
      "RangeIndex: 8760 entries, 0 to 8759\n",
      "Data columns (total 14 columns):\n",
      " #   Column                   Non-Null Count  Dtype         \n",
      "---  ------                   --------------  -----         \n",
      " 0   Date                     8760 non-null   datetime64[ns]\n",
      " 1   Rented Bike Count        8760 non-null   int64         \n",
      " 2   Hour                     8760 non-null   int64         \n",
      " 3   Temperature              8760 non-null   float64       \n",
      " 4   Humidity(%)              8760 non-null   int64         \n",
      " 5   Wind speed (m/s)         8760 non-null   float64       \n",
      " 6   Visibility (10m)         8760 non-null   int64         \n",
      " 7   Dew point temperature    8760 non-null   float64       \n",
      " 8   Solar Radiation (MJ/m2)  8760 non-null   float64       \n",
      " 9   Rainfall(mm)             8760 non-null   float64       \n",
      " 10  Snowfall (cm)            8760 non-null   float64       \n",
      " 11  Seasons                  8760 non-null   object        \n",
      " 12  Holiday                  8760 non-null   object        \n",
      " 13  Functioning Day          8760 non-null   object        \n",
      "dtypes: datetime64[ns](1), float64(6), int64(4), object(3)\n",
      "memory usage: 958.2+ KB\n"
     ]
    }
   ],
   "source": [
    "df.rename(columns={\n",
    "    'Temperature(°C)':'Temperature',\n",
    "     'Dew point temperature(°C)':'Dew point temperature'\n",
    "}, inplace=True)\n",
    "#Print the column labels and data types.\n",
    "df.info(verbose=True)\n"
   ],
   "metadata": {
    "collapsed": false,
    "pycharm": {
     "name": "#%%\n"
    }
   }
  },
  {
   "cell_type": "markdown",
   "source": [],
   "metadata": {
    "collapsed": false
   }
  },
  {
   "cell_type": "markdown",
   "source": [
    "### Delete unnecessary columns\n",
    "\n",
    "The 'Dew point temperature(°C)' is highly dependent on the\n",
    "'Temperature(°C)', it will be removed.\n",
    "The 'Holidays' is not related to our question, it will\n",
    "also be removed."
   ],
   "metadata": {
    "collapsed": false
   }
  },
  {
   "cell_type": "code",
   "execution_count": 56,
   "outputs": [
    {
     "name": "stdout",
     "output_type": "stream",
     "text": [
      "<class 'pandas.core.frame.DataFrame'>\n",
      "RangeIndex: 8760 entries, 0 to 8759\n",
      "Data columns (total 12 columns):\n",
      " #   Column                   Non-Null Count  Dtype         \n",
      "---  ------                   --------------  -----         \n",
      " 0   Date                     8760 non-null   datetime64[ns]\n",
      " 1   Rented Bike Count        8760 non-null   int64         \n",
      " 2   Hour                     8760 non-null   int64         \n",
      " 3   Temperature              8760 non-null   float64       \n",
      " 4   Humidity(%)              8760 non-null   int64         \n",
      " 5   Wind speed (m/s)         8760 non-null   float64       \n",
      " 6   Visibility (10m)         8760 non-null   int64         \n",
      " 7   Solar Radiation (MJ/m2)  8760 non-null   float64       \n",
      " 8   Rainfall(mm)             8760 non-null   float64       \n",
      " 9   Snowfall (cm)            8760 non-null   float64       \n",
      " 10  Seasons                  8760 non-null   object        \n",
      " 11  Functioning Day          8760 non-null   object        \n",
      "dtypes: datetime64[ns](1), float64(5), int64(4), object(2)\n",
      "memory usage: 821.4+ KB\n"
     ]
    },
    {
     "name": "stderr",
     "output_type": "stream",
     "text": [
      "/var/folders/d3/hrklkv3d5nl_8rzt8c3y28l00000gn/T/ipykernel_68078/291827846.py:1: FutureWarning: In a future version of pandas all arguments of DataFrame.drop except for the argument 'labels' will be keyword-only\n",
      "  df.drop('Dew point temperature', 1,inplace=True)\n",
      "/var/folders/d3/hrklkv3d5nl_8rzt8c3y28l00000gn/T/ipykernel_68078/291827846.py:2: FutureWarning: In a future version of pandas all arguments of DataFrame.drop except for the argument 'labels' will be keyword-only\n",
      "  df.drop('Holiday', 1,inplace=True)\n"
     ]
    }
   ],
   "source": [
    "df.drop('Dew point temperature', 1,inplace=True)\n",
    "df.drop('Holiday', 1,inplace=True)\n",
    "df.info(verbose=True)"
   ],
   "metadata": {
    "collapsed": false,
    "pycharm": {
     "name": "#%%\n"
    }
   }
  },
  {
   "cell_type": "markdown",
   "source": [
    "## Save the prepared dataset"
   ],
   "metadata": {
    "collapsed": false
   }
  },
  {
   "cell_type": "code",
   "source": [
    "df.to_csv('Prepared_data.csv',index=False)\n"
   ],
   "metadata": {
    "collapsed": false,
    "pycharm": {
     "name": "#%%\n"
    }
   },
   "execution_count": 57,
   "outputs": []
  }
 ],
 "metadata": {
  "kernelspec": {
   "display_name": "Python 3",
   "language": "python",
   "name": "python3"
  },
  "language_info": {
   "codemirror_mode": {
    "name": "ipython",
    "version": 2
   },
   "file_extension": ".py",
   "mimetype": "text/x-python",
   "name": "python",
   "nbconvert_exporter": "python",
   "pygments_lexer": "ipython2",
   "version": "2.7.6"
  }
 },
 "nbformat": 4,
 "nbformat_minor": 0
}