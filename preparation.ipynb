{
 "cells": [
  {
   "cell_type": "markdown",
   "metadata": {
    "collapsed": true,
    "pycharm": {
     "name": "#%% md\n"
    }
   },
   "source": [
    "# Data preparation\n",
    "## Dataset Description\n",
    "Currently, rental bikes are introduced in many urban\n",
    "cities for the enhancement of mobility comfort. It is\n",
    "important to make the rental bike available and\n",
    "accessible to the public at the right time as it lessens\n",
    " the waiting time. Eventually, providing the city with a\n",
    " stable supply of rental bikes becomes a major concern.\n",
    " The crucial part is the prediction of bike count\n",
    " required at each hour for the stable supply of rental bikes.\n",
    "The dataset contains weather information (Temperature,\n",
    "Humidity, Windspeed, Visibility, Dewpoint, Solar\n",
    "radiation, Snowfall, Rainfall), the number of bikes\n",
    "rented per hour and date information.\n"
   ]
  },
  {
   "cell_type": "code",
   "source": [
    "#Import package\n",
    "import pandas as pd"
   ],
   "metadata": {
    "collapsed": false,
    "pycharm": {
     "name": "#%%\n"
    }
   },
   "execution_count": 1,
   "outputs": []
  },
  {
   "cell_type": "code",
   "execution_count": 2,
   "outputs": [
    {
     "data": {
      "text/plain": "         Date  Rented Bike Count  Hour  Temperature(°C)  Humidity(%)  \\\n0  01/12/2017                254     0             -5.2           37   \n1  01/12/2017                204     1             -5.5           38   \n2  01/12/2017                173     2             -6.0           39   \n3  01/12/2017                107     3             -6.2           40   \n4  01/12/2017                 78     4             -6.0           36   \n\n   Wind speed (m/s)  Visibility (10m)  Dew point temperature(°C)  \\\n0               2.2              2000                      -17.6   \n1               0.8              2000                      -17.6   \n2               1.0              2000                      -17.7   \n3               0.9              2000                      -17.6   \n4               2.3              2000                      -18.6   \n\n   Solar Radiation (MJ/m2)  Rainfall(mm)  Snowfall (cm) Seasons     Holiday  \\\n0                      0.0           0.0            0.0  Winter  No Holiday   \n1                      0.0           0.0            0.0  Winter  No Holiday   \n2                      0.0           0.0            0.0  Winter  No Holiday   \n3                      0.0           0.0            0.0  Winter  No Holiday   \n4                      0.0           0.0            0.0  Winter  No Holiday   \n\n  Functioning Day  \n0             Yes  \n1             Yes  \n2             Yes  \n3             Yes  \n4             Yes  ",
      "text/html": "<div>\n<style scoped>\n    .dataframe tbody tr th:only-of-type {\n        vertical-align: middle;\n    }\n\n    .dataframe tbody tr th {\n        vertical-align: top;\n    }\n\n    .dataframe thead th {\n        text-align: right;\n    }\n</style>\n<table border=\"1\" class=\"dataframe\">\n  <thead>\n    <tr style=\"text-align: right;\">\n      <th></th>\n      <th>Date</th>\n      <th>Rented Bike Count</th>\n      <th>Hour</th>\n      <th>Temperature(°C)</th>\n      <th>Humidity(%)</th>\n      <th>Wind speed (m/s)</th>\n      <th>Visibility (10m)</th>\n      <th>Dew point temperature(°C)</th>\n      <th>Solar Radiation (MJ/m2)</th>\n      <th>Rainfall(mm)</th>\n      <th>Snowfall (cm)</th>\n      <th>Seasons</th>\n      <th>Holiday</th>\n      <th>Functioning Day</th>\n    </tr>\n  </thead>\n  <tbody>\n    <tr>\n      <th>0</th>\n      <td>01/12/2017</td>\n      <td>254</td>\n      <td>0</td>\n      <td>-5.2</td>\n      <td>37</td>\n      <td>2.2</td>\n      <td>2000</td>\n      <td>-17.6</td>\n      <td>0.0</td>\n      <td>0.0</td>\n      <td>0.0</td>\n      <td>Winter</td>\n      <td>No Holiday</td>\n      <td>Yes</td>\n    </tr>\n    <tr>\n      <th>1</th>\n      <td>01/12/2017</td>\n      <td>204</td>\n      <td>1</td>\n      <td>-5.5</td>\n      <td>38</td>\n      <td>0.8</td>\n      <td>2000</td>\n      <td>-17.6</td>\n      <td>0.0</td>\n      <td>0.0</td>\n      <td>0.0</td>\n      <td>Winter</td>\n      <td>No Holiday</td>\n      <td>Yes</td>\n    </tr>\n    <tr>\n      <th>2</th>\n      <td>01/12/2017</td>\n      <td>173</td>\n      <td>2</td>\n      <td>-6.0</td>\n      <td>39</td>\n      <td>1.0</td>\n      <td>2000</td>\n      <td>-17.7</td>\n      <td>0.0</td>\n      <td>0.0</td>\n      <td>0.0</td>\n      <td>Winter</td>\n      <td>No Holiday</td>\n      <td>Yes</td>\n    </tr>\n    <tr>\n      <th>3</th>\n      <td>01/12/2017</td>\n      <td>107</td>\n      <td>3</td>\n      <td>-6.2</td>\n      <td>40</td>\n      <td>0.9</td>\n      <td>2000</td>\n      <td>-17.6</td>\n      <td>0.0</td>\n      <td>0.0</td>\n      <td>0.0</td>\n      <td>Winter</td>\n      <td>No Holiday</td>\n      <td>Yes</td>\n    </tr>\n    <tr>\n      <th>4</th>\n      <td>01/12/2017</td>\n      <td>78</td>\n      <td>4</td>\n      <td>-6.0</td>\n      <td>36</td>\n      <td>2.3</td>\n      <td>2000</td>\n      <td>-18.6</td>\n      <td>0.0</td>\n      <td>0.0</td>\n      <td>0.0</td>\n      <td>Winter</td>\n      <td>No Holiday</td>\n      <td>Yes</td>\n    </tr>\n  </tbody>\n</table>\n</div>"
     },
     "execution_count": 2,
     "metadata": {},
     "output_type": "execute_result"
    }
   ],
   "source": [
    "# import dataset\n",
    "df = pd.read_csv(\"SeoulBikeData.csv\",\n",
    "                 encoding='latin1')\n",
    "df.head()"
   ],
   "metadata": {
    "collapsed": false,
    "pycharm": {
     "name": "#%%\n"
    }
   }
  },
  {
   "cell_type": "code",
   "execution_count": 3,
   "outputs": [
    {
     "data": {
      "text/plain": "            Date  Rented Bike Count  Hour  Temperature(°C)  Humidity(%)  \\\n8755  30/11/2018               1003    19              4.2           34   \n8756  30/11/2018                764    20              3.4           37   \n8757  30/11/2018                694    21              2.6           39   \n8758  30/11/2018                712    22              2.1           41   \n8759  30/11/2018                584    23              1.9           43   \n\n      Wind speed (m/s)  Visibility (10m)  Dew point temperature(°C)  \\\n8755               2.6              1894                      -10.3   \n8756               2.3              2000                       -9.9   \n8757               0.3              1968                       -9.9   \n8758               1.0              1859                       -9.8   \n8759               1.3              1909                       -9.3   \n\n      Solar Radiation (MJ/m2)  Rainfall(mm)  Snowfall (cm) Seasons  \\\n8755                      0.0           0.0            0.0  Autumn   \n8756                      0.0           0.0            0.0  Autumn   \n8757                      0.0           0.0            0.0  Autumn   \n8758                      0.0           0.0            0.0  Autumn   \n8759                      0.0           0.0            0.0  Autumn   \n\n         Holiday Functioning Day  \n8755  No Holiday             Yes  \n8756  No Holiday             Yes  \n8757  No Holiday             Yes  \n8758  No Holiday             Yes  \n8759  No Holiday             Yes  ",
      "text/html": "<div>\n<style scoped>\n    .dataframe tbody tr th:only-of-type {\n        vertical-align: middle;\n    }\n\n    .dataframe tbody tr th {\n        vertical-align: top;\n    }\n\n    .dataframe thead th {\n        text-align: right;\n    }\n</style>\n<table border=\"1\" class=\"dataframe\">\n  <thead>\n    <tr style=\"text-align: right;\">\n      <th></th>\n      <th>Date</th>\n      <th>Rented Bike Count</th>\n      <th>Hour</th>\n      <th>Temperature(°C)</th>\n      <th>Humidity(%)</th>\n      <th>Wind speed (m/s)</th>\n      <th>Visibility (10m)</th>\n      <th>Dew point temperature(°C)</th>\n      <th>Solar Radiation (MJ/m2)</th>\n      <th>Rainfall(mm)</th>\n      <th>Snowfall (cm)</th>\n      <th>Seasons</th>\n      <th>Holiday</th>\n      <th>Functioning Day</th>\n    </tr>\n  </thead>\n  <tbody>\n    <tr>\n      <th>8755</th>\n      <td>30/11/2018</td>\n      <td>1003</td>\n      <td>19</td>\n      <td>4.2</td>\n      <td>34</td>\n      <td>2.6</td>\n      <td>1894</td>\n      <td>-10.3</td>\n      <td>0.0</td>\n      <td>0.0</td>\n      <td>0.0</td>\n      <td>Autumn</td>\n      <td>No Holiday</td>\n      <td>Yes</td>\n    </tr>\n    <tr>\n      <th>8756</th>\n      <td>30/11/2018</td>\n      <td>764</td>\n      <td>20</td>\n      <td>3.4</td>\n      <td>37</td>\n      <td>2.3</td>\n      <td>2000</td>\n      <td>-9.9</td>\n      <td>0.0</td>\n      <td>0.0</td>\n      <td>0.0</td>\n      <td>Autumn</td>\n      <td>No Holiday</td>\n      <td>Yes</td>\n    </tr>\n    <tr>\n      <th>8757</th>\n      <td>30/11/2018</td>\n      <td>694</td>\n      <td>21</td>\n      <td>2.6</td>\n      <td>39</td>\n      <td>0.3</td>\n      <td>1968</td>\n      <td>-9.9</td>\n      <td>0.0</td>\n      <td>0.0</td>\n      <td>0.0</td>\n      <td>Autumn</td>\n      <td>No Holiday</td>\n      <td>Yes</td>\n    </tr>\n    <tr>\n      <th>8758</th>\n      <td>30/11/2018</td>\n      <td>712</td>\n      <td>22</td>\n      <td>2.1</td>\n      <td>41</td>\n      <td>1.0</td>\n      <td>1859</td>\n      <td>-9.8</td>\n      <td>0.0</td>\n      <td>0.0</td>\n      <td>0.0</td>\n      <td>Autumn</td>\n      <td>No Holiday</td>\n      <td>Yes</td>\n    </tr>\n    <tr>\n      <th>8759</th>\n      <td>30/11/2018</td>\n      <td>584</td>\n      <td>23</td>\n      <td>1.9</td>\n      <td>43</td>\n      <td>1.3</td>\n      <td>1909</td>\n      <td>-9.3</td>\n      <td>0.0</td>\n      <td>0.0</td>\n      <td>0.0</td>\n      <td>Autumn</td>\n      <td>No Holiday</td>\n      <td>Yes</td>\n    </tr>\n  </tbody>\n</table>\n</div>"
     },
     "execution_count": 3,
     "metadata": {},
     "output_type": "execute_result"
    }
   ],
   "source": [
    "df.tail()"
   ],
   "metadata": {
    "collapsed": false,
    "pycharm": {
     "name": "#%%\n"
    }
   }
  },
  {
   "cell_type": "markdown",
   "source": [
    "## More information based on inspection\n",
    "The dataset contains data from 01/12/2017 to 30/11/2018.\n",
    "Each day was split into 24 hours,so we had 24 rows for\n",
    "each day.\n",
    "\n"
   ],
   "metadata": {
    "collapsed": false,
    "pycharm": {
     "name": "#%% md\n"
    }
   }
  },
  {
   "cell_type": "code",
   "execution_count": 4,
   "outputs": [
    {
     "name": "stdout",
     "output_type": "stream",
     "text": [
      "No. of columns =  14\n",
      "No. of rows =  8760\n",
      "(8760, 14)\n"
     ]
    }
   ],
   "source": [
    "#Display some basic information about the data frame\n",
    "#1. Print the number of rows and columns in the DataFrame\n",
    "print('No. of columns = ',len(df.columns))\n",
    "print('No. of rows = ',len(df))\n",
    "print(df.shape)"
   ],
   "metadata": {
    "collapsed": false,
    "pycharm": {
     "name": "#%%\n"
    }
   }
  },
  {
   "cell_type": "code",
   "source": [
    "##Rename the longer column names\n",
    "df.rename(columns={\n",
    "    'Temperature(°C)':'Temperature',\n",
    "     'Dew point temperature(°C)':'Dew point temperature'\n",
    "}, inplace=True)\n",
    "\n",
    "#Print the column labels and data types.\n",
    "df.info(verbose=True)\n"
   ],
   "metadata": {
    "collapsed": false,
    "pycharm": {
     "name": "#%%\n"
    }
   },
   "execution_count": 5,
   "outputs": [
    {
     "name": "stdout",
     "output_type": "stream",
     "text": [
      "<class 'pandas.core.frame.DataFrame'>\n",
      "RangeIndex: 8760 entries, 0 to 8759\n",
      "Data columns (total 14 columns):\n",
      " #   Column                   Non-Null Count  Dtype  \n",
      "---  ------                   --------------  -----  \n",
      " 0   Date                     8760 non-null   object \n",
      " 1   Rented Bike Count        8760 non-null   int64  \n",
      " 2   Hour                     8760 non-null   int64  \n",
      " 3   Temperature              8760 non-null   float64\n",
      " 4   Humidity(%)              8760 non-null   int64  \n",
      " 5   Wind speed (m/s)         8760 non-null   float64\n",
      " 6   Visibility (10m)         8760 non-null   int64  \n",
      " 7   Dew point temperature    8760 non-null   float64\n",
      " 8   Solar Radiation (MJ/m2)  8760 non-null   float64\n",
      " 9   Rainfall(mm)             8760 non-null   float64\n",
      " 10  Snowfall (cm)            8760 non-null   float64\n",
      " 11  Seasons                  8760 non-null   object \n",
      " 12  Holiday                  8760 non-null   object \n",
      " 13  Functioning Day          8760 non-null   object \n",
      "dtypes: float64(6), int64(4), object(4)\n",
      "memory usage: 958.2+ KB\n"
     ]
    }
   ]
  },
  {
   "cell_type": "code",
   "execution_count": 14,
   "outputs": [
    {
     "name": "stdout",
     "output_type": "stream",
     "text": [
      "datetime64[ns]\n"
     ]
    }
   ],
   "source": [
    "#Convert 'Date' to datetime\n",
    "df['Date'] = pd.to_datetime(df['Date'])\n",
    "print(df['Date'].dtypes)\n",
    "#Now we have the right data types for 'Date'."
   ],
   "metadata": {
    "collapsed": false,
    "pycharm": {
     "name": "#%%\n"
    }
   }
  },
  {
   "cell_type": "markdown",
   "source": [
    "## Delete unnecessary columns\n",
    "\n",
    "The 'Dew point temperature(°C)' is highly dependent on the\n",
    "'Temperature(°C)', it will be removed.\n",
    "The 'Holidays' is not related to our question, it will\n",
    "also be removed."
   ],
   "metadata": {
    "collapsed": false,
    "pycharm": {
     "name": "#%% md\n"
    }
   }
  },
  {
   "cell_type": "code",
   "execution_count": 7,
   "outputs": [
    {
     "name": "stdout",
     "output_type": "stream",
     "text": [
      "<class 'pandas.core.frame.DataFrame'>\n",
      "RangeIndex: 8760 entries, 0 to 8759\n",
      "Data columns (total 12 columns):\n",
      " #   Column                   Non-Null Count  Dtype  \n",
      "---  ------                   --------------  -----  \n",
      " 0   Date                     8760 non-null   object \n",
      " 1   Rented Bike Count        8760 non-null   int64  \n",
      " 2   Hour                     8760 non-null   int64  \n",
      " 3   Temperature              8760 non-null   float64\n",
      " 4   Humidity(%)              8760 non-null   int64  \n",
      " 5   Wind speed (m/s)         8760 non-null   float64\n",
      " 6   Visibility (10m)         8760 non-null   int64  \n",
      " 7   Solar Radiation (MJ/m2)  8760 non-null   float64\n",
      " 8   Rainfall(mm)             8760 non-null   float64\n",
      " 9   Snowfall (cm)            8760 non-null   float64\n",
      " 10  Seasons                  8760 non-null   object \n",
      " 11  Functioning Day          8760 non-null   object \n",
      "dtypes: float64(5), int64(4), object(3)\n",
      "memory usage: 821.4+ KB\n"
     ]
    },
    {
     "name": "stderr",
     "output_type": "stream",
     "text": [
      "/var/folders/d3/hrklkv3d5nl_8rzt8c3y28l00000gn/T/ipykernel_65438/1638117179.py:1: FutureWarning: In a future version of pandas all arguments of DataFrame.drop except for the argument 'labels' will be keyword-only\n",
      "  df.drop('Dew point temperature', 1,inplace=True)\n",
      "/var/folders/d3/hrklkv3d5nl_8rzt8c3y28l00000gn/T/ipykernel_65438/1638117179.py:2: FutureWarning: In a future version of pandas all arguments of DataFrame.drop except for the argument 'labels' will be keyword-only\n",
      "  df.drop('Holiday', 1,inplace=True)\n"
     ]
    }
   ],
   "source": [
    "df.drop('Dew point temperature', 1,inplace=True)\n",
    "df.drop('Holiday', 1,inplace=True)\n",
    "df.info(verbose=True)"
   ],
   "metadata": {
    "collapsed": false,
    "pycharm": {
     "name": "#%%\n"
    }
   }
  },
  {
   "cell_type": "code",
   "execution_count": 8,
   "outputs": [
    {
     "data": {
      "text/plain": "Date                       0\nRented Bike Count          0\nHour                       0\nTemperature                0\nHumidity(%)                0\nWind speed (m/s)           0\nVisibility (10m)           0\nSolar Radiation (MJ/m2)    0\nRainfall(mm)               0\nSnowfall (cm)              0\nSeasons                    0\nFunctioning Day            0\ndtype: int64"
     },
     "execution_count": 8,
     "metadata": {},
     "output_type": "execute_result"
    }
   ],
   "source": [
    "# check for null values:\n",
    "df.isna().sum()"
   ],
   "metadata": {
    "collapsed": false,
    "pycharm": {
     "name": "#%%\n"
    }
   }
  },
  {
   "cell_type": "markdown",
   "source": [
    "There is no null value in the dataset."
   ],
   "metadata": {
    "collapsed": false,
    "pycharm": {
     "name": "#%% md\n"
    }
   }
  },
  {
   "cell_type": "markdown",
   "source": [
    "Check for missing values:\n"
   ],
   "metadata": {
    "collapsed": false
   }
  },
  {
   "cell_type": "code",
   "source": [
    "df.to_csv('Prepared_data.csv',index=False)\n",
    "print('saved')"
   ],
   "metadata": {
    "collapsed": false,
    "pycharm": {
     "name": "#%%\n"
    }
   },
   "execution_count": 10,
   "outputs": [
    {
     "name": "stdout",
     "output_type": "stream",
     "text": [
      "saved\n"
     ]
    }
   ]
  },
  {
   "cell_type": "code",
   "execution_count": 10,
   "outputs": [],
   "source": [],
   "metadata": {
    "collapsed": false,
    "pycharm": {
     "name": "#%%\n"
    }
   }
  }
 ],
 "metadata": {
  "kernelspec": {
   "display_name": "Python 3",
   "language": "python",
   "name": "python3"
  },
  "language_info": {
   "codemirror_mode": {
    "name": "ipython",
    "version": 2
   },
   "file_extension": ".py",
   "mimetype": "text/x-python",
   "name": "python",
   "nbconvert_exporter": "python",
   "pygments_lexer": "ipython2",
   "version": "2.7.6"
  }
 },
 "nbformat": 4,
 "nbformat_minor": 0
}